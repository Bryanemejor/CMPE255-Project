{
  "nbformat": 4,
  "nbformat_minor": 0,
  "metadata": {
    "kernelspec": {
      "display_name": "Python 3",
      "language": "python",
      "name": "python3"
    },
    "language_info": {
      "codemirror_mode": {
        "name": "ipython",
        "version": 3
      },
      "file_extension": ".py",
      "mimetype": "text/x-python",
      "name": "python",
      "nbconvert_exporter": "python",
      "pygments_lexer": "ipython3",
      "version": "3.7.3"
    },
    "colab": {
      "name": "FeatureSelection_ExtraTreeClassifier.ipynb",
      "provenance": [],
      "collapsed_sections": [],
      "machine_shape": "hm"
    }
  },
  "cells": [
    {
      "cell_type": "code",
      "metadata": {
        "id": "7gkKYsMIdQt2",
        "colab_type": "code",
        "outputId": "a7680ca5-4f2f-4a4f-a6d5-7151200224fe",
        "colab": {
          "base_uri": "https://localhost:8080/",
          "height": 138
        }
      },
      "source": [
        "import pandas as pd\n",
        "import numpy as np\n",
        "import seaborn as sns\n",
        "import matplotlib.pyplot as plt\n",
        "from wordcloud import WordCloud, STOPWORDS\n",
        "from sklearn.ensemble import RandomForestClassifier\n",
        "from sklearn.feature_selection import VarianceThreshold\n",
        "from sklearn.ensemble import ExtraTreesClassifier\n",
        "from sklearn.utils import shuffle\n",
        "from collections import Counter\n",
        "from sklearn.datasets import make_classification\n",
        "from imblearn.under_sampling import RandomUnderSampler\n",
        "from imblearn.over_sampling import SMOTE\n",
        "\n",
        "from sklearn.datasets import make_classification\n",
        "from sklearn.feature_selection import SelectFromModel\n",
        "import warnings\n",
        "with warnings.catch_warnings():\n",
        "    warnings.filterwarnings(\"ignore\", category=DeprecationWarning)"
      ],
      "execution_count": 3,
      "outputs": [
        {
          "output_type": "stream",
          "text": [
            "/usr/local/lib/python3.6/dist-packages/statsmodels/tools/_testing.py:19: FutureWarning: pandas.util.testing is deprecated. Use the functions in the public API at pandas.testing instead.\n",
            "  import pandas.util.testing as tm\n",
            "/usr/local/lib/python3.6/dist-packages/sklearn/externals/six.py:31: FutureWarning: The module is deprecated in version 0.21 and will be removed in version 0.23 since we've dropped support for Python 2.7. Please rely on the official version of six (https://pypi.org/project/six/).\n",
            "  \"(https://pypi.org/project/six/).\", FutureWarning)\n",
            "/usr/local/lib/python3.6/dist-packages/sklearn/utils/deprecation.py:144: FutureWarning: The sklearn.neighbors.base module is  deprecated in version 0.22 and will be removed in version 0.24. The corresponding classes / functions should instead be imported from sklearn.neighbors. Anything that cannot be imported from sklearn.neighbors is now part of the private API.\n",
            "  warnings.warn(message, FutureWarning)\n"
          ],
          "name": "stderr"
        }
      ]
    },
    {
      "cell_type": "code",
      "metadata": {
        "id": "Q7jIWorfGrjm",
        "colab_type": "code",
        "outputId": "a900184a-ad04-42fe-dbce-9a975b6692a9",
        "colab": {
          "base_uri": "https://localhost:8080/",
          "height": 121
        }
      },
      "source": [
        "from google.colab import drive\n",
        "drive.mount('/content/drive')"
      ],
      "execution_count": 4,
      "outputs": [
        {
          "output_type": "stream",
          "text": [
            "Go to this URL in a browser: https://accounts.google.com/o/oauth2/auth?client_id=947318989803-6bn6qk8qdgf4n4g3pfee6491hc0brc4i.apps.googleusercontent.com&redirect_uri=urn%3aietf%3awg%3aoauth%3a2.0%3aoob&response_type=code&scope=email%20https%3a%2f%2fwww.googleapis.com%2fauth%2fdocs.test%20https%3a%2f%2fwww.googleapis.com%2fauth%2fdrive%20https%3a%2f%2fwww.googleapis.com%2fauth%2fdrive.photos.readonly%20https%3a%2f%2fwww.googleapis.com%2fauth%2fpeopleapi.readonly\n",
            "\n",
            "Enter your authorization code:\n",
            "··········\n",
            "Mounted at /content/drive\n"
          ],
          "name": "stdout"
        }
      ]
    },
    {
      "cell_type": "code",
      "metadata": {
        "id": "rNEn_YTQdQt6",
        "colab_type": "code",
        "colab": {}
      },
      "source": [
        "\n",
        "# Attribute Information:\n",
        "\n",
        "data_info = pd.read_csv(\"/content/drive/My Drive/Data/NUSW-NB15_features.csv\", encoding = \"ISO-8859-1\")"
      ],
      "execution_count": 0,
      "outputs": []
    },
    {
      "cell_type": "code",
      "metadata": {
        "id": "kktPk1tYdQt8",
        "colab_type": "code",
        "colab": {}
      },
      "source": [
        "\n",
        "# Retrieve Attribute Names\n",
        "\n",
        "column_attributes = list (data_info['Name'])"
      ],
      "execution_count": 0,
      "outputs": []
    },
    {
      "cell_type": "code",
      "metadata": {
        "id": "BpgVQMDsdQt_",
        "colab_type": "code",
        "colab": {}
      },
      "source": [
        "# Read the data available in 4 csv files using temporary data frames\n",
        "\n",
        "dataframe1 = pd.read_csv(\"/content/drive/My Drive/Data/UNSW-NB15_1.csv\",low_memory=False, header=None)\n",
        "dataframe2 = pd.read_csv(\"/content/drive/My Drive/Data/UNSW-NB15_2.csv\", low_memory=False, header=None)\n",
        "dataframe3 = pd.read_csv(\"/content/drive/My Drive/Data/UNSW-NB15_3.csv\", low_memory=False, header=None)\n",
        "dataframe4 = pd.read_csv(\"/content/drive/My Drive/Data/UNSW-NB15_4.csv\",low_memory=False, header=None)"
      ],
      "execution_count": 0,
      "outputs": []
    },
    {
      "cell_type": "code",
      "metadata": {
        "id": "9QSO4yVPdQuB",
        "colab_type": "code",
        "colab": {}
      },
      "source": [
        "# Name the columns of all data frames using attribute names from features.csv\n",
        "\n",
        "df_list = [dataframe1,dataframe2,dataframe3,dataframe4]\n",
        "for df in df_list:\n",
        "    name = [v.lower() for k, v in enumerate(column_attributes)]\n",
        "    df.columns = name"
      ],
      "execution_count": 0,
      "outputs": []
    },
    {
      "cell_type": "code",
      "metadata": {
        "id": "UJ0OQncUdQuD",
        "colab_type": "code",
        "outputId": "3147e483-73aa-45fe-c52b-c3679f8d1a5f",
        "colab": {
          "base_uri": "https://localhost:8080/",
          "height": 34
        }
      },
      "source": [
        "# Concatenate the 4 temporary data frames into one single data frame\n",
        "\n",
        "dataset = pd.concat([dataframe1, dataframe2, dataframe3, dataframe4])\n",
        "dataset.shape"
      ],
      "execution_count": 9,
      "outputs": [
        {
          "output_type": "execute_result",
          "data": {
            "text/plain": [
              "(2540047, 49)"
            ]
          },
          "metadata": {
            "tags": []
          },
          "execution_count": 9
        }
      ]
    },
    {
      "cell_type": "code",
      "metadata": {
        "id": "zgxfQczKdQuG",
        "colab_type": "code",
        "colab": {}
      },
      "source": [
        "\n",
        "# Delete temporary data frames\n",
        "\n",
        "del dataframe1\n",
        "del dataframe2\n",
        "del dataframe3\n",
        "del dataframe4"
      ],
      "execution_count": 0,
      "outputs": []
    },
    {
      "cell_type": "code",
      "metadata": {
        "id": "Vyihfhl8dQuJ",
        "colab_type": "code",
        "outputId": "7bf613db-5935-4b25-8967-7736b0bf5d3c",
        "colab": {
          "base_uri": "https://localhost:8080/",
          "height": 366
        }
      },
      "source": [
        "# Function to show the different attack cateegories present in the dataset\n",
        "\n",
        "stopwords = set(STOPWORDS)\n",
        "def show_wordcloud(data, title = None):\n",
        "\n",
        "    attack_catgs = data.loc[:,'attack_cat'].replace('Backdoor','Backdoors', regex=False)\n",
        "    attack_catgs = attack_catgs.dropna().to_numpy()\n",
        "    attack_catgs = [x.strip(' ') for x in attack_catgs]\n",
        "    attack_catgs = np.unique(attack_catgs)\n",
        "    text = \" \".join(str(item) for item in attack_catgs)\n",
        "    wordcloud = WordCloud(\n",
        "        background_color='white',\n",
        "        collocations=False,\n",
        "        stopwords=stopwords,\n",
        "        max_words=200,\n",
        "        max_font_size=40, \n",
        "        scale=3,\n",
        "        random_state=1 # chosen at random by flipping a coin; it was heads\n",
        "    ).generate(text)\n",
        " \n",
        "    fig = plt.figure(1, figsize=(12, 12))\n",
        "    plt.axis('off')\n",
        "    if title: \n",
        "        fig.suptitle(title, fontsize=20)\n",
        "        fig.subplots_adjust(top=2.3)\n",
        "\n",
        "    plt.imshow(wordcloud)\n",
        "    plt.show()\n",
        "    \n",
        "show_wordcloud(dataset)"
      ],
      "execution_count": 11,
      "outputs": [
        {
          "output_type": "display_data",
          "data": {
            "image/png": "[encoded data removed]",
            "text/plain": [
              "<Figure size 864x864 with 1 Axes>"
            ]
          },
          "metadata": {
            "tags": [],
            "needs_background": "light"
          }
        }
      ]
    },
    {
      "cell_type": "code",
      "metadata": {
        "id": "mk6-KfSxdQuL",
        "colab_type": "code",
        "colab": {}
      },
      "source": [
        "# Plot to show the distribution of all attack categories\n",
        "\n",
        "def plot_attack_category(data):\n",
        "    attack_catgs = data.loc[:,'attack_cat'].replace('Backdoor','Backdoors', regex=False)\n",
        "    attack_catgs = attack_catgs.dropna().to_numpy()\n",
        "    attack_catgs = [x.strip(' ') for x in attack_catgs]\n",
        "    sns.set(rc={'figure.figsize':(15,10),\"font.size\":70,\"axes.titlesize\":40,\"axes.labelsize\":20},style=\"white\")\n",
        "    catg_plot = sns.countplot(attack_catgs,data = data)\n",
        "    for p in catg_plot.patches:\n",
        "      height = p.get_height()\n",
        "      catg_plot.text(p.get_x()+p.get_width()/2., height + 0.1,height ,ha=\"center\",fontsize = 15)\n",
        "    \n"
      ],
      "execution_count": 0,
      "outputs": []
    },
    {
      "cell_type": "code",
      "metadata": {
        "id": "Q_xtWn_EdQuN",
        "colab_type": "code",
        "outputId": "892bc81c-ac93-4fcc-f7be-ddf7e1b0e9e4",
        "colab": {
          "base_uri": "https://localhost:8080/",
          "height": 67
        }
      },
      "source": [
        "# Provided data is not consistent. Check and make relevant changes\n",
        "\n",
        "columns_with_space = dataset.columns[dataset.isin([' ']).any()].tolist()\n",
        "print('columns_with_space ',columns_with_space)\n",
        "columns_with_null = dataset.columns[dataset.isna().any()].tolist()\n",
        "print('columns_with_null ', columns_with_null)\n",
        "columns_with_dash = dataset.columns[dataset.isin(['-']).any()].tolist()\n",
        "print('columns_with_dash', columns_with_dash)"
      ],
      "execution_count": 13,
      "outputs": [
        {
          "output_type": "stream",
          "text": [
            "columns_with_space  ['ct_ftp_cmd']\n",
            "columns_with_null  ['ct_flw_http_mthd', 'is_ftp_login', 'attack_cat']\n",
            "columns_with_dash ['sport', 'dsport', 'service']\n"
          ],
          "name": "stdout"
        }
      ]
    },
    {
      "cell_type": "code",
      "metadata": {
        "id": "ro9A58PTdQuQ",
        "colab_type": "code",
        "colab": {}
      },
      "source": [
        "\n",
        "# Handle null and '-' values\n",
        "\n",
        "# Where attack_cat not mentioned, replace with 'Normal'\n",
        "dataset.loc[:,'attack_cat'] = dataset.loc[:,'attack_cat'].replace(np.nan,'Normal', regex=True)\n",
        "\n",
        "dataset.loc[:,'ct_flw_http_mthd'] = dataset.loc[:,'ct_flw_http_mthd'].replace(np.nan,0, regex=True)\n",
        "dataset.loc[:,'is_ftp_login'] = dataset.loc[:,'is_ftp_login'].replace(np.nan,0, regex=True)\n",
        "\n",
        "dataset.loc[:,'ct_ftp_cmd'] = dataset.loc[:,'ct_ftp_cmd'].replace(' ',0, regex=True)\n",
        "\n",
        "dataset.loc[:,'sport'] = dataset.loc[:,'sport'].replace('-',0, regex=False)\n",
        "dataset.loc[:,'dsport'] = dataset.loc[:,'dsport'].replace('-',0, regex=False)\n",
        "dataset.loc[:,'service'] = dataset.loc[:,'service'].replace('-','Others', regex=False)\n",
        "\n",
        "dataset.loc[:,'attack_cat'] = dataset.loc[:,'attack_cat'].replace('Backdoor','Backdoors', regex=False)"
      ],
      "execution_count": 0,
      "outputs": []
    },
    {
      "cell_type": "code",
      "metadata": {
        "id": "gIZUXB5hdQuT",
        "colab_type": "code",
        "outputId": "0f9074a6-dcff-4344-a034-a189b17e2aa8",
        "colab": {
          "base_uri": "https://localhost:8080/",
          "height": 67
        }
      },
      "source": [
        "# Columns that have String values\n",
        "\n",
        "categorical_values = dataset.select_dtypes(exclude=['number']).keys()\n",
        "print('categorical_values ', categorical_values)"
      ],
      "execution_count": 15,
      "outputs": [
        {
          "output_type": "stream",
          "text": [
            "categorical_values  Index(['srcip', 'sport', 'dstip', 'dsport', 'proto', 'state', 'service',\n",
            "       'ct_ftp_cmd', 'attack_cat'],\n",
            "      dtype='object')\n"
          ],
          "name": "stdout"
        }
      ]
    },
    {
      "cell_type": "code",
      "metadata": {
        "id": "qLZOUFoBdQuX",
        "colab_type": "code",
        "outputId": "6829b2e8-d85f-428f-8275-6633f6fd34cc",
        "colab": {
          "base_uri": "https://localhost:8080/",
          "height": 50
        }
      },
      "source": [
        "# ct_ftp_cmd field has erroneous String values, such as '0' instead of 0. Handle those values\n",
        "\n",
        "arrg = dataset.loc[:, 'ct_ftp_cmd'].astype('str')\n",
        "dataset.loc[:, 'ct_ftp_cmd'] = pd.to_numeric(arrg, errors='coerce').fillna(0).astype(np.int32)\n",
        "print(dataset.loc[:, 'ct_ftp_cmd'].unique())\n",
        "print('ct_ftp_cmd', dataset.loc[:, 'ct_ftp_cmd'].dtypes)"
      ],
      "execution_count": 16,
      "outputs": [
        {
          "output_type": "stream",
          "text": [
            "[0 1 6 2 4 8 5 3]\n",
            "ct_ftp_cmd int32\n"
          ],
          "name": "stdout"
        }
      ]
    },
    {
      "cell_type": "code",
      "metadata": {
        "id": "0c0yJhwVdQuZ",
        "colab_type": "code",
        "colab": {}
      },
      "source": [
        "\n",
        "# Label Encoding for categorical values. Can't do one hot encoding as it will result in huge increase in column size.\n",
        "\n",
        "dataset.loc[:,'srcip'] = dataset.loc[:,'srcip'].astype('category')\n",
        "# Assigning numerical values\n",
        "dataset.loc[:,'srcip'] = dataset.loc[:,'srcip'].cat.codes\n",
        "\n",
        "dataset.loc[:,'sport'] = dataset.loc[:,'sport'].astype('category')\n",
        "# Assigning numerical values \n",
        "dataset.loc[:,'sport'] = dataset.loc[:,'sport'].cat.codes\n",
        "\n",
        "dataset.loc[:,'dstip'] = dataset.loc[:,'dstip'].astype('category')\n",
        "# Assigning numerical values\n",
        "dataset.loc[:,'dstip'] = dataset.loc[:,'dstip'].cat.codes\n",
        "\n",
        "dataset.loc[:,'dsport'] = dataset.loc[:,'dsport'].astype('category')\n",
        "# Assigning numerical values\n",
        "dataset.loc[:,'dsport'] = dataset.loc[:,'dsport'].cat.codes"
      ],
      "execution_count": 0,
      "outputs": []
    },
    {
      "cell_type": "code",
      "metadata": {
        "id": "GVYn89X4dQub",
        "colab_type": "code",
        "outputId": "8b2384cc-5e07-4e23-fa6c-8d19ed8125d0",
        "colab": {
          "base_uri": "https://localhost:8080/",
          "height": 232
        }
      },
      "source": [
        "# Print dataframe after label encoding\n",
        "\n",
        "dataset[0:5]"
      ],
      "execution_count": 18,
      "outputs": [
        {
          "output_type": "execute_result",
          "data": {
            "text/html": [
              "<div>\n",
              "<style scoped>\n",
              "    .dataframe tbody tr th:only-of-type {\n",
              "        vertical-align: middle;\n",
              "    }\n",
              "\n",
              "    .dataframe tbody tr th {\n",
              "        vertical-align: top;\n",
              "    }\n",
              "\n",
              "    .dataframe thead th {\n",
              "        text-align: right;\n",
              "    }\n",
              "</style>\n",
              "<table border=\"1\" class=\"dataframe\">\n",
              "  <thead>\n",
              "    <tr style=\"text-align: right;\">\n",
              "      <th></th>\n",
              "      <th>srcip</th>\n",
              "      <th>sport</th>\n",
              "      <th>dstip</th>\n",
              "      <th>dsport</th>\n",
              "      <th>proto</th>\n",
              "      <th>state</th>\n",
              "      <th>dur</th>\n",
              "      <th>sbytes</th>\n",
              "      <th>dbytes</th>\n",
              "      <th>sttl</th>\n",
              "      <th>dttl</th>\n",
              "      <th>sloss</th>\n",
              "      <th>dloss</th>\n",
              "      <th>service</th>\n",
              "      <th>sload</th>\n",
              "      <th>dload</th>\n",
              "      <th>spkts</th>\n",
              "      <th>dpkts</th>\n",
              "      <th>swin</th>\n",
              "      <th>dwin</th>\n",
              "      <th>stcpb</th>\n",
              "      <th>dtcpb</th>\n",
              "      <th>smeansz</th>\n",
              "      <th>dmeansz</th>\n",
              "      <th>trans_depth</th>\n",
              "      <th>res_bdy_len</th>\n",
              "      <th>sjit</th>\n",
              "      <th>djit</th>\n",
              "      <th>stime</th>\n",
              "      <th>ltime</th>\n",
              "      <th>sintpkt</th>\n",
              "      <th>dintpkt</th>\n",
              "      <th>tcprtt</th>\n",
              "      <th>synack</th>\n",
              "      <th>ackdat</th>\n",
              "      <th>is_sm_ips_ports</th>\n",
              "      <th>ct_state_ttl</th>\n",
              "      <th>ct_flw_http_mthd</th>\n",
              "      <th>is_ftp_login</th>\n",
              "      <th>ct_ftp_cmd</th>\n",
              "      <th>ct_srv_src</th>\n",
              "      <th>ct_srv_dst</th>\n",
              "      <th>ct_dst_ltm</th>\n",
              "      <th>ct_src_ ltm</th>\n",
              "      <th>ct_src_dport_ltm</th>\n",
              "      <th>ct_dst_sport_ltm</th>\n",
              "      <th>ct_dst_src_ltm</th>\n",
              "      <th>attack_cat</th>\n",
              "      <th>label</th>\n",
              "    </tr>\n",
              "  </thead>\n",
              "  <tbody>\n",
              "    <tr>\n",
              "      <th>0</th>\n",
              "      <td>33</td>\n",
              "      <td>68854</td>\n",
              "      <td>24</td>\n",
              "      <td>47344</td>\n",
              "      <td>udp</td>\n",
              "      <td>CON</td>\n",
              "      <td>0.001055</td>\n",
              "      <td>132</td>\n",
              "      <td>164</td>\n",
              "      <td>31</td>\n",
              "      <td>29</td>\n",
              "      <td>0</td>\n",
              "      <td>0</td>\n",
              "      <td>dns</td>\n",
              "      <td>500473.93750</td>\n",
              "      <td>621800.93750</td>\n",
              "      <td>2</td>\n",
              "      <td>2</td>\n",
              "      <td>0</td>\n",
              "      <td>0</td>\n",
              "      <td>0</td>\n",
              "      <td>0</td>\n",
              "      <td>66</td>\n",
              "      <td>82</td>\n",
              "      <td>0</td>\n",
              "      <td>0</td>\n",
              "      <td>0.00000</td>\n",
              "      <td>0.000000</td>\n",
              "      <td>1421927414</td>\n",
              "      <td>1421927414</td>\n",
              "      <td>0.017</td>\n",
              "      <td>0.013000</td>\n",
              "      <td>0.0</td>\n",
              "      <td>0.0</td>\n",
              "      <td>0.0</td>\n",
              "      <td>0</td>\n",
              "      <td>0</td>\n",
              "      <td>0.0</td>\n",
              "      <td>0.0</td>\n",
              "      <td>0</td>\n",
              "      <td>3</td>\n",
              "      <td>7</td>\n",
              "      <td>1</td>\n",
              "      <td>3</td>\n",
              "      <td>1</td>\n",
              "      <td>1</td>\n",
              "      <td>1</td>\n",
              "      <td>Normal</td>\n",
              "      <td>0</td>\n",
              "    </tr>\n",
              "    <tr>\n",
              "      <th>1</th>\n",
              "      <td>33</td>\n",
              "      <td>90600</td>\n",
              "      <td>27</td>\n",
              "      <td>253</td>\n",
              "      <td>udp</td>\n",
              "      <td>CON</td>\n",
              "      <td>0.036133</td>\n",
              "      <td>528</td>\n",
              "      <td>304</td>\n",
              "      <td>31</td>\n",
              "      <td>29</td>\n",
              "      <td>0</td>\n",
              "      <td>0</td>\n",
              "      <td>Others</td>\n",
              "      <td>87676.08594</td>\n",
              "      <td>50480.17188</td>\n",
              "      <td>4</td>\n",
              "      <td>4</td>\n",
              "      <td>0</td>\n",
              "      <td>0</td>\n",
              "      <td>0</td>\n",
              "      <td>0</td>\n",
              "      <td>132</td>\n",
              "      <td>76</td>\n",
              "      <td>0</td>\n",
              "      <td>0</td>\n",
              "      <td>9.89101</td>\n",
              "      <td>10.682733</td>\n",
              "      <td>1421927414</td>\n",
              "      <td>1421927414</td>\n",
              "      <td>7.005</td>\n",
              "      <td>7.564333</td>\n",
              "      <td>0.0</td>\n",
              "      <td>0.0</td>\n",
              "      <td>0.0</td>\n",
              "      <td>0</td>\n",
              "      <td>0</td>\n",
              "      <td>0.0</td>\n",
              "      <td>0.0</td>\n",
              "      <td>0</td>\n",
              "      <td>2</td>\n",
              "      <td>4</td>\n",
              "      <td>2</td>\n",
              "      <td>3</td>\n",
              "      <td>1</td>\n",
              "      <td>1</td>\n",
              "      <td>2</td>\n",
              "      <td>Normal</td>\n",
              "      <td>0</td>\n",
              "    </tr>\n",
              "    <tr>\n",
              "      <th>2</th>\n",
              "      <td>39</td>\n",
              "      <td>69669</td>\n",
              "      <td>25</td>\n",
              "      <td>47344</td>\n",
              "      <td>udp</td>\n",
              "      <td>CON</td>\n",
              "      <td>0.001119</td>\n",
              "      <td>146</td>\n",
              "      <td>178</td>\n",
              "      <td>31</td>\n",
              "      <td>29</td>\n",
              "      <td>0</td>\n",
              "      <td>0</td>\n",
              "      <td>dns</td>\n",
              "      <td>521894.53130</td>\n",
              "      <td>636282.37500</td>\n",
              "      <td>2</td>\n",
              "      <td>2</td>\n",
              "      <td>0</td>\n",
              "      <td>0</td>\n",
              "      <td>0</td>\n",
              "      <td>0</td>\n",
              "      <td>73</td>\n",
              "      <td>89</td>\n",
              "      <td>0</td>\n",
              "      <td>0</td>\n",
              "      <td>0.00000</td>\n",
              "      <td>0.000000</td>\n",
              "      <td>1421927414</td>\n",
              "      <td>1421927414</td>\n",
              "      <td>0.017</td>\n",
              "      <td>0.013000</td>\n",
              "      <td>0.0</td>\n",
              "      <td>0.0</td>\n",
              "      <td>0.0</td>\n",
              "      <td>0</td>\n",
              "      <td>0</td>\n",
              "      <td>0.0</td>\n",
              "      <td>0.0</td>\n",
              "      <td>0</td>\n",
              "      <td>12</td>\n",
              "      <td>8</td>\n",
              "      <td>1</td>\n",
              "      <td>2</td>\n",
              "      <td>2</td>\n",
              "      <td>1</td>\n",
              "      <td>1</td>\n",
              "      <td>Normal</td>\n",
              "      <td>0</td>\n",
              "    </tr>\n",
              "    <tr>\n",
              "      <th>3</th>\n",
              "      <td>38</td>\n",
              "      <td>93095</td>\n",
              "      <td>23</td>\n",
              "      <td>47344</td>\n",
              "      <td>udp</td>\n",
              "      <td>CON</td>\n",
              "      <td>0.001209</td>\n",
              "      <td>132</td>\n",
              "      <td>164</td>\n",
              "      <td>31</td>\n",
              "      <td>29</td>\n",
              "      <td>0</td>\n",
              "      <td>0</td>\n",
              "      <td>dns</td>\n",
              "      <td>436724.56250</td>\n",
              "      <td>542597.18750</td>\n",
              "      <td>2</td>\n",
              "      <td>2</td>\n",
              "      <td>0</td>\n",
              "      <td>0</td>\n",
              "      <td>0</td>\n",
              "      <td>0</td>\n",
              "      <td>66</td>\n",
              "      <td>82</td>\n",
              "      <td>0</td>\n",
              "      <td>0</td>\n",
              "      <td>0.00000</td>\n",
              "      <td>0.000000</td>\n",
              "      <td>1421927414</td>\n",
              "      <td>1421927414</td>\n",
              "      <td>0.043</td>\n",
              "      <td>0.014000</td>\n",
              "      <td>0.0</td>\n",
              "      <td>0.0</td>\n",
              "      <td>0.0</td>\n",
              "      <td>0</td>\n",
              "      <td>0</td>\n",
              "      <td>0.0</td>\n",
              "      <td>0.0</td>\n",
              "      <td>0</td>\n",
              "      <td>6</td>\n",
              "      <td>9</td>\n",
              "      <td>1</td>\n",
              "      <td>1</td>\n",
              "      <td>1</td>\n",
              "      <td>1</td>\n",
              "      <td>1</td>\n",
              "      <td>Normal</td>\n",
              "      <td>0</td>\n",
              "    </tr>\n",
              "    <tr>\n",
              "      <th>4</th>\n",
              "      <td>36</td>\n",
              "      <td>108205</td>\n",
              "      <td>8</td>\n",
              "      <td>47344</td>\n",
              "      <td>udp</td>\n",
              "      <td>CON</td>\n",
              "      <td>0.001169</td>\n",
              "      <td>146</td>\n",
              "      <td>178</td>\n",
              "      <td>31</td>\n",
              "      <td>29</td>\n",
              "      <td>0</td>\n",
              "      <td>0</td>\n",
              "      <td>dns</td>\n",
              "      <td>499572.25000</td>\n",
              "      <td>609067.56250</td>\n",
              "      <td>2</td>\n",
              "      <td>2</td>\n",
              "      <td>0</td>\n",
              "      <td>0</td>\n",
              "      <td>0</td>\n",
              "      <td>0</td>\n",
              "      <td>73</td>\n",
              "      <td>89</td>\n",
              "      <td>0</td>\n",
              "      <td>0</td>\n",
              "      <td>0.00000</td>\n",
              "      <td>0.000000</td>\n",
              "      <td>1421927414</td>\n",
              "      <td>1421927414</td>\n",
              "      <td>0.005</td>\n",
              "      <td>0.003000</td>\n",
              "      <td>0.0</td>\n",
              "      <td>0.0</td>\n",
              "      <td>0.0</td>\n",
              "      <td>0</td>\n",
              "      <td>0</td>\n",
              "      <td>0.0</td>\n",
              "      <td>0.0</td>\n",
              "      <td>0</td>\n",
              "      <td>7</td>\n",
              "      <td>9</td>\n",
              "      <td>1</td>\n",
              "      <td>1</td>\n",
              "      <td>1</td>\n",
              "      <td>1</td>\n",
              "      <td>1</td>\n",
              "      <td>Normal</td>\n",
              "      <td>0</td>\n",
              "    </tr>\n",
              "  </tbody>\n",
              "</table>\n",
              "</div>"
            ],
            "text/plain": [
              "   srcip   sport  dstip  ...  ct_dst_src_ltm attack_cat label\n",
              "0     33   68854     24  ...               1     Normal     0\n",
              "1     33   90600     27  ...               2     Normal     0\n",
              "2     39   69669     25  ...               1     Normal     0\n",
              "3     38   93095     23  ...               1     Normal     0\n",
              "4     36  108205      8  ...               1     Normal     0\n",
              "\n",
              "[5 rows x 49 columns]"
            ]
          },
          "metadata": {
            "tags": []
          },
          "execution_count": 18
        }
      ]
    },
    {
      "cell_type": "code",
      "metadata": {
        "id": "baBET1FLdQud",
        "colab_type": "code",
        "outputId": "135234a0-a5e0-4a34-d6a3-80bfb1aad377",
        "colab": {
          "base_uri": "https://localhost:8080/",
          "height": 151
        }
      },
      "source": [
        "# Store input columns in X\n",
        "\n",
        "X = dataset.iloc[:,0:47]\n",
        "print(X[0:5])"
      ],
      "execution_count": 19,
      "outputs": [
        {
          "output_type": "stream",
          "text": [
            "   srcip   sport  dstip  ...  ct_src_dport_ltm ct_dst_sport_ltm ct_dst_src_ltm\n",
            "0     33   68854     24  ...                 1                1              1\n",
            "1     33   90600     27  ...                 1                1              2\n",
            "2     39   69669     25  ...                 2                1              1\n",
            "3     38   93095     23  ...                 1                1              1\n",
            "4     36  108205      8  ...                 1                1              1\n",
            "\n",
            "[5 rows x 47 columns]\n"
          ],
          "name": "stdout"
        }
      ]
    },
    {
      "cell_type": "code",
      "metadata": {
        "id": "6ZuApKbDdQuf",
        "colab_type": "code",
        "outputId": "986dd2e2-5462-4a8c-c423-f9a9f8ee55f6",
        "colab": {
          "base_uri": "https://localhost:8080/",
          "height": 118
        }
      },
      "source": [
        "# Store output columns in Y\n",
        "\n",
        "Y = dataset.iloc[:,-2:]\n",
        "print(Y[0:5])"
      ],
      "execution_count": 20,
      "outputs": [
        {
          "output_type": "stream",
          "text": [
            "  attack_cat  label\n",
            "0     Normal      0\n",
            "1     Normal      0\n",
            "2     Normal      0\n",
            "3     Normal      0\n",
            "4     Normal      0\n"
          ],
          "name": "stdout"
        }
      ]
    },
    {
      "cell_type": "code",
      "metadata": {
        "id": "yzLJxId1o46X",
        "colab_type": "code",
        "outputId": "93c22cc2-ef77-440b-b257-198aa7e2d239",
        "colab": {
          "base_uri": "https://localhost:8080/",
          "height": 168
        }
      },
      "source": [
        "dataset.loc[:,'proto'] = dataset.loc[:,'proto'].astype('category')\n",
        "dataset.loc[:,'proto'] = dataset.loc[:,'proto'].cat.codes\n",
        "dataset.loc[:,'state'] = dataset.loc[:,'state'].astype('category')\n",
        "dataset.loc[:,'state'] = dataset.loc[:,'state'].cat.codes\n",
        "dataset.loc[:,'service'] = dataset.loc[:,'service'].astype('category')\n",
        "dataset.loc[:,'service'] = dataset.loc[:,'service'].cat.codes\n",
        "X = dataset.iloc[:,0:47]\n",
        "print('Data After one hot encoding\\n', X[0:5])"
      ],
      "execution_count": 21,
      "outputs": [
        {
          "output_type": "stream",
          "text": [
            "Data After one hot encoding\n",
            "    srcip   sport  dstip  ...  ct_src_dport_ltm  ct_dst_sport_ltm  ct_dst_src_ltm\n",
            "0     33   68854     24  ...                 1                 1               1\n",
            "1     33   90600     27  ...                 1                 1               2\n",
            "2     39   69669     25  ...                 2                 1               1\n",
            "3     38   93095     23  ...                 1                 1               1\n",
            "4     36  108205      8  ...                 1                 1               1\n",
            "\n",
            "[5 rows x 47 columns]\n"
          ],
          "name": "stdout"
        }
      ]
    },
    {
      "cell_type": "code",
      "metadata": {
        "id": "NPKQ1lXQdQuj",
        "colab_type": "code",
        "outputId": "cb2a2d02-9379-408e-af44-9c5a788496fd",
        "colab": {
          "base_uri": "https://localhost:8080/",
          "height": 54
        }
      },
      "source": [
        "'''\n",
        "# One Hot Encoding of output column 'attack_cat'\n",
        "Y.loc[:,'attack_cat'] = [i.strip(' ') for i in Y.loc[:,'attack_cat']]\n",
        "print('attack cat ', (Y.loc[:,'attack_cat'].unique()))\n",
        "Y_enc = pd.get_dummies(Y, columns=['attack_cat'])\n",
        "'''"
      ],
      "execution_count": 22,
      "outputs": [
        {
          "output_type": "execute_result",
          "data": {
            "text/plain": [
              "\"\\n# One Hot Encoding of output column 'attack_cat'\\nY.loc[:,'attack_cat'] = [i.strip(' ') for i in Y.loc[:,'attack_cat']]\\nprint('attack cat ', (Y.loc[:,'attack_cat'].unique()))\\nY_enc = pd.get_dummies(Y, columns=['attack_cat'])\\n\""
            ]
          },
          "metadata": {
            "tags": []
          },
          "execution_count": 22
        }
      ]
    },
    {
      "cell_type": "code",
      "metadata": {
        "id": "llJzWK3GdQun",
        "colab_type": "code",
        "colab": {}
      },
      "source": [
        "# Normalization\n",
        "\n",
        "from scipy import stats\n",
        "from sklearn.preprocessing import MinMaxScaler\n",
        "# Pass parameter type = 'statistical' or 'minmax'\n",
        "# Note: statistical is better for SVM and KNN.\n",
        "def normalization(data, type='minmax'):\n",
        "    if type == 'statistical':\n",
        "        return stats.zscore(data)\n",
        "    elif type == 'minmax':\n",
        "        scaler = MinMaxScaler()\n",
        "        return scaler.fit_transform(data)\n",
        "    else:\n",
        "        print('\\n Norm type not found! \\n')"
      ],
      "execution_count": 0,
      "outputs": []
    },
    {
      "cell_type": "code",
      "metadata": {
        "id": "82rEkJJldQup",
        "colab_type": "code",
        "colab": {}
      },
      "source": [
        "\n",
        "X = normalization(X, 'minmax')\n",
        "# print(X[0:5])"
      ],
      "execution_count": 0,
      "outputs": []
    },
    {
      "cell_type": "code",
      "metadata": {
        "id": "UWzL8vFveacY",
        "colab_type": "code",
        "colab": {}
      },
      "source": [
        "# from sklearn.ensemble.forest import RandomForestClassifier\n",
        "# from sklearn.feature_selection import SelectFromModel"
      ],
      "execution_count": 0,
      "outputs": []
    },
    {
      "cell_type": "code",
      "metadata": {
        "id": "JCL7b202xup-",
        "colab_type": "code",
        "outputId": "f3def498-93ea-4cc5-f2e4-5012d37d4b21",
        "colab": {
          "base_uri": "https://localhost:8080/",
          "height": 50
        }
      },
      "source": [
        "# One Hot Encoding of output column 'attack_cat'\n",
        "\n",
        "Y.loc[:,'attack_cat'] = [i.strip(' ') for i in Y.loc[:,'attack_cat']]\n",
        "print('attack cat ', (Y.loc[:,'attack_cat'].unique()))\n",
        "\n",
        "encoding = { 'attack_cat':{'Normal':0, 'Exploits':1, 'Reconnaissance':2, 'DoS':3, 'Generic':4,\n",
        "       'Shellcode':5, 'Fuzzers':6, 'Worms':7, 'Backdoors':8, 'Analysis':9}}\n",
        "Y.replace(encoding, inplace=True)"
      ],
      "execution_count": 26,
      "outputs": [
        {
          "output_type": "stream",
          "text": [
            "attack cat  ['Normal' 'Exploits' 'Reconnaissance' 'DoS' 'Generic' 'Shellcode'\n",
            " 'Fuzzers' 'Worms' 'Backdoors' 'Analysis']\n"
          ],
          "name": "stdout"
        }
      ]
    },
    {
      "cell_type": "code",
      "metadata": {
        "id": "pTQMBRK6fpvc",
        "colab_type": "code",
        "outputId": "b77d22cf-2978-4def-cfc8-459c6cec16e7",
        "colab": {
          "base_uri": "https://localhost:8080/",
          "height": 134
        }
      },
      "source": [
        "Y['attack_cat']\n",
        "y_cat=[]\n",
        "y_cat = np.array(Y['attack_cat']).reshape(-1,1)\n",
        "y_cat"
      ],
      "execution_count": 27,
      "outputs": [
        {
          "output_type": "execute_result",
          "data": {
            "text/plain": [
              "array([[0],\n",
              "       [0],\n",
              "       [0],\n",
              "       ...,\n",
              "       [0],\n",
              "       [0],\n",
              "       [1]])"
            ]
          },
          "metadata": {
            "tags": []
          },
          "execution_count": 27
        }
      ]
    },
    {
      "cell_type": "code",
      "metadata": {
        "id": "2wmX80DBOdvl",
        "colab_type": "code",
        "outputId": "282c48f3-5470-4ffd-bf9e-edbe64fd1b71",
        "colab": {
          "base_uri": "https://localhost:8080/",
          "height": 70
        }
      },
      "source": [
        "clf = ExtraTreesClassifier(n_estimators=500)\n",
        "clf = clf.fit(X, y_cat)\n"
      ],
      "execution_count": 28,
      "outputs": [
        {
          "output_type": "stream",
          "text": [
            "/usr/local/lib/python3.6/dist-packages/ipykernel_launcher.py:2: DataConversionWarning: A column-vector y was passed when a 1d array was expected. Please change the shape of y to (n_samples,), for example using ravel().\n",
            "  \n"
          ],
          "name": "stderr"
        }
      ]
    },
    {
      "cell_type": "code",
      "metadata": {
        "id": "987dG0_XgeSr",
        "colab_type": "code",
        "colab": {}
      },
      "source": [
        "# sel = (RandomForestClassifier(n_estimators = 100))\n",
        "# sel.fit(X, y_cat)"
      ],
      "execution_count": 0,
      "outputs": []
    },
    {
      "cell_type": "code",
      "metadata": {
        "id": "-ycTNtD2QBt2",
        "colab_type": "code",
        "outputId": "498e246d-adf7-487f-9ca1-270160d83c22",
        "colab": {
          "base_uri": "https://localhost:8080/",
          "height": 218
        }
      },
      "source": [
        "features=[]\n",
        "print(clf.feature_importances_)\n",
        "features=(clf.feature_importances_).tolist()"
      ],
      "execution_count": 30,
      "outputs": [
        {
          "output_type": "stream",
          "text": [
            "[5.36519805e-02 1.19805734e-02 4.82151826e-02 3.57791566e-02\n",
            " 5.96293981e-03 1.63632797e-02 2.81228489e-03 1.50850229e-02\n",
            " 3.18191979e-03 2.55999154e-01 5.17981749e-02 2.24190453e-03\n",
            " 2.45028221e-03 2.21085897e-02 7.91117196e-03 5.73139640e-03\n",
            " 2.08482986e-03 2.85039236e-03 2.17798757e-02 1.76483576e-02\n",
            " 6.05858060e-03 5.35377960e-03 2.91246050e-02 1.70920800e-02\n",
            " 9.64579963e-04 7.21495343e-04 2.52322864e-03 2.13860604e-03\n",
            " 1.45451717e-02 1.66872320e-02 3.36445289e-03 2.22917309e-03\n",
            " 4.18175893e-03 3.80414419e-03 3.53820475e-03 4.99128496e-04\n",
            " 1.43363452e-01 8.70277929e-04 2.28225558e-04 1.81609970e-04\n",
            " 2.29943056e-02 2.76430112e-02 1.47994450e-02 1.48350139e-02\n",
            " 2.32660502e-02 2.44949040e-02 2.88610147e-02]\n"
          ],
          "name": "stdout"
        }
      ]
    },
    {
      "cell_type": "code",
      "metadata": {
        "id": "ZAxDTSYcQQjc",
        "colab_type": "code",
        "outputId": "e1107c62-b16b-4032-e550-6328fd4003f5",
        "colab": {
          "base_uri": "https://localhost:8080/",
          "height": 70
        }
      },
      "source": [
        "print(\"Features sorted by their score:\")\n",
        "feature_imp = sorted(zip(map(lambda x: round(x, 4), clf.feature_importances_), column_attributes), \n",
        "             reverse=True)\n",
        "print(feature_imp)\n",
        "low_variance_cols = [x[0] for x in feature_imp if x[0] < 0.002]"
      ],
      "execution_count": 31,
      "outputs": [
        {
          "output_type": "stream",
          "text": [
            "Features sorted by their score:\n",
            "[(0.256, 'sttl'), (0.1434, 'ct_state_ttl'), (0.0537, 'srcip'), (0.0518, 'dttl'), (0.0482, 'dstip'), (0.0358, 'dsport'), (0.0291, 'smeansz'), (0.0289, 'ct_dst_src_ltm'), (0.0276, 'ct_srv_dst'), (0.0245, 'ct_dst_sport_ltm'), (0.0233, 'ct_src_dport_ltm'), (0.023, 'ct_srv_src'), (0.0221, 'service'), (0.0218, 'swin'), (0.0176, 'dwin'), (0.0171, 'dmeansz'), (0.0167, 'Ltime'), (0.0164, 'state'), (0.0151, 'sbytes'), (0.0148, 'ct_src_ ltm'), (0.0148, 'ct_dst_ltm'), (0.0145, 'Stime'), (0.012, 'sport'), (0.0079, 'Sload'), (0.0061, 'stcpb'), (0.006, 'proto'), (0.0057, 'Dload'), (0.0054, 'dtcpb'), (0.0042, 'tcprtt'), (0.0038, 'synack'), (0.0035, 'ackdat'), (0.0034, 'Sintpkt'), (0.0032, 'dbytes'), (0.0029, 'Dpkts'), (0.0028, 'dur'), (0.0025, 'dloss'), (0.0025, 'Sjit'), (0.0022, 'sloss'), (0.0022, 'Dintpkt'), (0.0021, 'Spkts'), (0.0021, 'Djit'), (0.001, 'trans_depth'), (0.0009, 'ct_flw_http_mthd'), (0.0007, 'res_bdy_len'), (0.0005, 'is_sm_ips_ports'), (0.0002, 'is_ftp_login'), (0.0002, 'ct_ftp_cmd')]\n"
          ],
          "name": "stdout"
        }
      ]
    },
    {
      "cell_type": "code",
      "metadata": {
        "id": "2vKTKUR1wd21",
        "colab_type": "code",
        "outputId": "07bb197c-5f09-4738-bc81-1e5adf027836",
        "colab": {
          "base_uri": "https://localhost:8080/",
          "height": 70
        }
      },
      "source": [
        "#selecting features\n",
        "sfm = SelectFromModel(clf, threshold=0.002)\n",
        "sfm.fit(X,y_cat)\n",
        "X= sfm.transform(X)"
      ],
      "execution_count": 32,
      "outputs": [
        {
          "output_type": "stream",
          "text": [
            "/usr/local/lib/python3.6/dist-packages/sklearn/feature_selection/_from_model.py:222: DataConversionWarning: A column-vector y was passed when a 1d array was expected. Please change the shape of y to (n_samples,), for example using ravel().\n",
            "  self.estimator_.fit(X, y, **fit_params)\n"
          ],
          "name": "stderr"
        }
      ]
    },
    {
      "cell_type": "code",
      "metadata": {
        "id": "s-cnffhYE0no",
        "colab_type": "code",
        "outputId": "53f91c3e-3858-40f9-a081-acac315f675a",
        "colab": {
          "base_uri": "https://localhost:8080/",
          "height": 34
        }
      },
      "source": [
        "X.shape"
      ],
      "execution_count": 33,
      "outputs": [
        {
          "output_type": "execute_result",
          "data": {
            "text/plain": [
              "(2540047, 41)"
            ]
          },
          "metadata": {
            "tags": []
          },
          "execution_count": 33
        }
      ]
    },
    {
      "cell_type": "code",
      "metadata": {
        "id": "CIK1wUK6jFU8",
        "colab_type": "code",
        "outputId": "4c8042af-753f-4b0e-dcee-2419b8dd2074",
        "colab": {
          "base_uri": "https://localhost:8080/",
          "height": 605
        }
      },
      "source": [
        "plot_attack_category(dataset)"
      ],
      "execution_count": 34,
      "outputs": [
        {
          "output_type": "display_data",
          "data": {
            "image/png": "[encoded data removed]",
            "text/plain": [
              "<Figure size 1080x720 with 1 Axes>"
            ]
          },
          "metadata": {
            "tags": []
          }
        }
      ]
    },
    {
      "cell_type": "code",
      "metadata": {
        "id": "BaSdzP-xgi95",
        "colab_type": "code",
        "outputId": "a90b94cc-b647-4658-83c2-dbba674058b3",
        "colab": {
          "base_uri": "https://localhost:8080/",
          "height": 185
        }
      },
      "source": [
        "Counter(Y['attack_cat'])"
      ],
      "execution_count": 35,
      "outputs": [
        {
          "output_type": "execute_result",
          "data": {
            "text/plain": [
              "Counter({0: 2218764,\n",
              "         1: 44525,\n",
              "         2: 13987,\n",
              "         3: 16353,\n",
              "         4: 215481,\n",
              "         5: 1511,\n",
              "         6: 24246,\n",
              "         7: 174,\n",
              "         8: 2329,\n",
              "         9: 2677})"
            ]
          },
          "metadata": {
            "tags": []
          },
          "execution_count": 35
        }
      ]
    },
    {
      "cell_type": "code",
      "metadata": {
        "id": "dR_MsuRmayZU",
        "colab_type": "code",
        "colab": {}
      },
      "source": [
        "# Retrive all Normal and Generic row data and convert as list\n",
        "\n",
        "filter_list = [(x,y) for (x,y) in zip(X,Y['attack_cat'])if (y ==0 or y== 4)]\n",
        "x = []\n",
        "y = []\n",
        "for i , val in enumerate(filter_list):\n",
        "  x.append(val[0])\n",
        "  y.append(val[1])"
      ],
      "execution_count": 0,
      "outputs": []
    },
    {
      "cell_type": "code",
      "metadata": {
        "id": "nXBvRvjRcbRC",
        "colab_type": "code",
        "outputId": "0299acf3-600f-49d7-e095-11aead316a94",
        "colab": {
          "base_uri": "https://localhost:8080/",
          "height": 87
        }
      },
      "source": [
        "# Undersample Normal and Generic class instances \n",
        "\n",
        "rus = RandomUnderSampler(random_state=42)\n",
        "X_res, y_res = rus.fit_resample(x, y)\n",
        "print('Resampled dataset shape %s' % Counter(y_res))"
      ],
      "execution_count": 37,
      "outputs": [
        {
          "output_type": "stream",
          "text": [
            "Resampled dataset shape Counter({0: 215481, 4: 215481})\n"
          ],
          "name": "stdout"
        },
        {
          "output_type": "stream",
          "text": [
            "/usr/local/lib/python3.6/dist-packages/sklearn/utils/deprecation.py:87: FutureWarning: Function safe_indexing is deprecated; safe_indexing is deprecated in version 0.22 and will be removed in version 0.24.\n",
            "  warnings.warn(msg, category=FutureWarning)\n"
          ],
          "name": "stderr"
        }
      ]
    },
    {
      "cell_type": "code",
      "metadata": {
        "id": "DXphsLUHj4I5",
        "colab_type": "code",
        "colab": {}
      },
      "source": [
        "# Retrive all other rows except Normal and Generic row data and convert as list\n",
        "\n",
        "filter_other_cat = [(x,y) for (x,y) in zip(X,Y['attack_cat'])if (y !=0 and y!= 4)]\n",
        "x_other = []\n",
        "y_other = []\n",
        "for i , val in enumerate(filter_other_cat):\n",
        "  x_other.append(val[0])\n",
        "  y_other.append(val[1])"
      ],
      "execution_count": 0,
      "outputs": []
    },
    {
      "cell_type": "code",
      "metadata": {
        "id": "0RO91Ljfmf-H",
        "colab_type": "code",
        "colab": {}
      },
      "source": [
        "dataset_1 = pd.DataFrame(X_res)"
      ],
      "execution_count": 0,
      "outputs": []
    },
    {
      "cell_type": "code",
      "metadata": {
        "id": "M2C6AcU6oIFD",
        "colab_type": "code",
        "colab": {}
      },
      "source": [
        "dataset_1['attack_cat'] = y_res"
      ],
      "execution_count": 0,
      "outputs": []
    },
    {
      "cell_type": "code",
      "metadata": {
        "id": "KxnHJ9bjrSqR",
        "colab_type": "code",
        "colab": {}
      },
      "source": [
        "dataset_2 = pd.DataFrame(x_other)\n"
      ],
      "execution_count": 0,
      "outputs": []
    },
    {
      "cell_type": "code",
      "metadata": {
        "id": "d8NOvg0AZSk0",
        "colab_type": "code",
        "colab": {}
      },
      "source": [
        "dataset_2['attack_cat'] = y_other"
      ],
      "execution_count": 0,
      "outputs": []
    },
    {
      "cell_type": "code",
      "metadata": {
        "id": "TAOLhlheAVMg",
        "colab_type": "code",
        "colab": {}
      },
      "source": [
        "dataset_merged = pd.concat([dataset_1, dataset_2])"
      ],
      "execution_count": 0,
      "outputs": []
    },
    {
      "cell_type": "code",
      "metadata": {
        "id": "8nd8IUBrAaU9",
        "colab_type": "code",
        "outputId": "7edce990-5491-4b04-da66-c9ff47347f32",
        "colab": {
          "base_uri": "https://localhost:8080/",
          "height": 34
        }
      },
      "source": [
        "dataset_merged.shape"
      ],
      "execution_count": 44,
      "outputs": [
        {
          "output_type": "execute_result",
          "data": {
            "text/plain": [
              "(536764, 42)"
            ]
          },
          "metadata": {
            "tags": []
          },
          "execution_count": 44
        }
      ]
    },
    {
      "cell_type": "code",
      "metadata": {
        "id": "-yLfLMLCAicp",
        "colab_type": "code",
        "colab": {}
      },
      "source": [
        "dataset = shuffle(dataset_merged).reset_index(drop=True)"
      ],
      "execution_count": 0,
      "outputs": []
    },
    {
      "cell_type": "code",
      "metadata": {
        "id": "cXytZYoiAmbS",
        "colab_type": "code",
        "colab": {}
      },
      "source": [
        "# Define class instance ratio to oversample all other class labels\n",
        "\n",
        "sm = SMOTE(ratio = {0:216000, 4:216000, 1:100000, 6:90000, 3:80000, 2:70000, 9:50000, 8:45000, 5:40000,7:40000 },random_state=42,k_neighbors=5)"
      ],
      "execution_count": 0,
      "outputs": []
    },
    {
      "cell_type": "code",
      "metadata": {
        "id": "aYhbTYEVAwSj",
        "colab_type": "code",
        "outputId": "411204a4-965d-4aa6-859b-d92dd4f287c7",
        "colab": {
          "base_uri": "https://localhost:8080/",
          "height": 457
        }
      },
      "source": [
        "X_sm, Y_sm = sm.fit_sample(dataset.iloc[:,0:37],dataset.iloc[:,-1])\n",
        "print(\"After balancing the samples among class lables: \",Counter(Y_sm))"
      ],
      "execution_count": 47,
      "outputs": [
        {
          "output_type": "stream",
          "text": [
            "/usr/local/lib/python3.6/dist-packages/imblearn/utils/_validation.py:257: UserWarning: After over-sampling, the number of samples (216000) in class 0 will be larger than the number of samples in the majority class (class #0 -> 215481)\n",
            "  n_samples_majority))\n",
            "/usr/local/lib/python3.6/dist-packages/imblearn/utils/_validation.py:257: UserWarning: After over-sampling, the number of samples (216000) in class 4 will be larger than the number of samples in the majority class (class #0 -> 215481)\n",
            "  n_samples_majority))\n",
            "/usr/local/lib/python3.6/dist-packages/sklearn/utils/deprecation.py:87: FutureWarning: Function safe_indexing is deprecated; safe_indexing is deprecated in version 0.22 and will be removed in version 0.24.\n",
            "  warnings.warn(msg, category=FutureWarning)\n",
            "/usr/local/lib/python3.6/dist-packages/sklearn/utils/deprecation.py:87: FutureWarning: Function safe_indexing is deprecated; safe_indexing is deprecated in version 0.22 and will be removed in version 0.24.\n",
            "  warnings.warn(msg, category=FutureWarning)\n",
            "/usr/local/lib/python3.6/dist-packages/sklearn/utils/deprecation.py:87: FutureWarning: Function safe_indexing is deprecated; safe_indexing is deprecated in version 0.22 and will be removed in version 0.24.\n",
            "  warnings.warn(msg, category=FutureWarning)\n",
            "/usr/local/lib/python3.6/dist-packages/sklearn/utils/deprecation.py:87: FutureWarning: Function safe_indexing is deprecated; safe_indexing is deprecated in version 0.22 and will be removed in version 0.24.\n",
            "  warnings.warn(msg, category=FutureWarning)\n",
            "/usr/local/lib/python3.6/dist-packages/sklearn/utils/deprecation.py:87: FutureWarning: Function safe_indexing is deprecated; safe_indexing is deprecated in version 0.22 and will be removed in version 0.24.\n",
            "  warnings.warn(msg, category=FutureWarning)\n",
            "/usr/local/lib/python3.6/dist-packages/sklearn/utils/deprecation.py:87: FutureWarning: Function safe_indexing is deprecated; safe_indexing is deprecated in version 0.22 and will be removed in version 0.24.\n",
            "  warnings.warn(msg, category=FutureWarning)\n",
            "/usr/local/lib/python3.6/dist-packages/sklearn/utils/deprecation.py:87: FutureWarning: Function safe_indexing is deprecated; safe_indexing is deprecated in version 0.22 and will be removed in version 0.24.\n",
            "  warnings.warn(msg, category=FutureWarning)\n",
            "/usr/local/lib/python3.6/dist-packages/sklearn/utils/deprecation.py:87: FutureWarning: Function safe_indexing is deprecated; safe_indexing is deprecated in version 0.22 and will be removed in version 0.24.\n",
            "  warnings.warn(msg, category=FutureWarning)\n",
            "/usr/local/lib/python3.6/dist-packages/sklearn/utils/deprecation.py:87: FutureWarning: Function safe_indexing is deprecated; safe_indexing is deprecated in version 0.22 and will be removed in version 0.24.\n",
            "  warnings.warn(msg, category=FutureWarning)\n",
            "/usr/local/lib/python3.6/dist-packages/sklearn/utils/deprecation.py:87: FutureWarning: Function safe_indexing is deprecated; safe_indexing is deprecated in version 0.22 and will be removed in version 0.24.\n",
            "  warnings.warn(msg, category=FutureWarning)\n"
          ],
          "name": "stderr"
        },
        {
          "output_type": "stream",
          "text": [
            "After balancing the samples among class lables:  Counter({0: 216000, 4: 216000, 1: 100000, 6: 90000, 3: 80000, 2: 70000, 9: 50000, 8: 45000, 5: 40000, 7: 40000})\n"
          ],
          "name": "stdout"
        }
      ]
    },
    {
      "cell_type": "code",
      "metadata": {
        "id": "nnAw-3ilCQ9Q",
        "colab_type": "code",
        "colab": {
          "base_uri": "https://localhost:8080/",
          "height": 299
        },
        "outputId": "59d5539b-0768-4585-c362-84485356cdc5"
      },
      "source": [
        "dataset.loc[dataset['attack_cat']==0,'label'] = str(0)\n",
        "dataset.loc[dataset['attack_cat']!=0,'label'] = str(1)\n",
        "dataset[0:5]"
      ],
      "execution_count": 48,
      "outputs": [
        {
          "output_type": "execute_result",
          "data": {
            "text/html": [
              "<div>\n",
              "<style scoped>\n",
              "    .dataframe tbody tr th:only-of-type {\n",
              "        vertical-align: middle;\n",
              "    }\n",
              "\n",
              "    .dataframe tbody tr th {\n",
              "        vertical-align: top;\n",
              "    }\n",
              "\n",
              "    .dataframe thead th {\n",
              "        text-align: right;\n",
              "    }\n",
              "</style>\n",
              "<table border=\"1\" class=\"dataframe\">\n",
              "  <thead>\n",
              "    <tr style=\"text-align: right;\">\n",
              "      <th></th>\n",
              "      <th>0</th>\n",
              "      <th>1</th>\n",
              "      <th>2</th>\n",
              "      <th>3</th>\n",
              "      <th>4</th>\n",
              "      <th>5</th>\n",
              "      <th>6</th>\n",
              "      <th>7</th>\n",
              "      <th>8</th>\n",
              "      <th>9</th>\n",
              "      <th>10</th>\n",
              "      <th>11</th>\n",
              "      <th>12</th>\n",
              "      <th>13</th>\n",
              "      <th>14</th>\n",
              "      <th>15</th>\n",
              "      <th>16</th>\n",
              "      <th>17</th>\n",
              "      <th>18</th>\n",
              "      <th>19</th>\n",
              "      <th>20</th>\n",
              "      <th>21</th>\n",
              "      <th>22</th>\n",
              "      <th>23</th>\n",
              "      <th>24</th>\n",
              "      <th>25</th>\n",
              "      <th>26</th>\n",
              "      <th>27</th>\n",
              "      <th>28</th>\n",
              "      <th>29</th>\n",
              "      <th>30</th>\n",
              "      <th>31</th>\n",
              "      <th>32</th>\n",
              "      <th>33</th>\n",
              "      <th>34</th>\n",
              "      <th>35</th>\n",
              "      <th>36</th>\n",
              "      <th>37</th>\n",
              "      <th>38</th>\n",
              "      <th>39</th>\n",
              "      <th>40</th>\n",
              "      <th>attack_cat</th>\n",
              "      <th>label</th>\n",
              "    </tr>\n",
              "  </thead>\n",
              "  <tbody>\n",
              "    <tr>\n",
              "      <th>0</th>\n",
              "      <td>0.952381</td>\n",
              "      <td>0.051796</td>\n",
              "      <td>0.565217</td>\n",
              "      <td>0.681211</td>\n",
              "      <td>0.850746</td>\n",
              "      <td>0.333333</td>\n",
              "      <td>5.277332e-06</td>\n",
              "      <td>0.000022</td>\n",
              "      <td>0.000128</td>\n",
              "      <td>0.121569</td>\n",
              "      <td>0.114173</td>\n",
              "      <td>0.000188</td>\n",
              "      <td>0.000363</td>\n",
              "      <td>0.333333</td>\n",
              "      <td>0.000008</td>\n",
              "      <td>0.002203</td>\n",
              "      <td>0.000564</td>\n",
              "      <td>0.000726</td>\n",
              "      <td>1.0</td>\n",
              "      <td>1.0</td>\n",
              "      <td>0.707004</td>\n",
              "      <td>0.210836</td>\n",
              "      <td>0.035239</td>\n",
              "      <td>0.156667</td>\n",
              "      <td>0.000433</td>\n",
              "      <td>0.000020</td>\n",
              "      <td>0.989896</td>\n",
              "      <td>0.989896</td>\n",
              "      <td>1.091791e-04</td>\n",
              "      <td>1.102649e-04</td>\n",
              "      <td>0.000059</td>\n",
              "      <td>0.000100</td>\n",
              "      <td>0.000025</td>\n",
              "      <td>0.000000</td>\n",
              "      <td>0.030303</td>\n",
              "      <td>0.030303</td>\n",
              "      <td>0.045455</td>\n",
              "      <td>0.106061</td>\n",
              "      <td>0.000000</td>\n",
              "      <td>0.000000</td>\n",
              "      <td>0.060606</td>\n",
              "      <td>0</td>\n",
              "      <td>0</td>\n",
              "    </tr>\n",
              "    <tr>\n",
              "      <th>1</th>\n",
              "      <td>0.833333</td>\n",
              "      <td>0.846587</td>\n",
              "      <td>0.586957</td>\n",
              "      <td>0.732550</td>\n",
              "      <td>0.895522</td>\n",
              "      <td>0.133333</td>\n",
              "      <td>1.066392e-07</td>\n",
              "      <td>0.000010</td>\n",
              "      <td>0.000012</td>\n",
              "      <td>0.121569</td>\n",
              "      <td>0.114173</td>\n",
              "      <td>0.000000</td>\n",
              "      <td>0.000000</td>\n",
              "      <td>0.166667</td>\n",
              "      <td>0.000104</td>\n",
              "      <td>0.005901</td>\n",
              "      <td>0.000188</td>\n",
              "      <td>0.000182</td>\n",
              "      <td>0.0</td>\n",
              "      <td>0.0</td>\n",
              "      <td>0.000000</td>\n",
              "      <td>0.000000</td>\n",
              "      <td>0.048537</td>\n",
              "      <td>0.059333</td>\n",
              "      <td>0.000000</td>\n",
              "      <td>0.000000</td>\n",
              "      <td>0.011203</td>\n",
              "      <td>0.011187</td>\n",
              "      <td>5.926172e-08</td>\n",
              "      <td>6.724348e-08</td>\n",
              "      <td>0.000000</td>\n",
              "      <td>0.000000</td>\n",
              "      <td>0.000000</td>\n",
              "      <td>0.000000</td>\n",
              "      <td>0.060606</td>\n",
              "      <td>0.030303</td>\n",
              "      <td>0.060606</td>\n",
              "      <td>0.030303</td>\n",
              "      <td>0.015152</td>\n",
              "      <td>0.000000</td>\n",
              "      <td>0.000000</td>\n",
              "      <td>0</td>\n",
              "      <td>0</td>\n",
              "    </tr>\n",
              "    <tr>\n",
              "      <th>2</th>\n",
              "      <td>0.738095</td>\n",
              "      <td>0.000697</td>\n",
              "      <td>0.391304</td>\n",
              "      <td>0.732550</td>\n",
              "      <td>0.895522</td>\n",
              "      <td>0.400000</td>\n",
              "      <td>5.690459e-10</td>\n",
              "      <td>0.000008</td>\n",
              "      <td>0.000000</td>\n",
              "      <td>0.996078</td>\n",
              "      <td>0.000000</td>\n",
              "      <td>0.000000</td>\n",
              "      <td>0.000000</td>\n",
              "      <td>0.166667</td>\n",
              "      <td>0.015230</td>\n",
              "      <td>0.000000</td>\n",
              "      <td>0.000188</td>\n",
              "      <td>0.000000</td>\n",
              "      <td>0.0</td>\n",
              "      <td>0.0</td>\n",
              "      <td>0.000000</td>\n",
              "      <td>0.000000</td>\n",
              "      <td>0.037899</td>\n",
              "      <td>0.000000</td>\n",
              "      <td>0.000000</td>\n",
              "      <td>0.000000</td>\n",
              "      <td>0.987466</td>\n",
              "      <td>0.987465</td>\n",
              "      <td>5.926172e-08</td>\n",
              "      <td>0.000000e+00</td>\n",
              "      <td>0.000000</td>\n",
              "      <td>0.000000</td>\n",
              "      <td>0.000000</td>\n",
              "      <td>0.333333</td>\n",
              "      <td>0.560606</td>\n",
              "      <td>0.560606</td>\n",
              "      <td>0.318182</td>\n",
              "      <td>0.333333</td>\n",
              "      <td>0.318182</td>\n",
              "      <td>0.355932</td>\n",
              "      <td>0.560606</td>\n",
              "      <td>4</td>\n",
              "      <td>1</td>\n",
              "    </tr>\n",
              "    <tr>\n",
              "      <th>3</th>\n",
              "      <td>0.714286</td>\n",
              "      <td>0.186072</td>\n",
              "      <td>0.304348</td>\n",
              "      <td>0.123149</td>\n",
              "      <td>0.850746</td>\n",
              "      <td>0.333333</td>\n",
              "      <td>4.745410e-05</td>\n",
              "      <td>0.000053</td>\n",
              "      <td>0.000018</td>\n",
              "      <td>0.996078</td>\n",
              "      <td>0.992126</td>\n",
              "      <td>0.000376</td>\n",
              "      <td>0.000182</td>\n",
              "      <td>0.000000</td>\n",
              "      <td>0.000002</td>\n",
              "      <td>0.000033</td>\n",
              "      <td>0.000939</td>\n",
              "      <td>0.000545</td>\n",
              "      <td>1.0</td>\n",
              "      <td>1.0</td>\n",
              "      <td>0.447405</td>\n",
              "      <td>0.405070</td>\n",
              "      <td>0.050532</td>\n",
              "      <td>0.030000</td>\n",
              "      <td>0.001523</td>\n",
              "      <td>0.000121</td>\n",
              "      <td>0.984519</td>\n",
              "      <td>0.984518</td>\n",
              "      <td>5.053866e-04</td>\n",
              "      <td>1.229883e-03</td>\n",
              "      <td>0.011519</td>\n",
              "      <td>0.011306</td>\n",
              "      <td>0.011695</td>\n",
              "      <td>0.166667</td>\n",
              "      <td>0.030303</td>\n",
              "      <td>0.030303</td>\n",
              "      <td>0.015152</td>\n",
              "      <td>0.000000</td>\n",
              "      <td>0.000000</td>\n",
              "      <td>0.000000</td>\n",
              "      <td>0.030303</td>\n",
              "      <td>6</td>\n",
              "      <td>1</td>\n",
              "    </tr>\n",
              "    <tr>\n",
              "      <th>4</th>\n",
              "      <td>0.666667</td>\n",
              "      <td>0.717074</td>\n",
              "      <td>0.217391</td>\n",
              "      <td>0.968698</td>\n",
              "      <td>0.850746</td>\n",
              "      <td>0.333333</td>\n",
              "      <td>1.155390e-04</td>\n",
              "      <td>0.003559</td>\n",
              "      <td>0.000036</td>\n",
              "      <td>0.996078</td>\n",
              "      <td>0.992126</td>\n",
              "      <td>0.003760</td>\n",
              "      <td>0.000182</td>\n",
              "      <td>0.416667</td>\n",
              "      <td>0.000066</td>\n",
              "      <td>0.000030</td>\n",
              "      <td>0.004321</td>\n",
              "      <td>0.001089</td>\n",
              "      <td>1.0</td>\n",
              "      <td>1.0</td>\n",
              "      <td>0.737193</td>\n",
              "      <td>0.395487</td>\n",
              "      <td>0.738697</td>\n",
              "      <td>0.029333</td>\n",
              "      <td>0.001512</td>\n",
              "      <td>0.000165</td>\n",
              "      <td>0.001418</td>\n",
              "      <td>0.001403</td>\n",
              "      <td>2.671603e-04</td>\n",
              "      <td>1.497632e-03</td>\n",
              "      <td>0.008664</td>\n",
              "      <td>0.007785</td>\n",
              "      <td>0.009385</td>\n",
              "      <td>0.166667</td>\n",
              "      <td>0.015152</td>\n",
              "      <td>0.015152</td>\n",
              "      <td>0.000000</td>\n",
              "      <td>0.000000</td>\n",
              "      <td>0.000000</td>\n",
              "      <td>0.000000</td>\n",
              "      <td>0.000000</td>\n",
              "      <td>6</td>\n",
              "      <td>1</td>\n",
              "    </tr>\n",
              "  </tbody>\n",
              "</table>\n",
              "</div>"
            ],
            "text/plain": [
              "          0         1         2         3  ...        39        40  attack_cat  label\n",
              "0  0.952381  0.051796  0.565217  0.681211  ...  0.000000  0.060606           0      0\n",
              "1  0.833333  0.846587  0.586957  0.732550  ...  0.000000  0.000000           0      0\n",
              "2  0.738095  0.000697  0.391304  0.732550  ...  0.355932  0.560606           4      1\n",
              "3  0.714286  0.186072  0.304348  0.123149  ...  0.000000  0.030303           6      1\n",
              "4  0.666667  0.717074  0.217391  0.968698  ...  0.000000  0.000000           6      1\n",
              "\n",
              "[5 rows x 43 columns]"
            ]
          },
          "metadata": {
            "tags": []
          },
          "execution_count": 48
        }
      ]
    },
    {
      "cell_type": "code",
      "metadata": {
        "id": "hgSoVb-iRmFg",
        "colab_type": "code",
        "colab": {}
      },
      "source": [
        "col_names = column_attributes\n",
        "low_variance_cols = ['trans_depth','ct_flw_http_mthd','res_bdy_len','is_sm_ips_ports','is_ftp_login','ct_ftp_cmd']\n",
        "for val in low_variance_cols:\n",
        "  col_names.remove(val)\n",
        "\n",
        "name = [v.lower() for k, v in enumerate(col_names)]\n",
        "dataset.columns = name"
      ],
      "execution_count": 0,
      "outputs": []
    },
    {
      "cell_type": "code",
      "metadata": {
        "id": "1_ptQotkEpNI",
        "colab_type": "code",
        "colab": {}
      },
      "source": [
        "dataset.to_csv('final_dataset.csv')"
      ],
      "execution_count": 0,
      "outputs": []
    },
    {
      "cell_type": "code",
      "metadata": {
        "id": "QA2Bg2i3vhb0",
        "colab_type": "code",
        "colab": {}
      },
      "source": [
        "from sklearn.model_selection import StratifiedKFold\n",
        "from sklearn.naive_bayes import GaussianNB\n",
        "from sklearn.ensemble import AdaBoostClassifier\n",
        "from sklearn.tree import DecisionTreeClassifier\n",
        "from sklearn.cluster import KMeans\n",
        "from xgboost import XGBClassifier\n",
        "from sklearn.metrics import f1_score"
      ],
      "execution_count": 0,
      "outputs": []
    },
    {
      "cell_type": "code",
      "metadata": {
        "id": "67UBPTcJvnV-",
        "colab_type": "code",
        "colab": {}
      },
      "source": [
        "dataset1 = pd.read_csv('final_dataset.csv')"
      ],
      "execution_count": 0,
      "outputs": []
    },
    {
      "cell_type": "code",
      "metadata": {
        "id": "VMFCdyJevs0K",
        "colab_type": "code",
        "colab": {}
      },
      "source": [
        "X=[]\n",
        "y=[]\n",
        "X = dataset1.iloc[:,:-2].to_numpy()\n",
        "y = dataset1.iloc[:,-2].to_numpy()"
      ],
      "execution_count": 0,
      "outputs": []
    },
    {
      "cell_type": "code",
      "metadata": {
        "id": "etIT7XfQvzE6",
        "colab_type": "code",
        "colab": {
          "base_uri": "https://localhost:8080/",
          "height": 470
        },
        "outputId": "1995dfe9-9bf8-4b88-d295-084c2c1f7024"
      },
      "source": [
        "import time\n",
        "time_ =[]\n",
        "skf = StratifiedKFold(n_splits=5,shuffle = True)\n",
        "f1score = []\n",
        "\n",
        "\n",
        "# Training Model with Navie Bayes :\n",
        "\n",
        "\n",
        "for train_index, test_index in skf.split(X, y):\n",
        "     print(\"TRAIN:\", train_index, \"TEST:\", test_index)\n",
        "\n",
        "     X_train, X_test = X[train_index], X[test_index]\n",
        "     y_train, y_test = y[train_index], y[test_index]\n",
        "     \n",
        "     s = time.clock()\n",
        "     NB_model = GaussianNB()\n",
        "     NB_model.fit(X_train,y_train)\n",
        "     y_pred = NB_model.predict(X_test)\n",
        "\n",
        "     e = time.clock() - s\n",
        "     time_.append(e) \n",
        "     score = f1_score(y_test,y_pred, average='micro')\n",
        "     f1score.append(score)\n",
        "     print(\"Time taken by NB Gaussian means model: \", e,\"seconds \\n\")\n",
        "     print(\"F1 score for iteration: \",score,'\\n')\n",
        "print(\"F1 score for NB Gaussian model prediction: \",f1score,'\\n')"
      ],
      "execution_count": 54,
      "outputs": [
        {
          "output_type": "stream",
          "text": [
            "TRAIN: [     0      1      3 ... 536758 536759 536763] TEST: [     2      4      8 ... 536760 536761 536762]\n",
            "Time taken by NB Gaussian means model:  0.6700289999998859 seconds \n",
            "\n",
            "F1 score for iteration:  0.7082801598464877 \n",
            "\n",
            "TRAIN: [     0      1      2 ... 536761 536762 536763] TEST: [     5      7     13 ... 536744 536748 536750]\n",
            "Time taken by NB Gaussian means model:  0.6444360000000415 seconds \n",
            "\n",
            "F1 score for iteration:  0.7098078302422849 \n",
            "\n",
            "TRAIN: [     0      1      2 ... 536761 536762 536763] TEST: [    11     16     18 ... 536754 536757 536759]\n",
            "Time taken by NB Gaussian means model:  0.5677410000002965 seconds \n",
            "\n",
            "F1 score for iteration:  0.7080845435153187 \n",
            "\n",
            "TRAIN: [     1      2      4 ... 536760 536761 536762] TEST: [     0      3      6 ... 536741 536758 536763]\n",
            "Time taken by NB Gaussian means model:  0.5760869999999159 seconds \n",
            "\n",
            "F1 score for iteration:  0.710152487587678 \n",
            "\n",
            "TRAIN: [     0      2      3 ... 536761 536762 536763] TEST: [     1      9     19 ... 536746 536749 536753]\n",
            "Time taken by NB Gaussian means model:  0.5736660000002303 seconds \n",
            "\n",
            "F1 score for iteration:  0.7100845815634549 \n",
            "\n",
            "F1 score for NB Gaussian model prediction:  [0.7082801598464877, 0.7098078302422849, 0.7080845435153187, 0.710152487587678, 0.7100845815634549] \n",
            "\n"
          ],
          "name": "stdout"
        }
      ]
    },
    {
      "cell_type": "code",
      "metadata": {
        "id": "zCgVggsr2rfV",
        "colab_type": "code",
        "colab": {
          "base_uri": "https://localhost:8080/",
          "height": 470
        },
        "outputId": "3831c7da-e3bb-479f-da88-226b1f545ca2"
      },
      "source": [
        "# Training Model with KMeans :\n",
        "Kmean_score = []\n",
        "time_K = []\n",
        "\n",
        "for train_index, test_index in skf.split(X, y):\n",
        "     print(\"TRAIN:\", train_index, \"TEST:\", test_index)\n",
        "\n",
        "     X_train, X_test = X[train_index], X[test_index]\n",
        "     y_train, y_test = y[train_index], y[test_index]\n",
        "     \n",
        "     s = time.clock()\n",
        "\n",
        "\n",
        "     KMeans_model = KMeans(n_clusters=10, random_state=0)\n",
        "     KMeans_model.fit(X_train,y_train)\n",
        "\n",
        "     y_pred = KMeans_model.predict(X_test)\n",
        "\n",
        "     e = time.clock() - s\n",
        "     time_K.append(e) \n",
        "     score = f1_score(y_test,y_pred, average='micro')\n",
        "     Kmean_score.append(score)\n",
        "     print(\"Time taken by KMeans model: \", e,\"seconds \\n\")\n",
        "     print(\"F1 score :\", score,'\\n')\n",
        "print(\"F1 score for KMeans  model prediction: \",Kmean_score,'\\n')"
      ],
      "execution_count": 55,
      "outputs": [
        {
          "output_type": "stream",
          "text": [
            "TRAIN: [     0      1      2 ... 536757 536758 536763] TEST: [     3     12     14 ... 536760 536761 536762]\n",
            "Time taken by KMeans model:  52.71412800000007 seconds \n",
            "\n",
            "F1 score : 0.09941035648747588 \n",
            "\n",
            "TRAIN: [     1      2      3 ... 536760 536761 536762] TEST: [     0     16     18 ... 536754 536757 536763]\n",
            "Time taken by KMeans model:  51.837136999999984 seconds \n",
            "\n",
            "F1 score : 0.0989818635715816 \n",
            "\n",
            "TRAIN: [     0      1      2 ... 536761 536762 536763] TEST: [     6      9     10 ... 536729 536747 536750]\n",
            "Time taken by KMeans model:  50.378369999999904 seconds \n",
            "\n",
            "F1 score : 0.1001462464952074 \n",
            "\n",
            "TRAIN: [     0      1      2 ... 536761 536762 536763] TEST: [     5      8     11 ... 536743 536744 536745]\n",
            "Time taken by KMeans model:  51.32381399999986 seconds \n",
            "\n",
            "F1 score : 0.09958734269186702 \n",
            "\n",
            "TRAIN: [     0      3      5 ... 536761 536762 536763] TEST: [     1      2      4 ... 536753 536756 536758]\n",
            "Time taken by KMeans model:  53.65347900000006 seconds \n",
            "\n",
            "F1 score : 0.09954169461211716 \n",
            "\n",
            "F1 score for KMeans  model prediction:  [0.09941035648747588, 0.0989818635715816, 0.1001462464952074, 0.09958734269186702, 0.09954169461211716] \n",
            "\n"
          ],
          "name": "stdout"
        }
      ]
    },
    {
      "cell_type": "code",
      "metadata": {
        "id": "_CFzeUIC8bEB",
        "colab_type": "code",
        "colab": {
          "base_uri": "https://localhost:8080/",
          "height": 470
        },
        "outputId": "3caef96b-66fa-4370-984b-704271931997"
      },
      "source": [
        "# Training Model with Adaboost Classifier :\n",
        "ada_score = []\n",
        "time_ada = []\n",
        "for train_index, test_index in skf.split(X, y):\n",
        "     print(\"TRAIN:\", train_index, \"TEST:\", test_index)\n",
        "\n",
        "     X_train, X_test = X[train_index], X[test_index]\n",
        "     y_train, y_test = y[train_index], y[test_index]\n",
        "     \n",
        "     s = time.clock()\n",
        "\n",
        "\n",
        "     ada_model = AdaBoostClassifier(base_estimator = DecisionTreeClassifier(min_samples_split=4,random_state=21),n_estimators=100)\n",
        "     ada_model.fit(X_train,y_train)\n",
        "\n",
        "     y_pred = ada_model.predict(X_test)\n",
        "\n",
        "     e = time.clock() - s\n",
        "     time_ada.append(e) \n",
        "     score = f1_score(y_test,y_pred, average='micro')\n",
        "     ada_score.append(score)\n",
        "     print(\"Time taken by Ada model: \", e,\"seconds \\n\")\n",
        "     print(\"F1 score at iterartion : \",score,'\\n')\n",
        "\n",
        "print(\"F1 score for Adaboost model prediction: \",ada_score,'\\n')"
      ],
      "execution_count": 56,
      "outputs": [
        {
          "output_type": "stream",
          "text": [
            "TRAIN: [     0      1      2 ... 536759 536761 536763] TEST: [     5      6      7 ... 536745 536760 536762]\n",
            "Time taken by Ada model:  1333.8888630000001 seconds \n",
            "\n",
            "F1 score at iterartion :  0.9258055201065644 \n",
            "\n",
            "TRAIN: [     0      1      2 ... 536761 536762 536763] TEST: [     3      8     12 ... 536756 536757 536758]\n",
            "Time taken by Ada model:  1368.213765 seconds \n",
            "\n",
            "F1 score at iterartion :  0.9262899034027926 \n",
            "\n",
            "TRAIN: [     2      3      4 ... 536759 536760 536762] TEST: [     0      1     10 ... 536753 536761 536763]\n",
            "Time taken by Ada model:  1359.6082379999998 seconds \n",
            "\n",
            "F1 score at iterartion :  0.926848807206133 \n",
            "\n",
            "TRAIN: [     0      1      2 ... 536761 536762 536763] TEST: [     4      9     14 ... 536721 536750 536755]\n",
            "Time taken by Ada model:  1383.5359020000005 seconds \n",
            "\n",
            "F1 score at iterartion :  0.926764971635632 \n",
            "\n",
            "TRAIN: [     0      1      3 ... 536761 536762 536763] TEST: [     2     11     16 ... 536744 536748 536759]\n",
            "Time taken by Ada model:  1394.7943849999992 seconds \n",
            "\n",
            "F1 score at iterartion :  0.9260842834786497 \n",
            "\n",
            "F1 score for Adaboost model prediction:  [0.9258055201065644, 0.9262899034027926, 0.926848807206133, 0.926764971635632, 0.9260842834786497] \n",
            "\n"
          ],
          "name": "stdout"
        }
      ]
    },
    {
      "cell_type": "code",
      "metadata": {
        "id": "e09ZoPkuym1o",
        "colab_type": "code",
        "colab": {
          "base_uri": "https://localhost:8080/",
          "height": 470
        },
        "outputId": "b9e2d069-d1fc-4544-8d1e-3c9a0c01f6ca"
      },
      "source": [
        "# Training Model with xgboost classifier :\n",
        "xg_score = []\n",
        "xg_time = []\n",
        "\n",
        "for train_index, test_index in skf.split(X, y):\n",
        "     print(\"TRAIN:\", train_index, \"TEST:\", test_index)\n",
        "\n",
        "     X_train, X_test = X[train_index], X[test_index]\n",
        "     y_train, y_test = y[train_index], y[test_index]\n",
        "     \n",
        "     s = time.clock()\n",
        "\n",
        "\n",
        "     XGB_model = XGBClassifier(learning_rate =0.1, n_estimators=100, num_class = 12,\n",
        "                             min_child_weight=1, gamma=0,subsample=0.8,colsample_bytree=0.8,\n",
        "                             objective= 'multi:softmax', nthread=4,scale_pos_weight=1,\n",
        "                             seed=27, early_stopping_rounds=70, verbose=False)\n",
        "\n",
        "     XGB_model.fit(X_train,y_train)\n",
        "\n",
        "     y_pred = XGB_model.predict(X_test)\n",
        "\n",
        "     e = time.clock() - s\n",
        "     xg_time.append(e) \n",
        "     score = f1_score(y_test,y_pred, average='micro')\n",
        "     xg_score.append(score)\n",
        "     print(\"Time taken by xgboost model: \", e,\"seconds \\n\")\n",
        "     print(\"F1 score at each iteration: \",score,'\\n')\n",
        "print(\"F1 score for xgboost  model prediction: \",xg_score,'\\n')"
      ],
      "execution_count": 57,
      "outputs": [
        {
          "output_type": "stream",
          "text": [
            "TRAIN: [     0      2      4 ... 536761 536762 536763] TEST: [     1      3      6 ... 536751 536755 536756]\n",
            "Time taken by xgboost model:  1046.3967300000004 seconds \n",
            "\n",
            "F1 score at each iteration:  0.9300625040753402 \n",
            "\n",
            "TRAIN: [     0      1      2 ... 536761 536762 536763] TEST: [    13     17     21 ... 536740 536742 536760]\n",
            "Time taken by xgboost model:  1066.9079230000007 seconds \n",
            "\n",
            "F1 score at each iteration:  0.9302674354698983 \n",
            "\n",
            "TRAIN: [     0      1      3 ... 536758 536760 536761] TEST: [     2      7     11 ... 536759 536762 536763]\n",
            "Time taken by xgboost model:  1036.8182899999993 seconds \n",
            "\n",
            "F1 score at each iteration:  0.9304257915475115 \n",
            "\n",
            "TRAIN: [     1      2      3 ... 536760 536762 536763] TEST: [     0      8     10 ... 536749 536754 536761]\n",
            "Time taken by xgboost model:  1041.516696999999 seconds \n",
            "\n",
            "F1 score at each iteration:  0.929801682300448 \n",
            "\n",
            "TRAIN: [     0      1      2 ... 536761 536762 536763] TEST: [     4      5     12 ... 536744 536746 536758]\n",
            "Time taken by xgboost model:  1033.9070380000012 seconds \n",
            "\n",
            "F1 score at each iteration:  0.9310585736642074 \n",
            "\n",
            "F1 score for xgboost  model prediction:  [0.9300625040753402, 0.9302674354698983, 0.9304257915475115, 0.929801682300448, 0.9310585736642074] \n",
            "\n"
          ],
          "name": "stdout"
        }
      ]
    },
    {
      "cell_type": "code",
      "metadata": {
        "id": "QZAGVD8T_D-C",
        "colab_type": "code",
        "colab": {}
      },
      "source": [
        "f1 = []\n",
        "f1.append(f1score)\n",
        "f1.append(Kmean_score)\n",
        "f1.append(ada_score)\n",
        "f1.append(xg_score)"
      ],
      "execution_count": 0,
      "outputs": []
    },
    {
      "cell_type": "code",
      "metadata": {
        "id": "Xlm_WAKm_ffz",
        "colab_type": "code",
        "colab": {}
      },
      "source": [
        "time = []\n",
        "time.append(time_)\n",
        "time.append(time_K)\n",
        "time.append(time_ada)\n",
        "time.append(xg_time)"
      ],
      "execution_count": 0,
      "outputs": []
    },
    {
      "cell_type": "code",
      "metadata": {
        "id": "aDbDuvNV93_i",
        "colab_type": "code",
        "colab": {}
      },
      "source": [
        "def plot_F1score_metrics(title_,xlabel_,ylabel_,list_,l1,l2,l3,l4):\n",
        "    matplotlib.rc('figure', figsize=(13, 5))\n",
        "\n",
        "    plt.title(title_)\n",
        "    plt.xlabel(xlabel_)\n",
        "    plt.ylabel(ylabel_)\n",
        "    plt.plot(list_[0],'y',list_[1], 'r',list_[2],'g' ,list_[3],'b',markersize=15)\n",
        "    [a,b,c,d] = plt.plot(list_[0],'yo',list_[1], 'ro',list_[2],'go',list_[3],'bo',markersize=10)\n",
        "    plt.legend([a,b,c,d], [l1,l2,l3,l4], loc=9,prop={'size': 12})\n",
        "    plt.show()"
      ],
      "execution_count": 0,
      "outputs": []
    },
    {
      "cell_type": "code",
      "metadata": {
        "id": "LIDTxDBwADHS",
        "colab_type": "code",
        "colab": {}
      },
      "source": [
        "import matplotlib"
      ],
      "execution_count": 0,
      "outputs": []
    },
    {
      "cell_type": "code",
      "metadata": {
        "id": "XuwnWlSi-GDS",
        "colab_type": "code",
        "colab": {
          "base_uri": "https://localhost:8080/",
          "height": 382
        },
        "outputId": "2cd7f36f-0ef3-4c75-92d2-9852aab3bde8"
      },
      "source": [
        "plot_F1score_metrics('F1 score of Training models','Split count','F1 Score',f1,\"Navie Bayes\",\"K Means\",\"Adaboost\",\"Xgboost\")"
      ],
      "execution_count": 62,
      "outputs": [
        {
          "output_type": "display_data",
          "data": {
            "image/png": "[encoded data removed]",
            "text/plain": [
              "<Figure size 936x360 with 1 Axes>"
            ]
          },
          "metadata": {
            "tags": []
          }
        }
      ]
    },
    {
      "cell_type": "code",
      "metadata": {
        "id": "mdys67erAeW9",
        "colab_type": "code",
        "colab": {
          "base_uri": "https://localhost:8080/",
          "height": 382
        },
        "outputId": "b9ac9c58-70b7-4a98-c105-cc08695a0d42"
      },
      "source": [
        "plot_F1score_metrics('Time taken for training','Split count','Time',time,\"Navie Bayes\",\"K Means\",\"Adaboost\",\"Xgboost\")"
      ],
      "execution_count": 64,
      "outputs": [
        {
          "output_type": "display_data",
          "data": {
            "image/png": "[encoded data removed]",
            "text/plain": [
              "<Figure size 936x360 with 1 Axes>"
            ]
          },
          "metadata": {
            "tags": []
          }
        }
      ]
    }
  ]
}