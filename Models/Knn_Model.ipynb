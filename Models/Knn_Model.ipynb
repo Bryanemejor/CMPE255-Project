{
  "nbformat": 4,
  "nbformat_minor": 0,
  "metadata": {
    "kernelspec": {
      "display_name": "Python 3",
      "language": "python",
      "name": "python3"
    },
    "language_info": {
      "codemirror_mode": {
        "name": "ipython",
        "version": 3
      },
      "file_extension": ".py",
      "mimetype": "text/x-python",
      "name": "python",
      "nbconvert_exporter": "python",
      "pygments_lexer": "ipython3",
      "version": "3.7.3"
    },
    "colab": {
      "name": "Knn_Model.ipynb",
      "provenance": [],
      "collapsed_sections": []
    },
    "accelerator": "GPU"
  },
  "cells": [
    {
      "cell_type": "code",
      "metadata": {
        "id": "b7VQ16QgAp52",
        "colab_type": "code",
        "colab": {}
      },
      "source": [
        "dataset1 = pd.read_csv('/content/drive/My Drive/Project/Project/final_dataset.csv')"
      ],
      "execution_count": 0,
      "outputs": []
    },
    {
      "cell_type": "code",
      "metadata": {
        "id": "YaihemOqC_wW",
        "colab_type": "code",
        "colab": {}
      },
      "source": [
        "from sklearn.model_selection import StratifiedKFold\n",
        "from sklearn.linear_model import LogisticRegression\n",
        "from sklearn.metrics import roc_auc_score\n",
        "from sklearn.neighbors import KNeighborsClassifier\n",
        "from sklearn import preprocessing"
      ],
      "execution_count": 0,
      "outputs": []
    },
    {
      "cell_type": "code",
      "metadata": {
        "id": "h168F0eB-MPf",
        "colab_type": "code",
        "colab": {}
      },
      "source": [
        "dataset1 = dataset1.drop(columns=['Unnamed: 0'])"
      ],
      "execution_count": 0,
      "outputs": []
    },
    {
      "cell_type": "code",
      "metadata": {
        "id": "Ny5i8dpqEBCo",
        "colab_type": "code",
        "colab": {}
      },
      "source": [
        "X=[]\n",
        "y=[]\n",
        "X = dataset1.iloc[:,:-2].to_numpy()\n",
        "y = dataset1.iloc[:,-2].to_numpy()"
      ],
      "execution_count": 0,
      "outputs": []
    },
    {
      "cell_type": "code",
      "metadata": {
        "id": "oNn_qp_kDkzl",
        "colab_type": "code",
        "outputId": "548a84cc-ef69-4c16-df6b-9f632575f0cc",
        "colab": {
          "base_uri": "https://localhost:8080/",
          "height": 106
        }
      },
      "source": [
        "skf = StratifiedKFold(n_splits=5,shuffle = True)\n",
        "cv_score = []\n",
        "#cv_folds = [(train_index, eval_index) for train_index, eval_index in skf.split(X,y)]\n",
        "\n",
        "\n",
        "\n",
        "for train_index, test_index in skf.split(X, y):\n",
        "     print(\"TRAIN:\", train_index, \"TEST:\", test_index)\n",
        "\n",
        "     X_train, X_test = X[train_index], X[test_index]\n",
        "     y_train, y_test = y[train_index], y[test_index]\n",
        "     \n",
        "     knn_model = KNeighborsClassifier(n_neighbors=5)\n",
        "     knn_model.fit(X_train,y_train)\n",
        "     y_pred = knn_model.predict(X_test)\n",
        "\n",
        "     lb = preprocessing.LabelBinarizer()\n",
        "     y_testlb = lb.fit_transform(y_test)\n",
        "     y_predlb = lb.fit_transform(y_pred)\n",
        "\n",
        "     score = roc_auc_score(y_testlb,y_predlb)\n",
        "     cv_score.append(score)"
      ],
      "execution_count": 0,
      "outputs": [
        {
          "output_type": "stream",
          "text": [
            "TRAIN: [     0      1      2 ... 536759 536762 536763] TEST: [    13     17     25 ... 536758 536760 536761]\n",
            "TRAIN: [     2      3      5 ... 536760 536761 536763] TEST: [     0      1      4 ... 536746 536755 536762]\n",
            "TRAIN: [     0      1      2 ... 536761 536762 536763] TEST: [     3      5      8 ... 536741 536753 536754]\n",
            "TRAIN: [     0      1      2 ... 536761 536762 536763] TEST: [     6      7     18 ... 536740 536744 536759]\n",
            "TRAIN: [     0      1      3 ... 536760 536761 536762] TEST: [     2      9     15 ... 536750 536757 536763]\n"
          ],
          "name": "stdout"
        }
      ]
    },
    {
      "cell_type": "code",
      "metadata": {
        "id": "YHD10tz1ZS_b",
        "colab_type": "code",
        "outputId": "6112764d-b1cb-4ddd-f35f-0e0146bd6a39",
        "colab": {
          "base_uri": "https://localhost:8080/",
          "height": 52
        }
      },
      "source": [
        "print(\"cv_score\",cv_score)\n",
        "cv_score_mean = np.mean(cv_score)\n",
        "print(\"Avg cv score\",cv_score_mean)"
      ],
      "execution_count": 0,
      "outputs": [
        {
          "output_type": "stream",
          "text": [
            "cv_score [0.746962314178508, 0.7410171498436398, 0.7413351742083096, 0.7397156169030317, 0.7458165553609464]\n",
            "Avg cv score 0.7429693620988871\n"
          ],
          "name": "stdout"
        }
      ]
    },
    {
      "cell_type": "code",
      "metadata": {
        "id": "9CeOEfRslmx0",
        "colab_type": "code",
        "colab": {}
      },
      "source": [
        ""
      ],
      "execution_count": 0,
      "outputs": []
    }
  ]
}