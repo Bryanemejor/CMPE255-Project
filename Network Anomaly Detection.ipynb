{
 "cells": [
  {
   "cell_type": "code",
   "execution_count": null,
   "metadata": {},
   "outputs": [],
   "source": [
    "import pandas as pd\n",
    "import numpy as np"
   ]
  },
  {
   "cell_type": "code",
   "execution_count": null,
   "metadata": {},
   "outputs": [],
   "source": [
    "# Attributes Information:\n",
    "\n",
    "data_info = pd.read_csv(\"UNUSW-NB15_features.csv\", encoding = \"ISO-8859-1\", header=None).values\n",
    "data_info"
   ]
  },
  {
   "cell_type": "code",
   "execution_count": null,
   "metadata": {},
   "outputs": [],
   "source": [
    "# Read the data available in 4 csv files using temporary data frames\n",
    "\n",
    "dataframe1 = pd.read_csv(\"UNSW-NB15_1.csv\", header=None)\n",
    "dataframe2 = pd.read_csv(\"UNSW-NB15_2.csv\", header=None)\n",
    "dataframe3 = pd.read_csv(\"UNSW-NB15_3.csv\", header=None)\n",
    "dataframe4 = pd.read_csv(\"UNSW-NB15_4.csv\", header=None)\n",
    "\n",
    "# Merge all four data frames into one \n",
    "\n",
    "dataframe = pd.concat([dataframe1, dataframe2, dataframe3, dataframe4])"
   ]
  },
  {
   "cell_type": "code",
   "execution_count": null,
   "metadata": {},
   "outputs": [],
   "source": [
    "# Delete temporary data frames\n",
    "\n",
    "del dataframe1\n",
    "del dataframe2\n",
    "del dataframe3\n",
    "del dataframe4"
   ]
  }
 ],
 "metadata": {
  "kernelspec": {
   "display_name": "Python 3",
   "language": "python",
   "name": "python3"
  },
  "language_info": {
   "codemirror_mode": {
    "name": "ipython",
    "version": 3
   },
   "file_extension": ".py",
   "mimetype": "text/x-python",
   "name": "python",
   "nbconvert_exporter": "python",
   "pygments_lexer": "ipython3",
   "version": "3.7.3"
  }
 },
 "nbformat": 4,
 "nbformat_minor": 2
}
