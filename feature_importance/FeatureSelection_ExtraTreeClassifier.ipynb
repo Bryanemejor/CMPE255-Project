{
  "nbformat": 4,
  "nbformat_minor": 0,
  "metadata": {
    "kernelspec": {
      "display_name": "Python 3",
      "language": "python",
      "name": "python3"
    },
    "language_info": {
      "codemirror_mode": {
        "name": "ipython",
        "version": 3
      },
      "file_extension": ".py",
      "mimetype": "text/x-python",
      "name": "python",
      "nbconvert_exporter": "python",
      "pygments_lexer": "ipython3",
      "version": "3.7.3"
    },
    "colab": {
      "name": "FeatureSelection_RandomForests.ipynb",
      "provenance": [],
      "collapsed_sections": [],
      "machine_shape": "hm"
    }
  },
  "cells": [
    {
      "cell_type": "code",
      "metadata": {
        "id": "7gkKYsMIdQt2",
        "colab_type": "code",
        "colab": {
          "base_uri": "https://localhost:8080/",
          "height": 70
        },
        "outputId": "68a7e9ce-f0a4-4350-e3bc-7e2e9067cb71"
      },
      "source": [
        "import pandas as pd\n",
        "import numpy as np\n",
        "import seaborn as sns\n",
        "import matplotlib.pyplot as plt\n",
        "from wordcloud import WordCloud, STOPWORDS\n",
        "from sklearn.ensemble import RandomForestClassifier\n",
        "from sklearn.feature_selection import VarianceThreshold\n",
        "\n",
        "from sklearn.datasets import make_classification\n",
        "from sklearn.feature_selection import SelectFromModel"
      ],
      "execution_count": 1,
      "outputs": [
        {
          "output_type": "stream",
          "text": [
            "/usr/local/lib/python3.6/dist-packages/statsmodels/tools/_testing.py:19: FutureWarning: pandas.util.testing is deprecated. Use the functions in the public API at pandas.testing instead.\n",
            "  import pandas.util.testing as tm\n"
          ],
          "name": "stderr"
        }
      ]
    },
    {
      "cell_type": "code",
      "metadata": {
        "id": "Q7jIWorfGrjm",
        "colab_type": "code",
        "colab": {
          "base_uri": "https://localhost:8080/",
          "height": 34
        },
        "outputId": "9dc6b323-8834-4722-81cf-62c83b576a11"
      },
      "source": [
        "from google.colab import drive\n",
        "drive.mount('/content/drive')"
      ],
      "execution_count": 2,
      "outputs": [
        {
          "output_type": "stream",
          "text": [
            "Drive already mounted at /content/drive; to attempt to forcibly remount, call drive.mount(\"/content/drive\", force_remount=True).\n"
          ],
          "name": "stdout"
        }
      ]
    },
    {
      "cell_type": "code",
      "metadata": {
        "id": "rNEn_YTQdQt6",
        "colab_type": "code",
        "colab": {}
      },
      "source": [
        "\n",
        "# Attribute Information:\n",
        "\n",
        "data_info = pd.read_csv(\"/content/drive/My Drive/Data/NUSW-NB15_features.csv\", encoding = \"ISO-8859-1\")"
      ],
      "execution_count": 0,
      "outputs": []
    },
    {
      "cell_type": "code",
      "metadata": {
        "id": "kktPk1tYdQt8",
        "colab_type": "code",
        "colab": {}
      },
      "source": [
        "\n",
        "# Retrieve Attribute Names\n",
        "\n",
        "column_attributes = list (data_info['Name'])"
      ],
      "execution_count": 0,
      "outputs": []
    },
    {
      "cell_type": "code",
      "metadata": {
        "id": "BpgVQMDsdQt_",
        "colab_type": "code",
        "colab": {}
      },
      "source": [
        "# Read the data available in 4 csv files using temporary data frames\n",
        "\n",
        "dataframe1 = pd.read_csv(\"/content/drive/My Drive/Data/UNSW-NB15_1.csv\",low_memory=False, header=None)\n",
        "dataframe2 = pd.read_csv(\"/content/drive/My Drive/Data/UNSW-NB15_2.csv\", low_memory=False, header=None)\n",
        "dataframe3 = pd.read_csv(\"/content/drive/My Drive/Data/UNSW-NB15_3.csv\", low_memory=False, header=None)\n",
        "dataframe4 = pd.read_csv(\"/content/drive/My Drive/Data/UNSW-NB15_4.csv\",low_memory=False, header=None)"
      ],
      "execution_count": 0,
      "outputs": []
    },
    {
      "cell_type": "code",
      "metadata": {
        "id": "9QSO4yVPdQuB",
        "colab_type": "code",
        "colab": {}
      },
      "source": [
        "# Name the columns of all data frames using attribute names from features.csv\n",
        "\n",
        "df_list = [dataframe1,dataframe2,dataframe3,dataframe4]\n",
        "for df in df_list:\n",
        "    name = [v.lower() for k, v in enumerate(column_attributes)]\n",
        "    df.columns = name"
      ],
      "execution_count": 0,
      "outputs": []
    },
    {
      "cell_type": "code",
      "metadata": {
        "id": "UJ0OQncUdQuD",
        "colab_type": "code",
        "outputId": "591565ee-cd32-42b0-9b96-32888a3dfca5",
        "colab": {
          "base_uri": "https://localhost:8080/",
          "height": 34
        }
      },
      "source": [
        "# Concatenate the 4 temporary data frames into one single data frame\n",
        "\n",
        "dataset = pd.concat([dataframe1, dataframe2, dataframe3, dataframe4])\n",
        "dataset.shape"
      ],
      "execution_count": 7,
      "outputs": [
        {
          "output_type": "execute_result",
          "data": {
            "text/plain": [
              "(2540047, 49)"
            ]
          },
          "metadata": {
            "tags": []
          },
          "execution_count": 7
        }
      ]
    },
    {
      "cell_type": "code",
      "metadata": {
        "id": "zgxfQczKdQuG",
        "colab_type": "code",
        "colab": {}
      },
      "source": [
        "\n",
        "# Delete temporary data frames\n",
        "\n",
        "del dataframe1\n",
        "del dataframe2\n",
        "del dataframe3\n",
        "del dataframe4"
      ],
      "execution_count": 0,
      "outputs": []
    },
    {
      "cell_type": "code",
      "metadata": {
        "id": "Vyihfhl8dQuJ",
        "colab_type": "code",
        "outputId": "b32f0be6-e83b-4210-8f37-60385a7fb1c4",
        "colab": {
          "base_uri": "https://localhost:8080/",
          "height": 366
        }
      },
      "source": [
        "# Function to show the different attack cateegories present in the dataset\n",
        "\n",
        "stopwords = set(STOPWORDS)\n",
        "def show_wordcloud(data, title = None):\n",
        "\n",
        "    attack_catgs = data.loc[:,'attack_cat'].replace('Backdoor','Backdoors', regex=False)\n",
        "    attack_catgs = attack_catgs.dropna().to_numpy()\n",
        "    attack_catgs = [x.strip(' ') for x in attack_catgs]\n",
        "    attack_catgs = np.unique(attack_catgs)\n",
        "    text = \" \".join(str(item) for item in attack_catgs)\n",
        "    wordcloud = WordCloud(\n",
        "        background_color='white',\n",
        "        collocations=False,\n",
        "        stopwords=stopwords,\n",
        "        max_words=200,\n",
        "        max_font_size=40, \n",
        "        scale=3,\n",
        "        random_state=1 # chosen at random by flipping a coin; it was heads\n",
        "    ).generate(text)\n",
        " \n",
        "    fig = plt.figure(1, figsize=(12, 12))\n",
        "    plt.axis('off')\n",
        "    if title: \n",
        "        fig.suptitle(title, fontsize=20)\n",
        "        fig.subplots_adjust(top=2.3)\n",
        "\n",
        "    plt.imshow(wordcloud)\n",
        "    plt.show()\n",
        "    \n",
        "show_wordcloud(dataset)"
      ],
      "execution_count": 9,
      "outputs": [
        {
          "output_type": "display_data",
          "data": {
            "image/png": "[encoded data removed]",
            "text/plain": [
              "<Figure size 864x864 with 1 Axes>"
            ]
          },
          "metadata": {
            "tags": [],
            "needs_background": "light"
          }
        }
      ]
    },
    {
      "cell_type": "code",
      "metadata": {
        "id": "mk6-KfSxdQuL",
        "colab_type": "code",
        "outputId": "ad57b4f3-5d71-4545-f5d1-91e2d0aa64f4",
        "colab": {
          "base_uri": "https://localhost:8080/",
          "height": 594
        }
      },
      "source": [
        "# Plot to show the distribution of all attack categories\n",
        "\n",
        "def plot_attack_category(data):\n",
        "    attack_catgs = data.loc[:,'attack_cat'].replace('Backdoor','Backdoors', regex=False)\n",
        "    attack_catgs = attack_catgs.dropna().to_numpy()\n",
        "    attack_catgs = [x.strip(' ') for x in attack_catgs]\n",
        "    sns.set(rc={'figure.figsize':(15,10),\"font.size\":70,\"axes.titlesize\":40,\"axes.labelsize\":20},style=\"white\")\n",
        "    catg_plot = sns.countplot(attack_catgs,data = data)\n",
        "    for p in catg_plot.patches:\n",
        "      height = p.get_height()\n",
        "      catg_plot.text(p.get_x()+p.get_width()/2., height + 0.1,height ,ha=\"center\",fontsize = 15)\n",
        "    \n",
        "plot_attack_category(dataset)"
      ],
      "execution_count": 10,
      "outputs": [
        {
          "output_type": "display_data",
          "data": {
            "image/png": "[encoded data removed]",
            "text/plain": [
              "<Figure size 1080x720 with 1 Axes>"
            ]
          },
          "metadata": {
            "tags": []
          }
        }
      ]
    },
    {
      "cell_type": "code",
      "metadata": {
        "id": "Q_xtWn_EdQuN",
        "colab_type": "code",
        "outputId": "7d6a34c8-ccff-44e3-f773-af3bf78284da",
        "colab": {
          "base_uri": "https://localhost:8080/",
          "height": 67
        }
      },
      "source": [
        "# Provided data is not consistent. Check and make relevant changes\n",
        "\n",
        "columns_with_space = dataset.columns[dataset.isin([' ']).any()].tolist()\n",
        "print('columns_with_space ',columns_with_space)\n",
        "columns_with_null = dataset.columns[dataset.isna().any()].tolist()\n",
        "print('columns_with_null ', columns_with_null)\n",
        "columns_with_dash = dataset.columns[dataset.isin(['-']).any()].tolist()\n",
        "print('columns_with_dash', columns_with_dash)"
      ],
      "execution_count": 11,
      "outputs": [
        {
          "output_type": "stream",
          "text": [
            "columns_with_space  ['ct_ftp_cmd']\n",
            "columns_with_null  ['ct_flw_http_mthd', 'is_ftp_login', 'attack_cat']\n",
            "columns_with_dash ['sport', 'dsport', 'service']\n"
          ],
          "name": "stdout"
        }
      ]
    },
    {
      "cell_type": "code",
      "metadata": {
        "id": "ro9A58PTdQuQ",
        "colab_type": "code",
        "colab": {}
      },
      "source": [
        "\n",
        "# Handle null and '-' values\n",
        "\n",
        "# Where attack_cat not mentioned, replace with 'Normal'\n",
        "dataset.loc[:,'attack_cat'] = dataset.loc[:,'attack_cat'].replace(np.nan,'Normal', regex=True)\n",
        "\n",
        "dataset.loc[:,'ct_flw_http_mthd'] = dataset.loc[:,'ct_flw_http_mthd'].replace(np.nan,0, regex=True)\n",
        "dataset.loc[:,'is_ftp_login'] = dataset.loc[:,'is_ftp_login'].replace(np.nan,0, regex=True)\n",
        "\n",
        "dataset.loc[:,'ct_ftp_cmd'] = dataset.loc[:,'ct_ftp_cmd'].replace(' ',0, regex=True)\n",
        "\n",
        "dataset.loc[:,'sport'] = dataset.loc[:,'sport'].replace('-',0, regex=False)\n",
        "dataset.loc[:,'dsport'] = dataset.loc[:,'dsport'].replace('-',0, regex=False)\n",
        "dataset.loc[:,'service'] = dataset.loc[:,'service'].replace('-','Others', regex=False)\n",
        "\n",
        "dataset.loc[:,'attack_cat'] = dataset.loc[:,'attack_cat'].replace('Backdoor','Backdoors', regex=False)"
      ],
      "execution_count": 0,
      "outputs": []
    },
    {
      "cell_type": "code",
      "metadata": {
        "id": "gIZUXB5hdQuT",
        "colab_type": "code",
        "outputId": "50de099d-8993-4c4a-f7a6-cd1a555df700",
        "colab": {
          "base_uri": "https://localhost:8080/",
          "height": 67
        }
      },
      "source": [
        "# Columns that have String values\n",
        "\n",
        "categorical_values = dataset.select_dtypes(exclude=['number']).keys()\n",
        "print('categorical_values ', categorical_values)"
      ],
      "execution_count": 13,
      "outputs": [
        {
          "output_type": "stream",
          "text": [
            "categorical_values  Index(['srcip', 'sport', 'dstip', 'dsport', 'proto', 'state', 'service',\n",
            "       'ct_ftp_cmd', 'attack_cat'],\n",
            "      dtype='object')\n"
          ],
          "name": "stdout"
        }
      ]
    },
    {
      "cell_type": "code",
      "metadata": {
        "id": "qLZOUFoBdQuX",
        "colab_type": "code",
        "outputId": "02099e2d-337e-4361-98ea-9ba95b2e0534",
        "colab": {
          "base_uri": "https://localhost:8080/",
          "height": 50
        }
      },
      "source": [
        "# ct_ftp_cmd field has erroneous String values, such as '0' instead of 0. Handle those values\n",
        "\n",
        "arrg = dataset.loc[:, 'ct_ftp_cmd'].astype('str')\n",
        "dataset.loc[:, 'ct_ftp_cmd'] = pd.to_numeric(arrg, errors='coerce').fillna(0).astype(np.int32)\n",
        "print(dataset.loc[:, 'ct_ftp_cmd'].unique())\n",
        "print('ct_ftp_cmd', dataset.loc[:, 'ct_ftp_cmd'].dtypes)"
      ],
      "execution_count": 14,
      "outputs": [
        {
          "output_type": "stream",
          "text": [
            "[0 1 6 2 4 8 5 3]\n",
            "ct_ftp_cmd int32\n"
          ],
          "name": "stdout"
        }
      ]
    },
    {
      "cell_type": "code",
      "metadata": {
        "id": "0c0yJhwVdQuZ",
        "colab_type": "code",
        "colab": {}
      },
      "source": [
        "\n",
        "# Label Encoding for categorical values. Can't do one hot encoding as it will result in huge increase in column size.\n",
        "\n",
        "dataset.loc[:,'srcip'] = dataset.loc[:,'srcip'].astype('category')\n",
        "# Assigning numerical values\n",
        "dataset.loc[:,'srcip'] = dataset.loc[:,'srcip'].cat.codes\n",
        "\n",
        "dataset.loc[:,'sport'] = dataset.loc[:,'sport'].astype('category')\n",
        "# Assigning numerical values \n",
        "dataset.loc[:,'sport'] = dataset.loc[:,'sport'].cat.codes\n",
        "\n",
        "dataset.loc[:,'dstip'] = dataset.loc[:,'dstip'].astype('category')\n",
        "# Assigning numerical values\n",
        "dataset.loc[:,'dstip'] = dataset.loc[:,'dstip'].cat.codes\n",
        "\n",
        "dataset.loc[:,'dsport'] = dataset.loc[:,'dsport'].astype('category')\n",
        "# Assigning numerical values\n",
        "dataset.loc[:,'dsport'] = dataset.loc[:,'dsport'].cat.codes"
      ],
      "execution_count": 0,
      "outputs": []
    },
    {
      "cell_type": "code",
      "metadata": {
        "id": "GVYn89X4dQub",
        "colab_type": "code",
        "outputId": "796ec85c-7f29-4c26-9f71-f17f4f5e8baa",
        "colab": {
          "base_uri": "https://localhost:8080/",
          "height": 232
        }
      },
      "source": [
        "# Print dataframe after label encoding\n",
        "\n",
        "dataset[0:5]"
      ],
      "execution_count": 16,
      "outputs": [
        {
          "output_type": "execute_result",
          "data": {
            "text/html": [
              "<div>\n",
              "<style scoped>\n",
              "    .dataframe tbody tr th:only-of-type {\n",
              "        vertical-align: middle;\n",
              "    }\n",
              "\n",
              "    .dataframe tbody tr th {\n",
              "        vertical-align: top;\n",
              "    }\n",
              "\n",
              "    .dataframe thead th {\n",
              "        text-align: right;\n",
              "    }\n",
              "</style>\n",
              "<table border=\"1\" class=\"dataframe\">\n",
              "  <thead>\n",
              "    <tr style=\"text-align: right;\">\n",
              "      <th></th>\n",
              "      <th>srcip</th>\n",
              "      <th>sport</th>\n",
              "      <th>dstip</th>\n",
              "      <th>dsport</th>\n",
              "      <th>proto</th>\n",
              "      <th>state</th>\n",
              "      <th>dur</th>\n",
              "      <th>sbytes</th>\n",
              "      <th>dbytes</th>\n",
              "      <th>sttl</th>\n",
              "      <th>dttl</th>\n",
              "      <th>sloss</th>\n",
              "      <th>dloss</th>\n",
              "      <th>service</th>\n",
              "      <th>sload</th>\n",
              "      <th>dload</th>\n",
              "      <th>spkts</th>\n",
              "      <th>dpkts</th>\n",
              "      <th>swin</th>\n",
              "      <th>dwin</th>\n",
              "      <th>stcpb</th>\n",
              "      <th>dtcpb</th>\n",
              "      <th>smeansz</th>\n",
              "      <th>dmeansz</th>\n",
              "      <th>trans_depth</th>\n",
              "      <th>res_bdy_len</th>\n",
              "      <th>sjit</th>\n",
              "      <th>djit</th>\n",
              "      <th>stime</th>\n",
              "      <th>ltime</th>\n",
              "      <th>sintpkt</th>\n",
              "      <th>dintpkt</th>\n",
              "      <th>tcprtt</th>\n",
              "      <th>synack</th>\n",
              "      <th>ackdat</th>\n",
              "      <th>is_sm_ips_ports</th>\n",
              "      <th>ct_state_ttl</th>\n",
              "      <th>ct_flw_http_mthd</th>\n",
              "      <th>is_ftp_login</th>\n",
              "      <th>ct_ftp_cmd</th>\n",
              "      <th>ct_srv_src</th>\n",
              "      <th>ct_srv_dst</th>\n",
              "      <th>ct_dst_ltm</th>\n",
              "      <th>ct_src_ ltm</th>\n",
              "      <th>ct_src_dport_ltm</th>\n",
              "      <th>ct_dst_sport_ltm</th>\n",
              "      <th>ct_dst_src_ltm</th>\n",
              "      <th>attack_cat</th>\n",
              "      <th>label</th>\n",
              "    </tr>\n",
              "  </thead>\n",
              "  <tbody>\n",
              "    <tr>\n",
              "      <th>0</th>\n",
              "      <td>33</td>\n",
              "      <td>68854</td>\n",
              "      <td>24</td>\n",
              "      <td>47344</td>\n",
              "      <td>udp</td>\n",
              "      <td>CON</td>\n",
              "      <td>0.001055</td>\n",
              "      <td>132</td>\n",
              "      <td>164</td>\n",
              "      <td>31</td>\n",
              "      <td>29</td>\n",
              "      <td>0</td>\n",
              "      <td>0</td>\n",
              "      <td>dns</td>\n",
              "      <td>500473.93750</td>\n",
              "      <td>621800.93750</td>\n",
              "      <td>2</td>\n",
              "      <td>2</td>\n",
              "      <td>0</td>\n",
              "      <td>0</td>\n",
              "      <td>0</td>\n",
              "      <td>0</td>\n",
              "      <td>66</td>\n",
              "      <td>82</td>\n",
              "      <td>0</td>\n",
              "      <td>0</td>\n",
              "      <td>0.00000</td>\n",
              "      <td>0.000000</td>\n",
              "      <td>1421927414</td>\n",
              "      <td>1421927414</td>\n",
              "      <td>0.017</td>\n",
              "      <td>0.013000</td>\n",
              "      <td>0.0</td>\n",
              "      <td>0.0</td>\n",
              "      <td>0.0</td>\n",
              "      <td>0</td>\n",
              "      <td>0</td>\n",
              "      <td>0.0</td>\n",
              "      <td>0.0</td>\n",
              "      <td>0</td>\n",
              "      <td>3</td>\n",
              "      <td>7</td>\n",
              "      <td>1</td>\n",
              "      <td>3</td>\n",
              "      <td>1</td>\n",
              "      <td>1</td>\n",
              "      <td>1</td>\n",
              "      <td>Normal</td>\n",
              "      <td>0</td>\n",
              "    </tr>\n",
              "    <tr>\n",
              "      <th>1</th>\n",
              "      <td>33</td>\n",
              "      <td>90600</td>\n",
              "      <td>27</td>\n",
              "      <td>253</td>\n",
              "      <td>udp</td>\n",
              "      <td>CON</td>\n",
              "      <td>0.036133</td>\n",
              "      <td>528</td>\n",
              "      <td>304</td>\n",
              "      <td>31</td>\n",
              "      <td>29</td>\n",
              "      <td>0</td>\n",
              "      <td>0</td>\n",
              "      <td>Others</td>\n",
              "      <td>87676.08594</td>\n",
              "      <td>50480.17188</td>\n",
              "      <td>4</td>\n",
              "      <td>4</td>\n",
              "      <td>0</td>\n",
              "      <td>0</td>\n",
              "      <td>0</td>\n",
              "      <td>0</td>\n",
              "      <td>132</td>\n",
              "      <td>76</td>\n",
              "      <td>0</td>\n",
              "      <td>0</td>\n",
              "      <td>9.89101</td>\n",
              "      <td>10.682733</td>\n",
              "      <td>1421927414</td>\n",
              "      <td>1421927414</td>\n",
              "      <td>7.005</td>\n",
              "      <td>7.564333</td>\n",
              "      <td>0.0</td>\n",
              "      <td>0.0</td>\n",
              "      <td>0.0</td>\n",
              "      <td>0</td>\n",
              "      <td>0</td>\n",
              "      <td>0.0</td>\n",
              "      <td>0.0</td>\n",
              "      <td>0</td>\n",
              "      <td>2</td>\n",
              "      <td>4</td>\n",
              "      <td>2</td>\n",
              "      <td>3</td>\n",
              "      <td>1</td>\n",
              "      <td>1</td>\n",
              "      <td>2</td>\n",
              "      <td>Normal</td>\n",
              "      <td>0</td>\n",
              "    </tr>\n",
              "    <tr>\n",
              "      <th>2</th>\n",
              "      <td>39</td>\n",
              "      <td>69669</td>\n",
              "      <td>25</td>\n",
              "      <td>47344</td>\n",
              "      <td>udp</td>\n",
              "      <td>CON</td>\n",
              "      <td>0.001119</td>\n",
              "      <td>146</td>\n",
              "      <td>178</td>\n",
              "      <td>31</td>\n",
              "      <td>29</td>\n",
              "      <td>0</td>\n",
              "      <td>0</td>\n",
              "      <td>dns</td>\n",
              "      <td>521894.53130</td>\n",
              "      <td>636282.37500</td>\n",
              "      <td>2</td>\n",
              "      <td>2</td>\n",
              "      <td>0</td>\n",
              "      <td>0</td>\n",
              "      <td>0</td>\n",
              "      <td>0</td>\n",
              "      <td>73</td>\n",
              "      <td>89</td>\n",
              "      <td>0</td>\n",
              "      <td>0</td>\n",
              "      <td>0.00000</td>\n",
              "      <td>0.000000</td>\n",
              "      <td>1421927414</td>\n",
              "      <td>1421927414</td>\n",
              "      <td>0.017</td>\n",
              "      <td>0.013000</td>\n",
              "      <td>0.0</td>\n",
              "      <td>0.0</td>\n",
              "      <td>0.0</td>\n",
              "      <td>0</td>\n",
              "      <td>0</td>\n",
              "      <td>0.0</td>\n",
              "      <td>0.0</td>\n",
              "      <td>0</td>\n",
              "      <td>12</td>\n",
              "      <td>8</td>\n",
              "      <td>1</td>\n",
              "      <td>2</td>\n",
              "      <td>2</td>\n",
              "      <td>1</td>\n",
              "      <td>1</td>\n",
              "      <td>Normal</td>\n",
              "      <td>0</td>\n",
              "    </tr>\n",
              "    <tr>\n",
              "      <th>3</th>\n",
              "      <td>38</td>\n",
              "      <td>93095</td>\n",
              "      <td>23</td>\n",
              "      <td>47344</td>\n",
              "      <td>udp</td>\n",
              "      <td>CON</td>\n",
              "      <td>0.001209</td>\n",
              "      <td>132</td>\n",
              "      <td>164</td>\n",
              "      <td>31</td>\n",
              "      <td>29</td>\n",
              "      <td>0</td>\n",
              "      <td>0</td>\n",
              "      <td>dns</td>\n",
              "      <td>436724.56250</td>\n",
              "      <td>542597.18750</td>\n",
              "      <td>2</td>\n",
              "      <td>2</td>\n",
              "      <td>0</td>\n",
              "      <td>0</td>\n",
              "      <td>0</td>\n",
              "      <td>0</td>\n",
              "      <td>66</td>\n",
              "      <td>82</td>\n",
              "      <td>0</td>\n",
              "      <td>0</td>\n",
              "      <td>0.00000</td>\n",
              "      <td>0.000000</td>\n",
              "      <td>1421927414</td>\n",
              "      <td>1421927414</td>\n",
              "      <td>0.043</td>\n",
              "      <td>0.014000</td>\n",
              "      <td>0.0</td>\n",
              "      <td>0.0</td>\n",
              "      <td>0.0</td>\n",
              "      <td>0</td>\n",
              "      <td>0</td>\n",
              "      <td>0.0</td>\n",
              "      <td>0.0</td>\n",
              "      <td>0</td>\n",
              "      <td>6</td>\n",
              "      <td>9</td>\n",
              "      <td>1</td>\n",
              "      <td>1</td>\n",
              "      <td>1</td>\n",
              "      <td>1</td>\n",
              "      <td>1</td>\n",
              "      <td>Normal</td>\n",
              "      <td>0</td>\n",
              "    </tr>\n",
              "    <tr>\n",
              "      <th>4</th>\n",
              "      <td>36</td>\n",
              "      <td>108205</td>\n",
              "      <td>8</td>\n",
              "      <td>47344</td>\n",
              "      <td>udp</td>\n",
              "      <td>CON</td>\n",
              "      <td>0.001169</td>\n",
              "      <td>146</td>\n",
              "      <td>178</td>\n",
              "      <td>31</td>\n",
              "      <td>29</td>\n",
              "      <td>0</td>\n",
              "      <td>0</td>\n",
              "      <td>dns</td>\n",
              "      <td>499572.25000</td>\n",
              "      <td>609067.56250</td>\n",
              "      <td>2</td>\n",
              "      <td>2</td>\n",
              "      <td>0</td>\n",
              "      <td>0</td>\n",
              "      <td>0</td>\n",
              "      <td>0</td>\n",
              "      <td>73</td>\n",
              "      <td>89</td>\n",
              "      <td>0</td>\n",
              "      <td>0</td>\n",
              "      <td>0.00000</td>\n",
              "      <td>0.000000</td>\n",
              "      <td>1421927414</td>\n",
              "      <td>1421927414</td>\n",
              "      <td>0.005</td>\n",
              "      <td>0.003000</td>\n",
              "      <td>0.0</td>\n",
              "      <td>0.0</td>\n",
              "      <td>0.0</td>\n",
              "      <td>0</td>\n",
              "      <td>0</td>\n",
              "      <td>0.0</td>\n",
              "      <td>0.0</td>\n",
              "      <td>0</td>\n",
              "      <td>7</td>\n",
              "      <td>9</td>\n",
              "      <td>1</td>\n",
              "      <td>1</td>\n",
              "      <td>1</td>\n",
              "      <td>1</td>\n",
              "      <td>1</td>\n",
              "      <td>Normal</td>\n",
              "      <td>0</td>\n",
              "    </tr>\n",
              "  </tbody>\n",
              "</table>\n",
              "</div>"
            ],
            "text/plain": [
              "   srcip   sport  dstip  ...  ct_dst_src_ltm attack_cat label\n",
              "0     33   68854     24  ...               1     Normal     0\n",
              "1     33   90600     27  ...               2     Normal     0\n",
              "2     39   69669     25  ...               1     Normal     0\n",
              "3     38   93095     23  ...               1     Normal     0\n",
              "4     36  108205      8  ...               1     Normal     0\n",
              "\n",
              "[5 rows x 49 columns]"
            ]
          },
          "metadata": {
            "tags": []
          },
          "execution_count": 16
        }
      ]
    },
    {
      "cell_type": "code",
      "metadata": {
        "id": "baBET1FLdQud",
        "colab_type": "code",
        "outputId": "2375779a-c108-480e-b110-0cb6fb5776a5",
        "colab": {
          "base_uri": "https://localhost:8080/",
          "height": 151
        }
      },
      "source": [
        "# Store input columns in X\n",
        "\n",
        "X = dataset.iloc[:,0:47]\n",
        "print(X[0:5])"
      ],
      "execution_count": 17,
      "outputs": [
        {
          "output_type": "stream",
          "text": [
            "   srcip   sport  dstip  ...  ct_src_dport_ltm ct_dst_sport_ltm ct_dst_src_ltm\n",
            "0     33   68854     24  ...                 1                1              1\n",
            "1     33   90600     27  ...                 1                1              2\n",
            "2     39   69669     25  ...                 2                1              1\n",
            "3     38   93095     23  ...                 1                1              1\n",
            "4     36  108205      8  ...                 1                1              1\n",
            "\n",
            "[5 rows x 47 columns]\n"
          ],
          "name": "stdout"
        }
      ]
    },
    {
      "cell_type": "code",
      "metadata": {
        "id": "6ZuApKbDdQuf",
        "colab_type": "code",
        "outputId": "bd174709-1df1-467a-a5e3-3a37bc0896a2",
        "colab": {
          "base_uri": "https://localhost:8080/",
          "height": 118
        }
      },
      "source": [
        "# Store output columns in Y\n",
        "\n",
        "Y = dataset.iloc[:,-2:]\n",
        "print(Y[0:5])"
      ],
      "execution_count": 18,
      "outputs": [
        {
          "output_type": "stream",
          "text": [
            "  attack_cat  label\n",
            "0     Normal      0\n",
            "1     Normal      0\n",
            "2     Normal      0\n",
            "3     Normal      0\n",
            "4     Normal      0\n"
          ],
          "name": "stdout"
        }
      ]
    },
    {
      "cell_type": "code",
      "metadata": {
        "id": "YpKFgx9whXiV",
        "colab_type": "code",
        "colab": {}
      },
      "source": [
        "filter_list = [(x,y) for (x,y) in zip(X,Y)if (y[0] =='Normal' or  y[0]== 'Generic')]"
      ],
      "execution_count": 0,
      "outputs": []
    },
    {
      "cell_type": "code",
      "metadata": {
        "id": "7GZrl3hqlK3w",
        "colab_type": "code",
        "colab": {
          "base_uri": "https://localhost:8080/",
          "height": 34
        },
        "outputId": "dfab2a11-05a0-411f-a5b6-bf22211cac08"
      },
      "source": [
        "filter_list"
      ],
      "execution_count": 20,
      "outputs": [
        {
          "output_type": "execute_result",
          "data": {
            "text/plain": [
              "[]"
            ]
          },
          "metadata": {
            "tags": []
          },
          "execution_count": 20
        }
      ]
    },
    {
      "cell_type": "code",
      "metadata": {
        "id": "wVqg1q8PhuO6",
        "colab_type": "code",
        "colab": {
          "base_uri": "https://localhost:8080/",
          "height": 34
        },
        "outputId": "affc3424-98d8-4e17-d5fc-950cfc632c46"
      },
      "source": [
        "len(Y['attack_cat']== 'Generic')"
      ],
      "execution_count": 21,
      "outputs": [
        {
          "output_type": "execute_result",
          "data": {
            "text/plain": [
              "2540047"
            ]
          },
          "metadata": {
            "tags": []
          },
          "execution_count": 21
        }
      ]
    },
    {
      "cell_type": "code",
      "metadata": {
        "id": "yzLJxId1o46X",
        "colab_type": "code",
        "outputId": "983b3c3f-afef-4580-b558-38231f3385d1",
        "colab": {
          "base_uri": "https://localhost:8080/",
          "height": 168
        }
      },
      "source": [
        "dataset.loc[:,'proto'] = dataset.loc[:,'proto'].astype('category')\n",
        "dataset.loc[:,'proto'] = dataset.loc[:,'proto'].cat.codes\n",
        "dataset.loc[:,'state'] = dataset.loc[:,'state'].astype('category')\n",
        "dataset.loc[:,'state'] = dataset.loc[:,'state'].cat.codes\n",
        "dataset.loc[:,'service'] = dataset.loc[:,'service'].astype('category')\n",
        "dataset.loc[:,'service'] = dataset.loc[:,'service'].cat.codes\n",
        "X = dataset.iloc[:,0:47]\n",
        "print('Data After one hot encoding\\n', X[0:5])"
      ],
      "execution_count": 22,
      "outputs": [
        {
          "output_type": "stream",
          "text": [
            "Data After one hot encoding\n",
            "    srcip   sport  dstip  ...  ct_src_dport_ltm  ct_dst_sport_ltm  ct_dst_src_ltm\n",
            "0     33   68854     24  ...                 1                 1               1\n",
            "1     33   90600     27  ...                 1                 1               2\n",
            "2     39   69669     25  ...                 2                 1               1\n",
            "3     38   93095     23  ...                 1                 1               1\n",
            "4     36  108205      8  ...                 1                 1               1\n",
            "\n",
            "[5 rows x 47 columns]\n"
          ],
          "name": "stdout"
        }
      ]
    },
    {
      "cell_type": "code",
      "metadata": {
        "id": "NPKQ1lXQdQuj",
        "colab_type": "code",
        "outputId": "e9c2bf70-cc76-4854-c031-c04edca4a710",
        "colab": {
          "base_uri": "https://localhost:8080/",
          "height": 54
        }
      },
      "source": [
        "'''\n",
        "# One Hot Encoding of output column 'attack_cat'\n",
        "Y.loc[:,'attack_cat'] = [i.strip(' ') for i in Y.loc[:,'attack_cat']]\n",
        "print('attack cat ', (Y.loc[:,'attack_cat'].unique()))\n",
        "Y_enc = pd.get_dummies(Y, columns=['attack_cat'])\n",
        "'''"
      ],
      "execution_count": 23,
      "outputs": [
        {
          "output_type": "execute_result",
          "data": {
            "text/plain": [
              "\"\\n# One Hot Encoding of output column 'attack_cat'\\nY.loc[:,'attack_cat'] = [i.strip(' ') for i in Y.loc[:,'attack_cat']]\\nprint('attack cat ', (Y.loc[:,'attack_cat'].unique()))\\nY_enc = pd.get_dummies(Y, columns=['attack_cat'])\\n\""
            ]
          },
          "metadata": {
            "tags": []
          },
          "execution_count": 23
        }
      ]
    },
    {
      "cell_type": "code",
      "metadata": {
        "id": "llJzWK3GdQun",
        "colab_type": "code",
        "colab": {}
      },
      "source": [
        "# Normalization\n",
        "\n",
        "from scipy import stats\n",
        "from sklearn.preprocessing import MinMaxScaler\n",
        "# Pass parameter type = 'statistical' or 'minmax'\n",
        "# Note: statistical is better for SVM and KNN.\n",
        "def normalization(data, type='minmax'):\n",
        "    if type == 'statistical':\n",
        "        return stats.zscore(data)\n",
        "    elif type == 'minmax':\n",
        "        scaler = MinMaxScaler()\n",
        "        return scaler.fit_transform(data)\n",
        "    else:\n",
        "        print('\\n Norm type not found! \\n')"
      ],
      "execution_count": 0,
      "outputs": []
    },
    {
      "cell_type": "code",
      "metadata": {
        "id": "82rEkJJldQup",
        "colab_type": "code",
        "outputId": "9b7bedee-2660-49eb-a0aa-544e203cf5b4",
        "colab": {
          "base_uri": "https://localhost:8080/",
          "height": 1000
        }
      },
      "source": [
        "\n",
        "X = normalization(X, 'minmax')\n",
        "print(X[0:5])"
      ],
      "execution_count": 25,
      "outputs": [
        {
          "output_type": "stream",
          "text": [
            "[[7.85714286e-01 5.33247626e-01 5.21739130e-01 7.32550403e-01\n",
            "  8.95522388e-01 1.33333333e-01 1.20068681e-07 9.19490652e-06\n",
            "  1.11887875e-05 1.21568627e-01 1.14173228e-01 0.00000000e+00\n",
            "  0.00000000e+00 1.66666667e-01 8.35794783e-05 4.82907536e-03\n",
            "  1.87863986e-04 1.81521147e-04 0.00000000e+00 0.00000000e+00\n",
            "  0.00000000e+00 0.00000000e+00 4.38829787e-02 5.46666667e-02\n",
            "  0.00000000e+00 0.00000000e+00 0.00000000e+00 0.00000000e+00\n",
            "  1.58479216e-05 0.00000000e+00 2.01489849e-07 2.18541314e-07\n",
            "  0.00000000e+00 0.00000000e+00 0.00000000e+00 0.00000000e+00\n",
            "  0.00000000e+00 0.00000000e+00 0.00000000e+00 0.00000000e+00\n",
            "  3.03030303e-02 9.09090909e-02 0.00000000e+00 3.03030303e-02\n",
            "  0.00000000e+00 0.00000000e+00 0.00000000e+00]\n",
            " [7.85714286e-01 7.01661994e-01 5.86956522e-01 3.91465132e-03\n",
            "  8.95522388e-01 1.33333333e-01 4.11226697e-06 3.67796261e-05\n",
            "  2.07401915e-05 1.21568627e-01 1.14173228e-01 0.00000000e+00\n",
            "  0.00000000e+00 0.00000000e+00 1.46419643e-05 3.92042757e-04\n",
            "  3.75727973e-04 3.63042294e-04 0.00000000e+00 0.00000000e+00\n",
            "  0.00000000e+00 0.00000000e+00 8.77659574e-02 5.06666667e-02\n",
            "  0.00000000e+00 0.00000000e+00 6.66586057e-06 1.36744038e-05\n",
            "  1.58479216e-05 0.00000000e+00 8.30256702e-05 1.27163021e-04\n",
            "  0.00000000e+00 0.00000000e+00 0.00000000e+00 0.00000000e+00\n",
            "  0.00000000e+00 0.00000000e+00 0.00000000e+00 0.00000000e+00\n",
            "  1.51515152e-02 4.54545455e-02 1.51515152e-02 3.03030303e-02\n",
            "  0.00000000e+00 0.00000000e+00 1.51515152e-02]\n",
            " [9.28571429e-01 5.39559486e-01 5.43478261e-01 7.32550403e-01\n",
            "  8.95522388e-01 1.33333333e-01 1.27352468e-07 1.01701239e-05\n",
            "  1.21439279e-05 1.21568627e-01 1.14173228e-01 0.00000000e+00\n",
            "  0.00000000e+00 1.66666667e-01 8.71567316e-05 4.94154214e-03\n",
            "  1.87863986e-04 1.81521147e-04 0.00000000e+00 0.00000000e+00\n",
            "  0.00000000e+00 0.00000000e+00 4.85372340e-02 5.93333333e-02\n",
            "  0.00000000e+00 0.00000000e+00 0.00000000e+00 0.00000000e+00\n",
            "  1.58479216e-05 0.00000000e+00 2.01489849e-07 2.18541314e-07\n",
            "  0.00000000e+00 0.00000000e+00 0.00000000e+00 0.00000000e+00\n",
            "  0.00000000e+00 0.00000000e+00 0.00000000e+00 0.00000000e+00\n",
            "  1.66666667e-01 1.06060606e-01 0.00000000e+00 1.51515152e-02\n",
            "  1.51515152e-02 0.00000000e+00 0.00000000e+00]\n",
            " [9.04761905e-01 7.20984805e-01 5.00000000e-01 7.32550403e-01\n",
            "  8.95522388e-01 1.33333333e-01 1.37595294e-07 9.19490652e-06\n",
            "  1.11887875e-05 1.21568627e-01 1.14173228e-01 0.00000000e+00\n",
            "  0.00000000e+00 1.66666667e-01 7.29332906e-05 4.21395747e-03\n",
            "  1.87863986e-04 1.81521147e-04 0.00000000e+00 0.00000000e+00\n",
            "  0.00000000e+00 0.00000000e+00 4.38829787e-02 5.46666667e-02\n",
            "  0.00000000e+00 0.00000000e+00 0.00000000e+00 0.00000000e+00\n",
            "  1.58479216e-05 0.00000000e+00 5.09650795e-07 2.35352184e-07\n",
            "  0.00000000e+00 0.00000000e+00 0.00000000e+00 0.00000000e+00\n",
            "  0.00000000e+00 0.00000000e+00 0.00000000e+00 0.00000000e+00\n",
            "  7.57575758e-02 1.21212121e-01 0.00000000e+00 0.00000000e+00\n",
            "  0.00000000e+00 0.00000000e+00 0.00000000e+00]\n",
            " [8.57142857e-01 8.38005917e-01 1.73913043e-01 7.32550403e-01\n",
            "  8.95522388e-01 1.33333333e-01 1.33042927e-07 1.01701239e-05\n",
            "  1.21439279e-05 1.21568627e-01 1.14173228e-01 0.00000000e+00\n",
            "  0.00000000e+00 1.66666667e-01 8.34288959e-05 4.73018450e-03\n",
            "  1.87863986e-04 1.81521147e-04 0.00000000e+00 0.00000000e+00\n",
            "  0.00000000e+00 0.00000000e+00 4.85372340e-02 5.93333333e-02\n",
            "  0.00000000e+00 0.00000000e+00 0.00000000e+00 0.00000000e+00\n",
            "  1.58479216e-05 0.00000000e+00 5.92617203e-08 5.04326109e-08\n",
            "  0.00000000e+00 0.00000000e+00 0.00000000e+00 0.00000000e+00\n",
            "  0.00000000e+00 0.00000000e+00 0.00000000e+00 0.00000000e+00\n",
            "  9.09090909e-02 1.21212121e-01 0.00000000e+00 0.00000000e+00\n",
            "  0.00000000e+00 0.00000000e+00 0.00000000e+00]]\n"
          ],
          "name": "stdout"
        }
      ]
    },
    {
      "cell_type": "code",
      "metadata": {
        "id": "FSLLbuNrdQur",
        "colab_type": "code",
        "outputId": "0a957073-38ae-4156-ff36-034ef31f7bac",
        "colab": {
          "base_uri": "https://localhost:8080/",
          "height": 134
        }
      },
      "source": [
        "print(X)"
      ],
      "execution_count": 26,
      "outputs": [
        {
          "output_type": "stream",
          "text": [
            "[[0.78571429 0.53324763 0.52173913 ... 0.         0.         0.        ]\n",
            " [0.78571429 0.70166199 0.58695652 ... 0.         0.         0.01515152]\n",
            " [0.92857143 0.53955949 0.54347826 ... 0.01515152 0.         0.        ]\n",
            " ...\n",
            " [0.85714286 0.15921377 0.58695652 ... 0.01515152 0.01694915 0.01515152]\n",
            " [1.         0.26703428 0.17391304 ... 0.01515152 0.01694915 0.01515152]\n",
            " [0.66666667 0.12654699 0.36956522 ... 0.01515152 0.01694915 0.01515152]]\n"
          ],
          "name": "stdout"
        }
      ]
    },
    {
      "cell_type": "code",
      "metadata": {
        "id": "UWzL8vFveacY",
        "colab_type": "code",
        "outputId": "535ed8fc-4a62-4352-ea58-f651e57b27a9",
        "colab": {
          "base_uri": "https://localhost:8080/",
          "height": 70
        }
      },
      "source": [
        "from sklearn.ensemble.forest import RandomForestClassifier\n",
        "from sklearn.feature_selection import SelectFromModel"
      ],
      "execution_count": 27,
      "outputs": [
        {
          "output_type": "stream",
          "text": [
            "/usr/local/lib/python3.6/dist-packages/sklearn/utils/deprecation.py:144: FutureWarning: The sklearn.ensemble.forest module is  deprecated in version 0.22 and will be removed in version 0.24. The corresponding classes / functions should instead be imported from sklearn.ensemble. Anything that cannot be imported from sklearn.ensemble is now part of the private API.\n",
            "  warnings.warn(message, FutureWarning)\n"
          ],
          "name": "stderr"
        }
      ]
    },
    {
      "cell_type": "code",
      "metadata": {
        "id": "rv5cfJeOepb8",
        "colab_type": "code",
        "colab": {}
      },
      "source": [
        "#one hot encoding target variable\n",
        "from sklearn.preprocessing import OneHotEncoder\n",
        "Y.loc[:,'attack_cat'] = Y.loc[:,'attack_cat'].astype('category')\n",
        "Y.loc[:,'attack_cat'] = Y.loc[:,'attack_cat'].cat.codes\n"
      ],
      "execution_count": 0,
      "outputs": []
    },
    {
      "cell_type": "code",
      "metadata": {
        "id": "pTQMBRK6fpvc",
        "colab_type": "code",
        "outputId": "73aa1cc7-1d79-428d-a658-f281cdd06075",
        "colab": {
          "base_uri": "https://localhost:8080/",
          "height": 134
        }
      },
      "source": [
        "Y['attack_cat']\n",
        "y_cat=[]\n",
        "y_cat = np.array(Y['attack_cat']).reshape(-1,1)\n",
        "y_cat"
      ],
      "execution_count": 29,
      "outputs": [
        {
          "output_type": "execute_result",
          "data": {
            "text/plain": [
              "array([[9],\n",
              "       [9],\n",
              "       [9],\n",
              "       ...,\n",
              "       [9],\n",
              "       [9],\n",
              "       [7]], dtype=int8)"
            ]
          },
          "metadata": {
            "tags": []
          },
          "execution_count": 29
        }
      ]
    },
    {
      "cell_type": "code",
      "metadata": {
        "id": "2wmX80DBOdvl",
        "colab_type": "code",
        "colab": {
          "base_uri": "https://localhost:8080/",
          "height": 70
        },
        "outputId": "d12af285-7906-4342-ea89-d9de8aea51f0"
      },
      "source": [
        "from sklearn.ensemble import ExtraTreesClassifier\n",
        "clf = ExtraTreesClassifier(n_estimators=500)\n",
        "clf = clf.fit(X, y_cat)\n"
      ],
      "execution_count": 30,
      "outputs": [
        {
          "output_type": "stream",
          "text": [
            "/usr/local/lib/python3.6/dist-packages/ipykernel_launcher.py:3: DataConversionWarning: A column-vector y was passed when a 1d array was expected. Please change the shape of y to (n_samples,), for example using ravel().\n",
            "  This is separate from the ipykernel package so we can avoid doing imports until\n"
          ],
          "name": "stderr"
        }
      ]
    },
    {
      "cell_type": "code",
      "metadata": {
        "id": "987dG0_XgeSr",
        "colab_type": "code",
        "colab": {}
      },
      "source": [
        "# sel = (RandomForestClassifier(n_estimators = 100))\n",
        "# sel.fit(X, y_cat)"
      ],
      "execution_count": 0,
      "outputs": []
    },
    {
      "cell_type": "code",
      "metadata": {
        "id": "-ycTNtD2QBt2",
        "colab_type": "code",
        "colab": {
          "base_uri": "https://localhost:8080/",
          "height": 218
        },
        "outputId": "df01189b-6522-4d5c-80f2-81ecd21ce547"
      },
      "source": [
        "features=[]\n",
        "print(clf.feature_importances_)\n",
        "features=(clf.feature_importances_).tolist()"
      ],
      "execution_count": 32,
      "outputs": [
        {
          "output_type": "stream",
          "text": [
            "[5.66446512e-02 1.17044928e-02 5.08078295e-02 3.57554101e-02\n",
            " 6.69248289e-03 1.75502025e-02 2.81320263e-03 1.16607720e-02\n",
            " 3.08729655e-03 2.73092317e-01 5.12805736e-02 2.20750284e-03\n",
            " 2.35369610e-03 2.10096395e-02 6.99622246e-03 5.76863341e-03\n",
            " 2.09248956e-03 2.71289907e-03 2.01291574e-02 1.90903772e-02\n",
            " 4.98138397e-03 5.90240503e-03 2.38886074e-02 1.14514866e-02\n",
            " 9.97141333e-04 7.20865552e-04 2.44207593e-03 2.14648473e-03\n",
            " 1.61016689e-02 1.60867010e-02 3.29301744e-03 2.21083053e-03\n",
            " 3.76198416e-03 3.35654907e-03 3.29027381e-03 6.53201732e-04\n",
            " 1.46243475e-01 8.07350082e-04 1.83636812e-04 1.89058784e-04\n",
            " 2.01635600e-02 2.98560119e-02 1.63239489e-02 1.15976644e-02\n",
            " 1.76605300e-02 2.38879608e-02 2.83522787e-02]\n"
          ],
          "name": "stdout"
        }
      ]
    },
    {
      "cell_type": "code",
      "metadata": {
        "id": "ZAxDTSYcQQjc",
        "colab_type": "code",
        "colab": {
          "base_uri": "https://localhost:8080/",
          "height": 70
        },
        "outputId": "5569bc02-48e9-468e-c9ca-99f29a44b0d6"
      },
      "source": [
        "print(\"Features sorted by their score:\")\n",
        "print(sorted(zip(map(lambda x: round(x, 4), clf.feature_importances_), column_attributes), \n",
        "             reverse=True))"
      ],
      "execution_count": 33,
      "outputs": [
        {
          "output_type": "stream",
          "text": [
            "Features sorted by their score:\n",
            "[(0.2731, 'sttl'), (0.1462, 'ct_state_ttl'), (0.0566, 'srcip'), (0.0513, 'dttl'), (0.0508, 'dstip'), (0.0358, 'dsport'), (0.0299, 'ct_srv_dst'), (0.0284, 'ct_dst_src_ltm'), (0.0239, 'smeansz'), (0.0239, 'ct_dst_sport_ltm'), (0.021, 'service'), (0.0202, 'ct_srv_src'), (0.0201, 'swin'), (0.0191, 'dwin'), (0.0177, 'ct_src_dport_ltm'), (0.0176, 'state'), (0.0163, 'ct_dst_ltm'), (0.0161, 'Stime'), (0.0161, 'Ltime'), (0.0117, 'sport'), (0.0117, 'sbytes'), (0.0116, 'ct_src_ ltm'), (0.0115, 'dmeansz'), (0.007, 'Sload'), (0.0067, 'proto'), (0.0059, 'dtcpb'), (0.0058, 'Dload'), (0.005, 'stcpb'), (0.0038, 'tcprtt'), (0.0034, 'synack'), (0.0033, 'ackdat'), (0.0033, 'Sintpkt'), (0.0031, 'dbytes'), (0.0028, 'dur'), (0.0027, 'Dpkts'), (0.0024, 'dloss'), (0.0024, 'Sjit'), (0.0022, 'sloss'), (0.0022, 'Dintpkt'), (0.0021, 'Spkts'), (0.0021, 'Djit'), (0.001, 'trans_depth'), (0.0008, 'ct_flw_http_mthd'), (0.0007, 'res_bdy_len'), (0.0007, 'is_sm_ips_ports'), (0.0002, 'is_ftp_login'), (0.0002, 'ct_ftp_cmd')]\n"
          ],
          "name": "stdout"
        }
      ]
    },
    {
      "cell_type": "code",
      "metadata": {
        "id": "2vKTKUR1wd21",
        "colab_type": "code",
        "outputId": "d602af0d-21dc-4a0a-9dab-ea8580993867",
        "colab": {
          "base_uri": "https://localhost:8080/",
          "height": 70
        }
      },
      "source": [
        "#selecting features\n",
        "sfm = SelectFromModel(clf, threshold=0.002)\n",
        "sfm.fit(X,y_cat)\n",
        "X= sfm.transform(X)"
      ],
      "execution_count": 36,
      "outputs": [
        {
          "output_type": "stream",
          "text": [
            "/usr/local/lib/python3.6/dist-packages/sklearn/feature_selection/_from_model.py:222: DataConversionWarning: A column-vector y was passed when a 1d array was expected. Please change the shape of y to (n_samples,), for example using ravel().\n",
            "  self.estimator_.fit(X, y, **fit_params)\n"
          ],
          "name": "stderr"
        }
      ]
    },
    {
      "cell_type": "code",
      "metadata": {
        "id": "s-cnffhYE0no",
        "colab_type": "code",
        "outputId": "3ee1e07a-1aaf-4e8c-e5f9-2ff08aab3d05",
        "colab": {
          "base_uri": "https://localhost:8080/",
          "height": 34
        }
      },
      "source": [
        "X.shape"
      ],
      "execution_count": 37,
      "outputs": [
        {
          "output_type": "execute_result",
          "data": {
            "text/plain": [
              "(2540047, 41)"
            ]
          },
          "metadata": {
            "tags": []
          },
          "execution_count": 37
        }
      ]
    },
    {
      "cell_type": "code",
      "metadata": {
        "id": "jzMx_iYUN_X2",
        "colab_type": "code",
        "colab": {
          "base_uri": "https://localhost:8080/",
          "height": 235
        },
        "outputId": "f8f41276-f4cc-420c-85be-d3c21226aff9"
      },
      "source": [
        "X"
      ],
      "execution_count": 38,
      "outputs": [
        {
          "output_type": "execute_result",
          "data": {
            "text/plain": [
              "array([[0.78571429, 0.53324763, 0.52173913, ..., 0.        , 0.        ,\n",
              "        0.        ],\n",
              "       [0.78571429, 0.70166199, 0.58695652, ..., 0.        , 0.        ,\n",
              "        0.01515152],\n",
              "       [0.92857143, 0.53955949, 0.54347826, ..., 0.01515152, 0.        ,\n",
              "        0.        ],\n",
              "       ...,\n",
              "       [0.85714286, 0.15921377, 0.58695652, ..., 0.01515152, 0.01694915,\n",
              "        0.01515152],\n",
              "       [1.        , 0.26703428, 0.17391304, ..., 0.01515152, 0.01694915,\n",
              "        0.01515152],\n",
              "       [0.66666667, 0.12654699, 0.36956522, ..., 0.01515152, 0.01694915,\n",
              "        0.01515152]])"
            ]
          },
          "metadata": {
            "tags": []
          },
          "execution_count": 38
        }
      ]
    },
    {
      "cell_type": "code",
      "metadata": {
        "id": "CIK1wUK6jFU8",
        "colab_type": "code",
        "colab": {
          "base_uri": "https://localhost:8080/",
          "height": 605
        },
        "outputId": "1cd3cdf5-e0c4-4958-cae0-2e640cdb1dfa"
      },
      "source": [
        "plot_attack_category(dataset)"
      ],
      "execution_count": 39,
      "outputs": [
        {
          "output_type": "display_data",
          "data": {
            "image/png": "[encoded data removed]",
            "text/plain": [
              "<Figure size 1080x720 with 1 Axes>"
            ]
          },
          "metadata": {
            "tags": []
          }
        }
      ]
    },
    {
      "cell_type": "code",
      "metadata": {
        "id": "BaSdzP-xgi95",
        "colab_type": "code",
        "colab": {
          "base_uri": "https://localhost:8080/",
          "height": 235
        },
        "outputId": "ae2c6a1b-0608-42ae-d387-7c99f9aa15e9"
      },
      "source": [
        "from collections import Counter\n",
        "Counter(Y['attack_cat'])"
      ],
      "execution_count": 41,
      "outputs": [
        {
          "output_type": "execute_result",
          "data": {
            "text/plain": [
              "Counter({0: 5051,\n",
              "         1: 19195,\n",
              "         2: 12228,\n",
              "         3: 1288,\n",
              "         4: 2677,\n",
              "         5: 2329,\n",
              "         6: 16353,\n",
              "         7: 44525,\n",
              "         8: 215481,\n",
              "         9: 2218764,\n",
              "         10: 1759,\n",
              "         11: 223,\n",
              "         12: 174})"
            ]
          },
          "metadata": {
            "tags": []
          },
          "execution_count": 41
        }
      ]
    },
    {
      "cell_type": "code",
      "metadata": {
        "id": "dR_MsuRmayZU",
        "colab_type": "code",
        "colab": {}
      },
      "source": [
        "filter_list = [(x,y) for (x,y) in zip(X,Y['attack_cat'])if (y ==9 or y== 8)]"
      ],
      "execution_count": 0,
      "outputs": []
    },
    {
      "cell_type": "code",
      "metadata": {
        "id": "NgRE-RZqdO2c",
        "colab_type": "code",
        "colab": {}
      },
      "source": [
        "x = []\n",
        "y = []\n",
        "for i , val in enumerate(filter_list):\n",
        "  x.append(val[0])\n",
        "  y.append(val[1])"
      ],
      "execution_count": 0,
      "outputs": []
    },
    {
      "cell_type": "code",
      "metadata": {
        "id": "nXBvRvjRcbRC",
        "colab_type": "code",
        "colab": {
          "base_uri": "https://localhost:8080/",
          "height": 154
        },
        "outputId": "a446efcb-7a92-43c2-feb5-e87913b11683"
      },
      "source": [
        "from sklearn.datasets import make_classification\n",
        "from imblearn.under_sampling import RandomUnderSampler\n",
        "from collections import Counter\n",
        "rus = RandomUnderSampler(random_state=42)\n",
        "X_res, y_res = rus.fit_resample(x, y)\n",
        "print('Resampled dataset shape %s' % Counter(y_res))"
      ],
      "execution_count": 44,
      "outputs": [
        {
          "output_type": "stream",
          "text": [
            "/usr/local/lib/python3.6/dist-packages/sklearn/externals/six.py:31: FutureWarning: The module is deprecated in version 0.21 and will be removed in version 0.23 since we've dropped support for Python 2.7. Please rely on the official version of six (https://pypi.org/project/six/).\n",
            "  \"(https://pypi.org/project/six/).\", FutureWarning)\n",
            "/usr/local/lib/python3.6/dist-packages/sklearn/utils/deprecation.py:144: FutureWarning: The sklearn.neighbors.base module is  deprecated in version 0.22 and will be removed in version 0.24. The corresponding classes / functions should instead be imported from sklearn.neighbors. Anything that cannot be imported from sklearn.neighbors is now part of the private API.\n",
            "  warnings.warn(message, FutureWarning)\n",
            "/usr/local/lib/python3.6/dist-packages/sklearn/utils/deprecation.py:87: FutureWarning: Function safe_indexing is deprecated; safe_indexing is deprecated in version 0.22 and will be removed in version 0.24.\n",
            "  warnings.warn(msg, category=FutureWarning)\n"
          ],
          "name": "stderr"
        },
        {
          "output_type": "stream",
          "text": [
            "Resampled dataset shape Counter({8: 215481, 9: 215481})\n"
          ],
          "name": "stdout"
        }
      ]
    },
    {
      "cell_type": "code",
      "metadata": {
        "id": "DXphsLUHj4I5",
        "colab_type": "code",
        "colab": {}
      },
      "source": [
        "filter_other_cat = [(x,y) for (x,y) in zip(X,Y['attack_cat'])if (y !=9 or y!= 8)]"
      ],
      "execution_count": 0,
      "outputs": []
    },
    {
      "cell_type": "code",
      "metadata": {
        "id": "4EYJ5c-fkKJ3",
        "colab_type": "code",
        "colab": {}
      },
      "source": [
        "x_other = []\n",
        "y_other = []\n",
        "for i , val in enumerate(filter_other_cat):\n",
        "  x_other.append(val[0])\n",
        "  y_other.append(val[1])"
      ],
      "execution_count": 0,
      "outputs": []
    },
    {
      "cell_type": "code",
      "metadata": {
        "id": "0RO91Ljfmf-H",
        "colab_type": "code",
        "colab": {}
      },
      "source": [
        "dataset_1 = pd.DataFrame(X_res)\n",
        "\n",
        "# X_concat = np.hstack((X_res,y_res))"
      ],
      "execution_count": 0,
      "outputs": []
    },
    {
      "cell_type": "code",
      "metadata": {
        "id": "M2C6AcU6oIFD",
        "colab_type": "code",
        "colab": {}
      },
      "source": [
        "dataset_1['attack_cat'] = y_res"
      ],
      "execution_count": 0,
      "outputs": []
    },
    {
      "cell_type": "code",
      "metadata": {
        "id": "KxnHJ9bjrSqR",
        "colab_type": "code",
        "colab": {}
      },
      "source": [
        "dataset_2 = pd.DataFrame(x_other)\n",
        "dataset_2['attack_cat'] = y_other"
      ],
      "execution_count": 0,
      "outputs": []
    }
  ]
}