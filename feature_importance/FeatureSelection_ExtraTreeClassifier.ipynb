{
  "nbformat": 4,
  "nbformat_minor": 0,
  "metadata": {
    "kernelspec": {
      "display_name": "Python 3",
      "language": "python",
      "name": "python3"
    },
    "language_info": {
      "codemirror_mode": {
        "name": "ipython",
        "version": 3
      },
      "file_extension": ".py",
      "mimetype": "text/x-python",
      "name": "python",
      "nbconvert_exporter": "python",
      "pygments_lexer": "ipython3",
      "version": "3.7.3"
    },
    "colab": {
      "name": "FeatureSelection_ExtraTreeClassifier.ipynb",
      "provenance": [],
      "collapsed_sections": [],
      "machine_shape": "hm"
    }
  },
  "cells": [
    {
      "cell_type": "code",
      "metadata": {
        "id": "7gkKYsMIdQt2",
        "colab_type": "code",
        "outputId": "ce3cd732-35f0-443a-880b-a244d80ffd44",
        "colab": {
          "base_uri": "https://localhost:8080/",
          "height": 138
        }
      },
      "source": [
        "import pandas as pd\n",
        "import numpy as np\n",
        "import seaborn as sns\n",
        "import matplotlib.pyplot as plt\n",
        "from wordcloud import WordCloud, STOPWORDS\n",
        "from sklearn.ensemble import RandomForestClassifier\n",
        "from sklearn.feature_selection import VarianceThreshold\n",
        "from sklearn.ensemble import ExtraTreesClassifier\n",
        "from sklearn.utils import shuffle\n",
        "from collections import Counter\n",
        "from sklearn.datasets import make_classification\n",
        "from imblearn.under_sampling import RandomUnderSampler\n",
        "from imblearn.over_sampling import SMOTE\n",
        "\n",
        "from sklearn.datasets import make_classification\n",
        "from sklearn.feature_selection import SelectFromModel\n",
        "import warnings\n",
        "with warnings.catch_warnings():\n",
        "    warnings.filterwarnings(\"ignore\", category=DeprecationWarning)"
      ],
      "execution_count": 0,
      "outputs": [
        {
          "output_type": "stream",
          "text": [
            "/usr/local/lib/python3.6/dist-packages/statsmodels/tools/_testing.py:19: FutureWarning: pandas.util.testing is deprecated. Use the functions in the public API at pandas.testing instead.\n",
            "  import pandas.util.testing as tm\n",
            "/usr/local/lib/python3.6/dist-packages/sklearn/externals/six.py:31: FutureWarning: The module is deprecated in version 0.21 and will be removed in version 0.23 since we've dropped support for Python 2.7. Please rely on the official version of six (https://pypi.org/project/six/).\n",
            "  \"(https://pypi.org/project/six/).\", FutureWarning)\n",
            "/usr/local/lib/python3.6/dist-packages/sklearn/utils/deprecation.py:144: FutureWarning: The sklearn.neighbors.base module is  deprecated in version 0.22 and will be removed in version 0.24. The corresponding classes / functions should instead be imported from sklearn.neighbors. Anything that cannot be imported from sklearn.neighbors is now part of the private API.\n",
            "  warnings.warn(message, FutureWarning)\n"
          ],
          "name": "stderr"
        }
      ]
    },
    {
      "cell_type": "code",
      "metadata": {
        "id": "Q7jIWorfGrjm",
        "colab_type": "code",
        "outputId": "7d929462-c73a-4fed-ffdd-0b817b241295",
        "colab": {
          "base_uri": "https://localhost:8080/",
          "height": 121
        }
      },
      "source": [
        "from google.colab import drive\n",
        "drive.mount('/content/drive')"
      ],
      "execution_count": 0,
      "outputs": [
        {
          "output_type": "stream",
          "text": [
            "Go to this URL in a browser: https://accounts.google.com/o/oauth2/auth?client_id=947318989803-6bn6qk8qdgf4n4g3pfee6491hc0brc4i.apps.googleusercontent.com&redirect_uri=urn%3aietf%3awg%3aoauth%3a2.0%3aoob&response_type=code&scope=email%20https%3a%2f%2fwww.googleapis.com%2fauth%2fdocs.test%20https%3a%2f%2fwww.googleapis.com%2fauth%2fdrive%20https%3a%2f%2fwww.googleapis.com%2fauth%2fdrive.photos.readonly%20https%3a%2f%2fwww.googleapis.com%2fauth%2fpeopleapi.readonly\n",
            "\n",
            "Enter your authorization code:\n",
            "··········\n",
            "Mounted at /content/drive\n"
          ],
          "name": "stdout"
        }
      ]
    },
    {
      "cell_type": "code",
      "metadata": {
        "id": "rNEn_YTQdQt6",
        "colab_type": "code",
        "colab": {}
      },
      "source": [
        "\n",
        "# Attribute Information:\n",
        "\n",
        "data_info = pd.read_csv(\"/content/drive/My Drive/Data/NUSW-NB15_features.csv\", encoding = \"ISO-8859-1\")"
      ],
      "execution_count": 0,
      "outputs": []
    },
    {
      "cell_type": "code",
      "metadata": {
        "id": "kktPk1tYdQt8",
        "colab_type": "code",
        "colab": {}
      },
      "source": [
        "\n",
        "# Retrieve Attribute Names\n",
        "\n",
        "column_attributes = list (data_info['Name'])"
      ],
      "execution_count": 0,
      "outputs": []
    },
    {
      "cell_type": "code",
      "metadata": {
        "id": "BpgVQMDsdQt_",
        "colab_type": "code",
        "colab": {}
      },
      "source": [
        "# Read the data available in 4 csv files using temporary data frames\n",
        "\n",
        "dataframe1 = pd.read_csv(\"/content/drive/My Drive/Data/UNSW-NB15_1.csv\",low_memory=False, header=None)\n",
        "dataframe2 = pd.read_csv(\"/content/drive/My Drive/Data/UNSW-NB15_2.csv\", low_memory=False, header=None)\n",
        "dataframe3 = pd.read_csv(\"/content/drive/My Drive/Data/UNSW-NB15_3.csv\", low_memory=False, header=None)\n",
        "dataframe4 = pd.read_csv(\"/content/drive/My Drive/Data/UNSW-NB15_4.csv\",low_memory=False, header=None)"
      ],
      "execution_count": 0,
      "outputs": []
    },
    {
      "cell_type": "code",
      "metadata": {
        "id": "9QSO4yVPdQuB",
        "colab_type": "code",
        "colab": {}
      },
      "source": [
        "# Name the columns of all data frames using attribute names from features.csv\n",
        "\n",
        "df_list = [dataframe1,dataframe2,dataframe3,dataframe4]\n",
        "for df in df_list:\n",
        "    name = [v.lower() for k, v in enumerate(column_attributes)]\n",
        "    df.columns = name"
      ],
      "execution_count": 0,
      "outputs": []
    },
    {
      "cell_type": "code",
      "metadata": {
        "id": "UJ0OQncUdQuD",
        "colab_type": "code",
        "outputId": "60159f0e-1543-49bf-8911-ee3991aaa84d",
        "colab": {
          "base_uri": "https://localhost:8080/",
          "height": 34
        }
      },
      "source": [
        "# Concatenate the 4 temporary data frames into one single data frame\n",
        "\n",
        "dataset = pd.concat([dataframe1, dataframe2, dataframe3, dataframe4])\n",
        "dataset.shape"
      ],
      "execution_count": 0,
      "outputs": [
        {
          "output_type": "execute_result",
          "data": {
            "text/plain": [
              "(2540047, 49)"
            ]
          },
          "metadata": {
            "tags": []
          },
          "execution_count": 7
        }
      ]
    },
    {
      "cell_type": "code",
      "metadata": {
        "id": "zgxfQczKdQuG",
        "colab_type": "code",
        "colab": {}
      },
      "source": [
        "\n",
        "# Delete temporary data frames\n",
        "\n",
        "del dataframe1\n",
        "del dataframe2\n",
        "del dataframe3\n",
        "del dataframe4"
      ],
      "execution_count": 0,
      "outputs": []
    },
    {
      "cell_type": "code",
      "metadata": {
        "id": "Vyihfhl8dQuJ",
        "colab_type": "code",
        "outputId": "febe9a44-e460-416b-bfa1-74816d79b1e0",
        "colab": {
          "base_uri": "https://localhost:8080/",
          "height": 366
        }
      },
      "source": [
        "# Function to show the different attack cateegories present in the dataset\n",
        "\n",
        "stopwords = set(STOPWORDS)\n",
        "def show_wordcloud(data, title = None):\n",
        "\n",
        "    attack_catgs = data.loc[:,'attack_cat'].replace('Backdoor','Backdoors', regex=False)\n",
        "    attack_catgs = attack_catgs.dropna().to_numpy()\n",
        "    attack_catgs = [x.strip(' ') for x in attack_catgs]\n",
        "    attack_catgs = np.unique(attack_catgs)\n",
        "    text = \" \".join(str(item) for item in attack_catgs)\n",
        "    wordcloud = WordCloud(\n",
        "        background_color='white',\n",
        "        collocations=False,\n",
        "        stopwords=stopwords,\n",
        "        max_words=200,\n",
        "        max_font_size=40, \n",
        "        scale=3,\n",
        "        random_state=1 # chosen at random by flipping a coin; it was heads\n",
        "    ).generate(text)\n",
        " \n",
        "    fig = plt.figure(1, figsize=(12, 12))\n",
        "    plt.axis('off')\n",
        "    if title: \n",
        "        fig.suptitle(title, fontsize=20)\n",
        "        fig.subplots_adjust(top=2.3)\n",
        "\n",
        "    plt.imshow(wordcloud)\n",
        "    plt.show()\n",
        "    \n",
        "show_wordcloud(dataset)"
      ],
      "execution_count": 0,
      "outputs": [
        {
          "output_type": "display_data",
          "data": {
            "image/png": "[encoded data removed]",
            "text/plain": [
              "<Figure size 864x864 with 1 Axes>"
            ]
          },
          "metadata": {
            "tags": [],
            "needs_background": "light"
          }
        }
      ]
    },
    {
      "cell_type": "code",
      "metadata": {
        "id": "mk6-KfSxdQuL",
        "colab_type": "code",
        "colab": {}
      },
      "source": [
        "# Plot to show the distribution of all attack categories\n",
        "\n",
        "def plot_attack_category(data):\n",
        "    attack_catgs = data.loc[:,'attack_cat'].replace('Backdoor','Backdoors', regex=False)\n",
        "    attack_catgs = attack_catgs.dropna().to_numpy()\n",
        "    attack_catgs = [x.strip(' ') for x in attack_catgs]\n",
        "    sns.set(rc={'figure.figsize':(15,10),\"font.size\":70,\"axes.titlesize\":40,\"axes.labelsize\":20},style=\"white\")\n",
        "    catg_plot = sns.countplot(attack_catgs,data = data)\n",
        "    for p in catg_plot.patches:\n",
        "      height = p.get_height()\n",
        "      catg_plot.text(p.get_x()+p.get_width()/2., height + 0.1,height ,ha=\"center\",fontsize = 15)\n",
        "    \n"
      ],
      "execution_count": 0,
      "outputs": []
    },
    {
      "cell_type": "code",
      "metadata": {
        "id": "Q_xtWn_EdQuN",
        "colab_type": "code",
        "outputId": "18cd3e0a-890d-4399-fdca-3cf2060fb40a",
        "colab": {
          "base_uri": "https://localhost:8080/",
          "height": 67
        }
      },
      "source": [
        "# Provided data is not consistent. Check and make relevant changes\n",
        "\n",
        "columns_with_space = dataset.columns[dataset.isin([' ']).any()].tolist()\n",
        "print('columns_with_space ',columns_with_space)\n",
        "columns_with_null = dataset.columns[dataset.isna().any()].tolist()\n",
        "print('columns_with_null ', columns_with_null)\n",
        "columns_with_dash = dataset.columns[dataset.isin(['-']).any()].tolist()\n",
        "print('columns_with_dash', columns_with_dash)"
      ],
      "execution_count": 0,
      "outputs": [
        {
          "output_type": "stream",
          "text": [
            "columns_with_space  ['ct_ftp_cmd']\n",
            "columns_with_null  ['ct_flw_http_mthd', 'is_ftp_login', 'attack_cat']\n",
            "columns_with_dash ['sport', 'dsport', 'service']\n"
          ],
          "name": "stdout"
        }
      ]
    },
    {
      "cell_type": "code",
      "metadata": {
        "id": "ro9A58PTdQuQ",
        "colab_type": "code",
        "colab": {}
      },
      "source": [
        "\n",
        "# Handle null and '-' values\n",
        "\n",
        "# Where attack_cat not mentioned, replace with 'Normal'\n",
        "dataset.loc[:,'attack_cat'] = dataset.loc[:,'attack_cat'].replace(np.nan,'Normal', regex=True)\n",
        "\n",
        "dataset.loc[:,'ct_flw_http_mthd'] = dataset.loc[:,'ct_flw_http_mthd'].replace(np.nan,0, regex=True)\n",
        "dataset.loc[:,'is_ftp_login'] = dataset.loc[:,'is_ftp_login'].replace(np.nan,0, regex=True)\n",
        "\n",
        "dataset.loc[:,'ct_ftp_cmd'] = dataset.loc[:,'ct_ftp_cmd'].replace(' ',0, regex=True)\n",
        "\n",
        "dataset.loc[:,'sport'] = dataset.loc[:,'sport'].replace('-',0, regex=False)\n",
        "dataset.loc[:,'dsport'] = dataset.loc[:,'dsport'].replace('-',0, regex=False)\n",
        "dataset.loc[:,'service'] = dataset.loc[:,'service'].replace('-','Others', regex=False)\n",
        "\n",
        "dataset.loc[:,'attack_cat'] = dataset.loc[:,'attack_cat'].replace('Backdoor','Backdoors', regex=False)"
      ],
      "execution_count": 0,
      "outputs": []
    },
    {
      "cell_type": "code",
      "metadata": {
        "id": "gIZUXB5hdQuT",
        "colab_type": "code",
        "outputId": "e2b81dbc-58ad-4ede-f534-c6df80b11cf4",
        "colab": {
          "base_uri": "https://localhost:8080/",
          "height": 67
        }
      },
      "source": [
        "# Columns that have String values\n",
        "\n",
        "categorical_values = dataset.select_dtypes(exclude=['number']).keys()\n",
        "print('categorical_values ', categorical_values)"
      ],
      "execution_count": 0,
      "outputs": [
        {
          "output_type": "stream",
          "text": [
            "categorical_values  Index(['srcip', 'sport', 'dstip', 'dsport', 'proto', 'state', 'service',\n",
            "       'ct_ftp_cmd', 'attack_cat'],\n",
            "      dtype='object')\n"
          ],
          "name": "stdout"
        }
      ]
    },
    {
      "cell_type": "code",
      "metadata": {
        "id": "qLZOUFoBdQuX",
        "colab_type": "code",
        "outputId": "a699d515-da69-48a4-ac14-38c276254b05",
        "colab": {
          "base_uri": "https://localhost:8080/",
          "height": 50
        }
      },
      "source": [
        "# ct_ftp_cmd field has erroneous String values, such as '0' instead of 0. Handle those values\n",
        "\n",
        "arrg = dataset.loc[:, 'ct_ftp_cmd'].astype('str')\n",
        "dataset.loc[:, 'ct_ftp_cmd'] = pd.to_numeric(arrg, errors='coerce').fillna(0).astype(np.int32)\n",
        "print(dataset.loc[:, 'ct_ftp_cmd'].unique())\n",
        "print('ct_ftp_cmd', dataset.loc[:, 'ct_ftp_cmd'].dtypes)"
      ],
      "execution_count": 0,
      "outputs": [
        {
          "output_type": "stream",
          "text": [
            "[0 1 6 2 4 8 5 3]\n",
            "ct_ftp_cmd int32\n"
          ],
          "name": "stdout"
        }
      ]
    },
    {
      "cell_type": "code",
      "metadata": {
        "id": "0c0yJhwVdQuZ",
        "colab_type": "code",
        "colab": {}
      },
      "source": [
        "\n",
        "# Label Encoding for categorical values. Can't do one hot encoding as it will result in huge increase in column size.\n",
        "\n",
        "dataset.loc[:,'srcip'] = dataset.loc[:,'srcip'].astype('category')\n",
        "# Assigning numerical values\n",
        "dataset.loc[:,'srcip'] = dataset.loc[:,'srcip'].cat.codes\n",
        "\n",
        "dataset.loc[:,'sport'] = dataset.loc[:,'sport'].astype('category')\n",
        "# Assigning numerical values \n",
        "dataset.loc[:,'sport'] = dataset.loc[:,'sport'].cat.codes\n",
        "\n",
        "dataset.loc[:,'dstip'] = dataset.loc[:,'dstip'].astype('category')\n",
        "# Assigning numerical values\n",
        "dataset.loc[:,'dstip'] = dataset.loc[:,'dstip'].cat.codes\n",
        "\n",
        "dataset.loc[:,'dsport'] = dataset.loc[:,'dsport'].astype('category')\n",
        "# Assigning numerical values\n",
        "dataset.loc[:,'dsport'] = dataset.loc[:,'dsport'].cat.codes"
      ],
      "execution_count": 0,
      "outputs": []
    },
    {
      "cell_type": "code",
      "metadata": {
        "id": "GVYn89X4dQub",
        "colab_type": "code",
        "outputId": "639317bb-1b62-42d4-90f0-f8e9512d4654",
        "colab": {
          "base_uri": "https://localhost:8080/",
          "height": 232
        }
      },
      "source": [
        "# Print dataframe after label encoding\n",
        "\n",
        "dataset[0:5]"
      ],
      "execution_count": 0,
      "outputs": [
        {
          "output_type": "execute_result",
          "data": {
            "text/html": [
              "<div>\n",
              "<style scoped>\n",
              "    .dataframe tbody tr th:only-of-type {\n",
              "        vertical-align: middle;\n",
              "    }\n",
              "\n",
              "    .dataframe tbody tr th {\n",
              "        vertical-align: top;\n",
              "    }\n",
              "\n",
              "    .dataframe thead th {\n",
              "        text-align: right;\n",
              "    }\n",
              "</style>\n",
              "<table border=\"1\" class=\"dataframe\">\n",
              "  <thead>\n",
              "    <tr style=\"text-align: right;\">\n",
              "      <th></th>\n",
              "      <th>srcip</th>\n",
              "      <th>sport</th>\n",
              "      <th>dstip</th>\n",
              "      <th>dsport</th>\n",
              "      <th>proto</th>\n",
              "      <th>state</th>\n",
              "      <th>dur</th>\n",
              "      <th>sbytes</th>\n",
              "      <th>dbytes</th>\n",
              "      <th>sttl</th>\n",
              "      <th>dttl</th>\n",
              "      <th>sloss</th>\n",
              "      <th>dloss</th>\n",
              "      <th>service</th>\n",
              "      <th>sload</th>\n",
              "      <th>dload</th>\n",
              "      <th>spkts</th>\n",
              "      <th>dpkts</th>\n",
              "      <th>swin</th>\n",
              "      <th>dwin</th>\n",
              "      <th>stcpb</th>\n",
              "      <th>dtcpb</th>\n",
              "      <th>smeansz</th>\n",
              "      <th>dmeansz</th>\n",
              "      <th>trans_depth</th>\n",
              "      <th>res_bdy_len</th>\n",
              "      <th>sjit</th>\n",
              "      <th>djit</th>\n",
              "      <th>stime</th>\n",
              "      <th>ltime</th>\n",
              "      <th>sintpkt</th>\n",
              "      <th>dintpkt</th>\n",
              "      <th>tcprtt</th>\n",
              "      <th>synack</th>\n",
              "      <th>ackdat</th>\n",
              "      <th>is_sm_ips_ports</th>\n",
              "      <th>ct_state_ttl</th>\n",
              "      <th>ct_flw_http_mthd</th>\n",
              "      <th>is_ftp_login</th>\n",
              "      <th>ct_ftp_cmd</th>\n",
              "      <th>ct_srv_src</th>\n",
              "      <th>ct_srv_dst</th>\n",
              "      <th>ct_dst_ltm</th>\n",
              "      <th>ct_src_ ltm</th>\n",
              "      <th>ct_src_dport_ltm</th>\n",
              "      <th>ct_dst_sport_ltm</th>\n",
              "      <th>ct_dst_src_ltm</th>\n",
              "      <th>attack_cat</th>\n",
              "      <th>label</th>\n",
              "    </tr>\n",
              "  </thead>\n",
              "  <tbody>\n",
              "    <tr>\n",
              "      <th>0</th>\n",
              "      <td>33</td>\n",
              "      <td>68854</td>\n",
              "      <td>24</td>\n",
              "      <td>47344</td>\n",
              "      <td>udp</td>\n",
              "      <td>CON</td>\n",
              "      <td>0.001055</td>\n",
              "      <td>132</td>\n",
              "      <td>164</td>\n",
              "      <td>31</td>\n",
              "      <td>29</td>\n",
              "      <td>0</td>\n",
              "      <td>0</td>\n",
              "      <td>dns</td>\n",
              "      <td>500473.93750</td>\n",
              "      <td>621800.93750</td>\n",
              "      <td>2</td>\n",
              "      <td>2</td>\n",
              "      <td>0</td>\n",
              "      <td>0</td>\n",
              "      <td>0</td>\n",
              "      <td>0</td>\n",
              "      <td>66</td>\n",
              "      <td>82</td>\n",
              "      <td>0</td>\n",
              "      <td>0</td>\n",
              "      <td>0.00000</td>\n",
              "      <td>0.000000</td>\n",
              "      <td>1421927414</td>\n",
              "      <td>1421927414</td>\n",
              "      <td>0.017</td>\n",
              "      <td>0.013000</td>\n",
              "      <td>0.0</td>\n",
              "      <td>0.0</td>\n",
              "      <td>0.0</td>\n",
              "      <td>0</td>\n",
              "      <td>0</td>\n",
              "      <td>0.0</td>\n",
              "      <td>0.0</td>\n",
              "      <td>0</td>\n",
              "      <td>3</td>\n",
              "      <td>7</td>\n",
              "      <td>1</td>\n",
              "      <td>3</td>\n",
              "      <td>1</td>\n",
              "      <td>1</td>\n",
              "      <td>1</td>\n",
              "      <td>Normal</td>\n",
              "      <td>0</td>\n",
              "    </tr>\n",
              "    <tr>\n",
              "      <th>1</th>\n",
              "      <td>33</td>\n",
              "      <td>90600</td>\n",
              "      <td>27</td>\n",
              "      <td>253</td>\n",
              "      <td>udp</td>\n",
              "      <td>CON</td>\n",
              "      <td>0.036133</td>\n",
              "      <td>528</td>\n",
              "      <td>304</td>\n",
              "      <td>31</td>\n",
              "      <td>29</td>\n",
              "      <td>0</td>\n",
              "      <td>0</td>\n",
              "      <td>Others</td>\n",
              "      <td>87676.08594</td>\n",
              "      <td>50480.17188</td>\n",
              "      <td>4</td>\n",
              "      <td>4</td>\n",
              "      <td>0</td>\n",
              "      <td>0</td>\n",
              "      <td>0</td>\n",
              "      <td>0</td>\n",
              "      <td>132</td>\n",
              "      <td>76</td>\n",
              "      <td>0</td>\n",
              "      <td>0</td>\n",
              "      <td>9.89101</td>\n",
              "      <td>10.682733</td>\n",
              "      <td>1421927414</td>\n",
              "      <td>1421927414</td>\n",
              "      <td>7.005</td>\n",
              "      <td>7.564333</td>\n",
              "      <td>0.0</td>\n",
              "      <td>0.0</td>\n",
              "      <td>0.0</td>\n",
              "      <td>0</td>\n",
              "      <td>0</td>\n",
              "      <td>0.0</td>\n",
              "      <td>0.0</td>\n",
              "      <td>0</td>\n",
              "      <td>2</td>\n",
              "      <td>4</td>\n",
              "      <td>2</td>\n",
              "      <td>3</td>\n",
              "      <td>1</td>\n",
              "      <td>1</td>\n",
              "      <td>2</td>\n",
              "      <td>Normal</td>\n",
              "      <td>0</td>\n",
              "    </tr>\n",
              "    <tr>\n",
              "      <th>2</th>\n",
              "      <td>39</td>\n",
              "      <td>69669</td>\n",
              "      <td>25</td>\n",
              "      <td>47344</td>\n",
              "      <td>udp</td>\n",
              "      <td>CON</td>\n",
              "      <td>0.001119</td>\n",
              "      <td>146</td>\n",
              "      <td>178</td>\n",
              "      <td>31</td>\n",
              "      <td>29</td>\n",
              "      <td>0</td>\n",
              "      <td>0</td>\n",
              "      <td>dns</td>\n",
              "      <td>521894.53130</td>\n",
              "      <td>636282.37500</td>\n",
              "      <td>2</td>\n",
              "      <td>2</td>\n",
              "      <td>0</td>\n",
              "      <td>0</td>\n",
              "      <td>0</td>\n",
              "      <td>0</td>\n",
              "      <td>73</td>\n",
              "      <td>89</td>\n",
              "      <td>0</td>\n",
              "      <td>0</td>\n",
              "      <td>0.00000</td>\n",
              "      <td>0.000000</td>\n",
              "      <td>1421927414</td>\n",
              "      <td>1421927414</td>\n",
              "      <td>0.017</td>\n",
              "      <td>0.013000</td>\n",
              "      <td>0.0</td>\n",
              "      <td>0.0</td>\n",
              "      <td>0.0</td>\n",
              "      <td>0</td>\n",
              "      <td>0</td>\n",
              "      <td>0.0</td>\n",
              "      <td>0.0</td>\n",
              "      <td>0</td>\n",
              "      <td>12</td>\n",
              "      <td>8</td>\n",
              "      <td>1</td>\n",
              "      <td>2</td>\n",
              "      <td>2</td>\n",
              "      <td>1</td>\n",
              "      <td>1</td>\n",
              "      <td>Normal</td>\n",
              "      <td>0</td>\n",
              "    </tr>\n",
              "    <tr>\n",
              "      <th>3</th>\n",
              "      <td>38</td>\n",
              "      <td>93095</td>\n",
              "      <td>23</td>\n",
              "      <td>47344</td>\n",
              "      <td>udp</td>\n",
              "      <td>CON</td>\n",
              "      <td>0.001209</td>\n",
              "      <td>132</td>\n",
              "      <td>164</td>\n",
              "      <td>31</td>\n",
              "      <td>29</td>\n",
              "      <td>0</td>\n",
              "      <td>0</td>\n",
              "      <td>dns</td>\n",
              "      <td>436724.56250</td>\n",
              "      <td>542597.18750</td>\n",
              "      <td>2</td>\n",
              "      <td>2</td>\n",
              "      <td>0</td>\n",
              "      <td>0</td>\n",
              "      <td>0</td>\n",
              "      <td>0</td>\n",
              "      <td>66</td>\n",
              "      <td>82</td>\n",
              "      <td>0</td>\n",
              "      <td>0</td>\n",
              "      <td>0.00000</td>\n",
              "      <td>0.000000</td>\n",
              "      <td>1421927414</td>\n",
              "      <td>1421927414</td>\n",
              "      <td>0.043</td>\n",
              "      <td>0.014000</td>\n",
              "      <td>0.0</td>\n",
              "      <td>0.0</td>\n",
              "      <td>0.0</td>\n",
              "      <td>0</td>\n",
              "      <td>0</td>\n",
              "      <td>0.0</td>\n",
              "      <td>0.0</td>\n",
              "      <td>0</td>\n",
              "      <td>6</td>\n",
              "      <td>9</td>\n",
              "      <td>1</td>\n",
              "      <td>1</td>\n",
              "      <td>1</td>\n",
              "      <td>1</td>\n",
              "      <td>1</td>\n",
              "      <td>Normal</td>\n",
              "      <td>0</td>\n",
              "    </tr>\n",
              "    <tr>\n",
              "      <th>4</th>\n",
              "      <td>36</td>\n",
              "      <td>108205</td>\n",
              "      <td>8</td>\n",
              "      <td>47344</td>\n",
              "      <td>udp</td>\n",
              "      <td>CON</td>\n",
              "      <td>0.001169</td>\n",
              "      <td>146</td>\n",
              "      <td>178</td>\n",
              "      <td>31</td>\n",
              "      <td>29</td>\n",
              "      <td>0</td>\n",
              "      <td>0</td>\n",
              "      <td>dns</td>\n",
              "      <td>499572.25000</td>\n",
              "      <td>609067.56250</td>\n",
              "      <td>2</td>\n",
              "      <td>2</td>\n",
              "      <td>0</td>\n",
              "      <td>0</td>\n",
              "      <td>0</td>\n",
              "      <td>0</td>\n",
              "      <td>73</td>\n",
              "      <td>89</td>\n",
              "      <td>0</td>\n",
              "      <td>0</td>\n",
              "      <td>0.00000</td>\n",
              "      <td>0.000000</td>\n",
              "      <td>1421927414</td>\n",
              "      <td>1421927414</td>\n",
              "      <td>0.005</td>\n",
              "      <td>0.003000</td>\n",
              "      <td>0.0</td>\n",
              "      <td>0.0</td>\n",
              "      <td>0.0</td>\n",
              "      <td>0</td>\n",
              "      <td>0</td>\n",
              "      <td>0.0</td>\n",
              "      <td>0.0</td>\n",
              "      <td>0</td>\n",
              "      <td>7</td>\n",
              "      <td>9</td>\n",
              "      <td>1</td>\n",
              "      <td>1</td>\n",
              "      <td>1</td>\n",
              "      <td>1</td>\n",
              "      <td>1</td>\n",
              "      <td>Normal</td>\n",
              "      <td>0</td>\n",
              "    </tr>\n",
              "  </tbody>\n",
              "</table>\n",
              "</div>"
            ],
            "text/plain": [
              "   srcip   sport  dstip  ...  ct_dst_src_ltm attack_cat label\n",
              "0     33   68854     24  ...               1     Normal     0\n",
              "1     33   90600     27  ...               2     Normal     0\n",
              "2     39   69669     25  ...               1     Normal     0\n",
              "3     38   93095     23  ...               1     Normal     0\n",
              "4     36  108205      8  ...               1     Normal     0\n",
              "\n",
              "[5 rows x 49 columns]"
            ]
          },
          "metadata": {
            "tags": []
          },
          "execution_count": 16
        }
      ]
    },
    {
      "cell_type": "code",
      "metadata": {
        "id": "baBET1FLdQud",
        "colab_type": "code",
        "outputId": "355198b9-ed39-47f4-e96c-107f92ff2eb6",
        "colab": {
          "base_uri": "https://localhost:8080/",
          "height": 151
        }
      },
      "source": [
        "# Store input columns in X\n",
        "\n",
        "X = dataset.iloc[:,0:47]\n",
        "print(X[0:5])"
      ],
      "execution_count": 0,
      "outputs": [
        {
          "output_type": "stream",
          "text": [
            "   srcip   sport  dstip  ...  ct_src_dport_ltm ct_dst_sport_ltm ct_dst_src_ltm\n",
            "0     33   68854     24  ...                 1                1              1\n",
            "1     33   90600     27  ...                 1                1              2\n",
            "2     39   69669     25  ...                 2                1              1\n",
            "3     38   93095     23  ...                 1                1              1\n",
            "4     36  108205      8  ...                 1                1              1\n",
            "\n",
            "[5 rows x 47 columns]\n"
          ],
          "name": "stdout"
        }
      ]
    },
    {
      "cell_type": "code",
      "metadata": {
        "id": "6ZuApKbDdQuf",
        "colab_type": "code",
        "outputId": "c7c10772-2dc8-45ad-aed5-65ab581a2e60",
        "colab": {
          "base_uri": "https://localhost:8080/",
          "height": 118
        }
      },
      "source": [
        "# Store output columns in Y\n",
        "\n",
        "Y = dataset.iloc[:,-2:]\n",
        "print(Y[0:5])"
      ],
      "execution_count": 0,
      "outputs": [
        {
          "output_type": "stream",
          "text": [
            "  attack_cat  label\n",
            "0     Normal      0\n",
            "1     Normal      0\n",
            "2     Normal      0\n",
            "3     Normal      0\n",
            "4     Normal      0\n"
          ],
          "name": "stdout"
        }
      ]
    },
    {
      "cell_type": "code",
      "metadata": {
        "id": "yzLJxId1o46X",
        "colab_type": "code",
        "outputId": "1ee34407-e34d-4d88-c8d2-d1998999334c",
        "colab": {
          "base_uri": "https://localhost:8080/",
          "height": 168
        }
      },
      "source": [
        "dataset.loc[:,'proto'] = dataset.loc[:,'proto'].astype('category')\n",
        "dataset.loc[:,'proto'] = dataset.loc[:,'proto'].cat.codes\n",
        "dataset.loc[:,'state'] = dataset.loc[:,'state'].astype('category')\n",
        "dataset.loc[:,'state'] = dataset.loc[:,'state'].cat.codes\n",
        "dataset.loc[:,'service'] = dataset.loc[:,'service'].astype('category')\n",
        "dataset.loc[:,'service'] = dataset.loc[:,'service'].cat.codes\n",
        "X = dataset.iloc[:,0:47]\n",
        "print('Data After one hot encoding\\n', X[0:5])"
      ],
      "execution_count": 0,
      "outputs": [
        {
          "output_type": "stream",
          "text": [
            "Data After one hot encoding\n",
            "    srcip   sport  dstip  ...  ct_src_dport_ltm  ct_dst_sport_ltm  ct_dst_src_ltm\n",
            "0     33   68854     24  ...                 1                 1               1\n",
            "1     33   90600     27  ...                 1                 1               2\n",
            "2     39   69669     25  ...                 2                 1               1\n",
            "3     38   93095     23  ...                 1                 1               1\n",
            "4     36  108205      8  ...                 1                 1               1\n",
            "\n",
            "[5 rows x 47 columns]\n"
          ],
          "name": "stdout"
        }
      ]
    },
    {
      "cell_type": "code",
      "metadata": {
        "id": "NPKQ1lXQdQuj",
        "colab_type": "code",
        "outputId": "3f282e27-5561-470c-cbd4-fd1aab917bbe",
        "colab": {
          "base_uri": "https://localhost:8080/",
          "height": 54
        }
      },
      "source": [
        "'''\n",
        "# One Hot Encoding of output column 'attack_cat'\n",
        "Y.loc[:,'attack_cat'] = [i.strip(' ') for i in Y.loc[:,'attack_cat']]\n",
        "print('attack cat ', (Y.loc[:,'attack_cat'].unique()))\n",
        "Y_enc = pd.get_dummies(Y, columns=['attack_cat'])\n",
        "'''"
      ],
      "execution_count": 0,
      "outputs": [
        {
          "output_type": "execute_result",
          "data": {
            "text/plain": [
              "\"\\n# One Hot Encoding of output column 'attack_cat'\\nY.loc[:,'attack_cat'] = [i.strip(' ') for i in Y.loc[:,'attack_cat']]\\nprint('attack cat ', (Y.loc[:,'attack_cat'].unique()))\\nY_enc = pd.get_dummies(Y, columns=['attack_cat'])\\n\""
            ]
          },
          "metadata": {
            "tags": []
          },
          "execution_count": 20
        }
      ]
    },
    {
      "cell_type": "code",
      "metadata": {
        "id": "llJzWK3GdQun",
        "colab_type": "code",
        "colab": {}
      },
      "source": [
        "# Normalization\n",
        "\n",
        "from scipy import stats\n",
        "from sklearn.preprocessing import MinMaxScaler\n",
        "# Pass parameter type = 'statistical' or 'minmax'\n",
        "# Note: statistical is better for SVM and KNN.\n",
        "def normalization(data, type='minmax'):\n",
        "    if type == 'statistical':\n",
        "        return stats.zscore(data)\n",
        "    elif type == 'minmax':\n",
        "        scaler = MinMaxScaler()\n",
        "        return scaler.fit_transform(data)\n",
        "    else:\n",
        "        print('\\n Norm type not found! \\n')"
      ],
      "execution_count": 0,
      "outputs": []
    },
    {
      "cell_type": "code",
      "metadata": {
        "id": "82rEkJJldQup",
        "colab_type": "code",
        "colab": {}
      },
      "source": [
        "\n",
        "X = normalization(X, 'minmax')\n",
        "# print(X[0:5])"
      ],
      "execution_count": 0,
      "outputs": []
    },
    {
      "cell_type": "code",
      "metadata": {
        "id": "UWzL8vFveacY",
        "colab_type": "code",
        "colab": {}
      },
      "source": [
        "# from sklearn.ensemble.forest import RandomForestClassifier\n",
        "# from sklearn.feature_selection import SelectFromModel"
      ],
      "execution_count": 0,
      "outputs": []
    },
    {
      "cell_type": "code",
      "metadata": {
        "id": "JCL7b202xup-",
        "colab_type": "code",
        "outputId": "5d16e02f-7cd9-470e-d853-e1a2ba4cba4e",
        "colab": {
          "base_uri": "https://localhost:8080/",
          "height": 50
        }
      },
      "source": [
        "# One Hot Encoding of output column 'attack_cat'\n",
        "\n",
        "Y.loc[:,'attack_cat'] = [i.strip(' ') for i in Y.loc[:,'attack_cat']]\n",
        "print('attack cat ', (Y.loc[:,'attack_cat'].unique()))\n",
        "\n",
        "encoding = { 'attack_cat':{'Normal':0, 'Exploits':1, 'Reconnaissance':2, 'DoS':3, 'Generic':4,\n",
        "       'Shellcode':5, 'Fuzzers':6, 'Worms':7, 'Backdoors':8, 'Analysis':9}}\n",
        "Y.replace(encoding, inplace=True)"
      ],
      "execution_count": 0,
      "outputs": [
        {
          "output_type": "stream",
          "text": [
            "attack cat  ['Normal' 'Exploits' 'Reconnaissance' 'DoS' 'Generic' 'Shellcode'\n",
            " 'Fuzzers' 'Worms' 'Backdoors' 'Analysis']\n"
          ],
          "name": "stdout"
        }
      ]
    },
    {
      "cell_type": "code",
      "metadata": {
        "id": "pTQMBRK6fpvc",
        "colab_type": "code",
        "outputId": "d972fbde-8eae-4041-c395-58acc654a1b1",
        "colab": {
          "base_uri": "https://localhost:8080/",
          "height": 134
        }
      },
      "source": [
        "Y['attack_cat']\n",
        "y_cat=[]\n",
        "y_cat = np.array(Y['attack_cat']).reshape(-1,1)\n",
        "y_cat"
      ],
      "execution_count": 0,
      "outputs": [
        {
          "output_type": "execute_result",
          "data": {
            "text/plain": [
              "array([[0],\n",
              "       [0],\n",
              "       [0],\n",
              "       ...,\n",
              "       [0],\n",
              "       [0],\n",
              "       [1]])"
            ]
          },
          "metadata": {
            "tags": []
          },
          "execution_count": 25
        }
      ]
    },
    {
      "cell_type": "code",
      "metadata": {
        "id": "2wmX80DBOdvl",
        "colab_type": "code",
        "outputId": "59e5d426-258f-4c6b-c9c5-7c58e84676ba",
        "colab": {
          "base_uri": "https://localhost:8080/",
          "height": 70
        }
      },
      "source": [
        "clf = ExtraTreesClassifier(n_estimators=500)\n",
        "clf = clf.fit(X, y_cat)\n"
      ],
      "execution_count": 0,
      "outputs": [
        {
          "output_type": "stream",
          "text": [
            "/usr/local/lib/python3.6/dist-packages/ipykernel_launcher.py:2: DataConversionWarning: A column-vector y was passed when a 1d array was expected. Please change the shape of y to (n_samples,), for example using ravel().\n",
            "  \n"
          ],
          "name": "stderr"
        }
      ]
    },
    {
      "cell_type": "code",
      "metadata": {
        "id": "987dG0_XgeSr",
        "colab_type": "code",
        "colab": {}
      },
      "source": [
        "# sel = (RandomForestClassifier(n_estimators = 100))\n",
        "# sel.fit(X, y_cat)"
      ],
      "execution_count": 0,
      "outputs": []
    },
    {
      "cell_type": "code",
      "metadata": {
        "id": "-ycTNtD2QBt2",
        "colab_type": "code",
        "outputId": "63b043ab-8c73-4e33-c0e1-4b7e1c0d5073",
        "colab": {
          "base_uri": "https://localhost:8080/",
          "height": 218
        }
      },
      "source": [
        "features=[]\n",
        "print(clf.feature_importances_)\n",
        "features=(clf.feature_importances_).tolist()"
      ],
      "execution_count": 0,
      "outputs": [
        {
          "output_type": "stream",
          "text": [
            "[5.29513180e-02 1.20337447e-02 5.33437455e-02 3.63966713e-02\n",
            " 5.55434785e-03 1.30181282e-02 2.89331028e-03 1.40463870e-02\n",
            " 3.14322018e-03 2.86371328e-01 5.77258896e-02 2.08384507e-03\n",
            " 2.37711734e-03 2.13069379e-02 8.49622659e-03 6.11980432e-03\n",
            " 2.22437710e-03 3.28098899e-03 2.19293671e-02 1.68326571e-02\n",
            " 4.89093074e-03 6.71201035e-03 2.30381550e-02 1.32507367e-02\n",
            " 9.71994116e-04 7.16873653e-04 2.47155251e-03 2.16415486e-03\n",
            " 1.64558829e-02 1.51318003e-02 3.13020308e-03 2.21790567e-03\n",
            " 4.02034920e-03 3.60932701e-03 3.18397711e-03 6.02843754e-04\n",
            " 1.20440405e-01 8.09238292e-04 1.93018171e-04 1.92367814e-04\n",
            " 1.84077706e-02 2.90539581e-02 1.40119485e-02 1.20232313e-02\n",
            " 2.28960442e-02 2.61985241e-02 3.10753846e-02]\n"
          ],
          "name": "stdout"
        }
      ]
    },
    {
      "cell_type": "code",
      "metadata": {
        "id": "ZAxDTSYcQQjc",
        "colab_type": "code",
        "outputId": "43ba30a5-3223-4ffb-da36-3353a4ad030b",
        "colab": {
          "base_uri": "https://localhost:8080/",
          "height": 70
        }
      },
      "source": [
        "print(\"Features sorted by their score:\")\n",
        "feature_imp = sorted(zip(map(lambda x: round(x, 4), clf.feature_importances_), column_attributes), \n",
        "             reverse=True)\n",
        "print(feature_imp)\n",
        "low_variance_cols = [x[0] for x in feature_imp if x[0] < 0.002]"
      ],
      "execution_count": 0,
      "outputs": [
        {
          "output_type": "stream",
          "text": [
            "Features sorted by their score:\n",
            "[(0.2864, 'sttl'), (0.1204, 'ct_state_ttl'), (0.0577, 'dttl'), (0.0533, 'dstip'), (0.053, 'srcip'), (0.0364, 'dsport'), (0.0311, 'ct_dst_src_ltm'), (0.0291, 'ct_srv_dst'), (0.0262, 'ct_dst_sport_ltm'), (0.023, 'smeansz'), (0.0229, 'ct_src_dport_ltm'), (0.0219, 'swin'), (0.0213, 'service'), (0.0184, 'ct_srv_src'), (0.0168, 'dwin'), (0.0165, 'Stime'), (0.0151, 'Ltime'), (0.014, 'sbytes'), (0.014, 'ct_dst_ltm'), (0.0133, 'dmeansz'), (0.013, 'state'), (0.012, 'sport'), (0.012, 'ct_src_ ltm'), (0.0085, 'Sload'), (0.0067, 'dtcpb'), (0.0061, 'Dload'), (0.0056, 'proto'), (0.0049, 'stcpb'), (0.004, 'tcprtt'), (0.0036, 'synack'), (0.0033, 'Dpkts'), (0.0032, 'ackdat'), (0.0031, 'dbytes'), (0.0031, 'Sintpkt'), (0.0029, 'dur'), (0.0025, 'Sjit'), (0.0024, 'dloss'), (0.0022, 'Spkts'), (0.0022, 'Djit'), (0.0022, 'Dintpkt'), (0.0021, 'sloss'), (0.001, 'trans_depth'), (0.0008, 'ct_flw_http_mthd'), (0.0007, 'res_bdy_len'), (0.0006, 'is_sm_ips_ports'), (0.0002, 'is_ftp_login'), (0.0002, 'ct_ftp_cmd')]\n"
          ],
          "name": "stdout"
        }
      ]
    },
    {
      "cell_type": "code",
      "metadata": {
        "id": "2vKTKUR1wd21",
        "colab_type": "code",
        "outputId": "d5a9f411-fff3-461c-eadd-722ed40c7b70",
        "colab": {
          "base_uri": "https://localhost:8080/",
          "height": 70
        }
      },
      "source": [
        "#selecting features\n",
        "sfm = SelectFromModel(clf, threshold=0.002)\n",
        "sfm.fit(X,y_cat)\n",
        "X= sfm.transform(X)"
      ],
      "execution_count": 0,
      "outputs": [
        {
          "output_type": "stream",
          "text": [
            "/usr/local/lib/python3.6/dist-packages/sklearn/feature_selection/_from_model.py:222: DataConversionWarning: A column-vector y was passed when a 1d array was expected. Please change the shape of y to (n_samples,), for example using ravel().\n",
            "  self.estimator_.fit(X, y, **fit_params)\n"
          ],
          "name": "stderr"
        }
      ]
    },
    {
      "cell_type": "code",
      "metadata": {
        "id": "s-cnffhYE0no",
        "colab_type": "code",
        "outputId": "8a9d348f-ac48-4748-c11d-58c379984100",
        "colab": {
          "base_uri": "https://localhost:8080/",
          "height": 34
        }
      },
      "source": [
        "X.shape"
      ],
      "execution_count": 0,
      "outputs": [
        {
          "output_type": "execute_result",
          "data": {
            "text/plain": [
              "(2540047, 41)"
            ]
          },
          "metadata": {
            "tags": []
          },
          "execution_count": 31
        }
      ]
    },
    {
      "cell_type": "code",
      "metadata": {
        "id": "CIK1wUK6jFU8",
        "colab_type": "code",
        "outputId": "d4873205-ae3e-459b-b5c6-6c534f83b254",
        "colab": {
          "base_uri": "https://localhost:8080/",
          "height": 605
        }
      },
      "source": [
        "plot_attack_category(dataset)"
      ],
      "execution_count": 0,
      "outputs": [
        {
          "output_type": "display_data",
          "data": {
            "image/png": "[encoded data removed]",
            "text/plain": [
              "<Figure size 1080x720 with 1 Axes>"
            ]
          },
          "metadata": {
            "tags": []
          }
        }
      ]
    },
    {
      "cell_type": "code",
      "metadata": {
        "id": "BaSdzP-xgi95",
        "colab_type": "code",
        "outputId": "ab6a4271-e828-41f4-a94c-7b943c4de640",
        "colab": {
          "base_uri": "https://localhost:8080/",
          "height": 185
        }
      },
      "source": [
        "Counter(Y['attack_cat'])"
      ],
      "execution_count": 0,
      "outputs": [
        {
          "output_type": "execute_result",
          "data": {
            "text/plain": [
              "Counter({0: 2218764,\n",
              "         1: 44525,\n",
              "         2: 13987,\n",
              "         3: 16353,\n",
              "         4: 215481,\n",
              "         5: 1511,\n",
              "         6: 24246,\n",
              "         7: 174,\n",
              "         8: 2329,\n",
              "         9: 2677})"
            ]
          },
          "metadata": {
            "tags": []
          },
          "execution_count": 33
        }
      ]
    },
    {
      "cell_type": "code",
      "metadata": {
        "id": "dR_MsuRmayZU",
        "colab_type": "code",
        "colab": {}
      },
      "source": [
        "# Retrive all Normal and Generic row data and convert as list\n",
        "\n",
        "filter_list = [(x,y) for (x,y) in zip(X,Y['attack_cat'])if (y ==0 or y== 4)]\n",
        "x = []\n",
        "y = []\n",
        "for i , val in enumerate(filter_list):\n",
        "  x.append(val[0])\n",
        "  y.append(val[1])"
      ],
      "execution_count": 0,
      "outputs": []
    },
    {
      "cell_type": "code",
      "metadata": {
        "id": "nXBvRvjRcbRC",
        "colab_type": "code",
        "outputId": "a15adb67-5056-4608-fe99-715f920820b4",
        "colab": {
          "base_uri": "https://localhost:8080/",
          "height": 87
        }
      },
      "source": [
        "# Undersample Normal and Generic class instances \n",
        "\n",
        "rus = RandomUnderSampler(random_state=42)\n",
        "X_res, y_res = rus.fit_resample(x, y)\n",
        "print('Resampled dataset shape %s' % Counter(y_res))"
      ],
      "execution_count": 0,
      "outputs": [
        {
          "output_type": "stream",
          "text": [
            "Resampled dataset shape Counter({0: 215481, 4: 215481})\n"
          ],
          "name": "stdout"
        },
        {
          "output_type": "stream",
          "text": [
            "/usr/local/lib/python3.6/dist-packages/sklearn/utils/deprecation.py:87: FutureWarning: Function safe_indexing is deprecated; safe_indexing is deprecated in version 0.22 and will be removed in version 0.24.\n",
            "  warnings.warn(msg, category=FutureWarning)\n"
          ],
          "name": "stderr"
        }
      ]
    },
    {
      "cell_type": "code",
      "metadata": {
        "id": "DXphsLUHj4I5",
        "colab_type": "code",
        "colab": {}
      },
      "source": [
        "# Retrive all other rows except Normal and Generic row data and convert as list\n",
        "\n",
        "filter_other_cat = [(x,y) for (x,y) in zip(X,Y['attack_cat'])if (y !=0 and y!= 4)]\n",
        "x_other = []\n",
        "y_other = []\n",
        "for i , val in enumerate(filter_other_cat):\n",
        "  x_other.append(val[0])\n",
        "  y_other.append(val[1])"
      ],
      "execution_count": 0,
      "outputs": []
    },
    {
      "cell_type": "code",
      "metadata": {
        "id": "0RO91Ljfmf-H",
        "colab_type": "code",
        "colab": {}
      },
      "source": [
        "dataset_1 = pd.DataFrame(X_res)"
      ],
      "execution_count": 0,
      "outputs": []
    },
    {
      "cell_type": "code",
      "metadata": {
        "id": "M2C6AcU6oIFD",
        "colab_type": "code",
        "colab": {}
      },
      "source": [
        "dataset_1['attack_cat'] = y_res"
      ],
      "execution_count": 0,
      "outputs": []
    },
    {
      "cell_type": "code",
      "metadata": {
        "id": "KxnHJ9bjrSqR",
        "colab_type": "code",
        "colab": {}
      },
      "source": [
        "dataset_2 = pd.DataFrame(x_other)\n"
      ],
      "execution_count": 0,
      "outputs": []
    },
    {
      "cell_type": "code",
      "metadata": {
        "id": "d8NOvg0AZSk0",
        "colab_type": "code",
        "colab": {}
      },
      "source": [
        "dataset_2['attack_cat'] = y_other"
      ],
      "execution_count": 0,
      "outputs": []
    },
    {
      "cell_type": "code",
      "metadata": {
        "id": "TAOLhlheAVMg",
        "colab_type": "code",
        "colab": {}
      },
      "source": [
        "dataset_merged = pd.concat([dataset_1, dataset_2])"
      ],
      "execution_count": 0,
      "outputs": []
    },
    {
      "cell_type": "code",
      "metadata": {
        "id": "8nd8IUBrAaU9",
        "colab_type": "code",
        "outputId": "8c6fdafd-4abd-4b13-94ec-1d1e27044827",
        "colab": {
          "base_uri": "https://localhost:8080/",
          "height": 34
        }
      },
      "source": [
        "dataset_merged.shape"
      ],
      "execution_count": 0,
      "outputs": [
        {
          "output_type": "execute_result",
          "data": {
            "text/plain": [
              "(536764, 42)"
            ]
          },
          "metadata": {
            "tags": []
          },
          "execution_count": 42
        }
      ]
    },
    {
      "cell_type": "code",
      "metadata": {
        "id": "-yLfLMLCAicp",
        "colab_type": "code",
        "colab": {}
      },
      "source": [
        "dataset = shuffle(dataset_merged).reset_index(drop=True)"
      ],
      "execution_count": 0,
      "outputs": []
    },
    {
      "cell_type": "code",
      "metadata": {
        "id": "cXytZYoiAmbS",
        "colab_type": "code",
        "colab": {}
      },
      "source": [
        "# Define class instance ratio to oversample all other class labels\n",
        "\n",
        "sm = SMOTE(ratio = {0:216000, 4:216000, 1:100000, 6:90000, 3:80000, 2:70000, 9:50000, 8:45000, 5:40000,7:40000 },random_state=42,k_neighbors=5)"
      ],
      "execution_count": 0,
      "outputs": []
    },
    {
      "cell_type": "code",
      "metadata": {
        "id": "aYhbTYEVAwSj",
        "colab_type": "code",
        "outputId": "e0cc5416-d5a6-4e35-9ca6-f727536278fa",
        "colab": {
          "base_uri": "https://localhost:8080/",
          "height": 457
        }
      },
      "source": [
        "X_sm, Y_sm = sm.fit_sample(dataset.iloc[:,0:37],dataset.iloc[:,-1])\n",
        "print(\"After balancing the samples among class lables: \",Counter(Y_sm))"
      ],
      "execution_count": 0,
      "outputs": [
        {
          "output_type": "stream",
          "text": [
            "/usr/local/lib/python3.6/dist-packages/imblearn/utils/_validation.py:257: UserWarning: After over-sampling, the number of samples (216000) in class 0 will be larger than the number of samples in the majority class (class #0 -> 215481)\n",
            "  n_samples_majority))\n",
            "/usr/local/lib/python3.6/dist-packages/imblearn/utils/_validation.py:257: UserWarning: After over-sampling, the number of samples (216000) in class 4 will be larger than the number of samples in the majority class (class #0 -> 215481)\n",
            "  n_samples_majority))\n",
            "/usr/local/lib/python3.6/dist-packages/sklearn/utils/deprecation.py:87: FutureWarning: Function safe_indexing is deprecated; safe_indexing is deprecated in version 0.22 and will be removed in version 0.24.\n",
            "  warnings.warn(msg, category=FutureWarning)\n",
            "/usr/local/lib/python3.6/dist-packages/sklearn/utils/deprecation.py:87: FutureWarning: Function safe_indexing is deprecated; safe_indexing is deprecated in version 0.22 and will be removed in version 0.24.\n",
            "  warnings.warn(msg, category=FutureWarning)\n",
            "/usr/local/lib/python3.6/dist-packages/sklearn/utils/deprecation.py:87: FutureWarning: Function safe_indexing is deprecated; safe_indexing is deprecated in version 0.22 and will be removed in version 0.24.\n",
            "  warnings.warn(msg, category=FutureWarning)\n",
            "/usr/local/lib/python3.6/dist-packages/sklearn/utils/deprecation.py:87: FutureWarning: Function safe_indexing is deprecated; safe_indexing is deprecated in version 0.22 and will be removed in version 0.24.\n",
            "  warnings.warn(msg, category=FutureWarning)\n",
            "/usr/local/lib/python3.6/dist-packages/sklearn/utils/deprecation.py:87: FutureWarning: Function safe_indexing is deprecated; safe_indexing is deprecated in version 0.22 and will be removed in version 0.24.\n",
            "  warnings.warn(msg, category=FutureWarning)\n",
            "/usr/local/lib/python3.6/dist-packages/sklearn/utils/deprecation.py:87: FutureWarning: Function safe_indexing is deprecated; safe_indexing is deprecated in version 0.22 and will be removed in version 0.24.\n",
            "  warnings.warn(msg, category=FutureWarning)\n",
            "/usr/local/lib/python3.6/dist-packages/sklearn/utils/deprecation.py:87: FutureWarning: Function safe_indexing is deprecated; safe_indexing is deprecated in version 0.22 and will be removed in version 0.24.\n",
            "  warnings.warn(msg, category=FutureWarning)\n",
            "/usr/local/lib/python3.6/dist-packages/sklearn/utils/deprecation.py:87: FutureWarning: Function safe_indexing is deprecated; safe_indexing is deprecated in version 0.22 and will be removed in version 0.24.\n",
            "  warnings.warn(msg, category=FutureWarning)\n",
            "/usr/local/lib/python3.6/dist-packages/sklearn/utils/deprecation.py:87: FutureWarning: Function safe_indexing is deprecated; safe_indexing is deprecated in version 0.22 and will be removed in version 0.24.\n",
            "  warnings.warn(msg, category=FutureWarning)\n",
            "/usr/local/lib/python3.6/dist-packages/sklearn/utils/deprecation.py:87: FutureWarning: Function safe_indexing is deprecated; safe_indexing is deprecated in version 0.22 and will be removed in version 0.24.\n",
            "  warnings.warn(msg, category=FutureWarning)\n"
          ],
          "name": "stderr"
        },
        {
          "output_type": "stream",
          "text": [
            "After balancing the samples among class lables:  Counter({4: 216000, 0: 216000, 1: 100000, 6: 90000, 3: 80000, 2: 70000, 9: 50000, 8: 45000, 5: 40000, 7: 40000})\n"
          ],
          "name": "stdout"
        }
      ]
    },
    {
      "cell_type": "code",
      "metadata": {
        "id": "nnAw-3ilCQ9Q",
        "colab_type": "code",
        "outputId": "4879517d-ffa3-4ed7-9117-359061922c18",
        "colab": {
          "base_uri": "https://localhost:8080/",
          "height": 299
        }
      },
      "source": [
        "dataset.loc[dataset['attack_cat']==0,'label'] = str(0)\n",
        "dataset.loc[dataset['attack_cat']!=0,'label'] = str(1)\n",
        "dataset[0:5]"
      ],
      "execution_count": 0,
      "outputs": [
        {
          "output_type": "execute_result",
          "data": {
            "text/html": [
              "<div>\n",
              "<style scoped>\n",
              "    .dataframe tbody tr th:only-of-type {\n",
              "        vertical-align: middle;\n",
              "    }\n",
              "\n",
              "    .dataframe tbody tr th {\n",
              "        vertical-align: top;\n",
              "    }\n",
              "\n",
              "    .dataframe thead th {\n",
              "        text-align: right;\n",
              "    }\n",
              "</style>\n",
              "<table border=\"1\" class=\"dataframe\">\n",
              "  <thead>\n",
              "    <tr style=\"text-align: right;\">\n",
              "      <th></th>\n",
              "      <th>0</th>\n",
              "      <th>1</th>\n",
              "      <th>2</th>\n",
              "      <th>3</th>\n",
              "      <th>4</th>\n",
              "      <th>5</th>\n",
              "      <th>6</th>\n",
              "      <th>7</th>\n",
              "      <th>8</th>\n",
              "      <th>9</th>\n",
              "      <th>10</th>\n",
              "      <th>11</th>\n",
              "      <th>12</th>\n",
              "      <th>13</th>\n",
              "      <th>14</th>\n",
              "      <th>15</th>\n",
              "      <th>16</th>\n",
              "      <th>17</th>\n",
              "      <th>18</th>\n",
              "      <th>19</th>\n",
              "      <th>20</th>\n",
              "      <th>21</th>\n",
              "      <th>22</th>\n",
              "      <th>23</th>\n",
              "      <th>24</th>\n",
              "      <th>25</th>\n",
              "      <th>26</th>\n",
              "      <th>27</th>\n",
              "      <th>28</th>\n",
              "      <th>29</th>\n",
              "      <th>30</th>\n",
              "      <th>31</th>\n",
              "      <th>32</th>\n",
              "      <th>33</th>\n",
              "      <th>34</th>\n",
              "      <th>35</th>\n",
              "      <th>36</th>\n",
              "      <th>37</th>\n",
              "      <th>38</th>\n",
              "      <th>39</th>\n",
              "      <th>40</th>\n",
              "      <th>attack_cat</th>\n",
              "      <th>label</th>\n",
              "    </tr>\n",
              "  </thead>\n",
              "  <tbody>\n",
              "    <tr>\n",
              "      <th>0</th>\n",
              "      <td>0.738095</td>\n",
              "      <td>0.360016</td>\n",
              "      <td>0.326087</td>\n",
              "      <td>0.732550</td>\n",
              "      <td>0.895522</td>\n",
              "      <td>0.400000</td>\n",
              "      <td>1.024283e-09</td>\n",
              "      <td>0.000008</td>\n",
              "      <td>0.000000</td>\n",
              "      <td>0.996078</td>\n",
              "      <td>0.000000</td>\n",
              "      <td>0.000000</td>\n",
              "      <td>0.000000</td>\n",
              "      <td>0.166667</td>\n",
              "      <td>8.461366e-03</td>\n",
              "      <td>0.000000</td>\n",
              "      <td>0.000188</td>\n",
              "      <td>0.000000</td>\n",
              "      <td>0.0</td>\n",
              "      <td>0.0</td>\n",
              "      <td>0.000000</td>\n",
              "      <td>0.000000</td>\n",
              "      <td>0.037899</td>\n",
              "      <td>0.000000</td>\n",
              "      <td>0.000000</td>\n",
              "      <td>0.000000</td>\n",
              "      <td>0.993594</td>\n",
              "      <td>0.993593</td>\n",
              "      <td>1.066711e-07</td>\n",
              "      <td>0.000000</td>\n",
              "      <td>0.000000</td>\n",
              "      <td>0.000000</td>\n",
              "      <td>0.000000</td>\n",
              "      <td>0.333333</td>\n",
              "      <td>0.393939</td>\n",
              "      <td>0.393939</td>\n",
              "      <td>0.242424</td>\n",
              "      <td>0.257576</td>\n",
              "      <td>0.242424</td>\n",
              "      <td>0.271186</td>\n",
              "      <td>0.393939</td>\n",
              "      <td>4</td>\n",
              "      <td>1</td>\n",
              "    </tr>\n",
              "    <tr>\n",
              "      <th>1</th>\n",
              "      <td>0.738095</td>\n",
              "      <td>0.000697</td>\n",
              "      <td>0.391304</td>\n",
              "      <td>0.732550</td>\n",
              "      <td>0.895522</td>\n",
              "      <td>0.400000</td>\n",
              "      <td>6.828551e-10</td>\n",
              "      <td>0.000008</td>\n",
              "      <td>0.000000</td>\n",
              "      <td>0.996078</td>\n",
              "      <td>0.000000</td>\n",
              "      <td>0.000000</td>\n",
              "      <td>0.000000</td>\n",
              "      <td>0.166667</td>\n",
              "      <td>1.269205e-02</td>\n",
              "      <td>0.000000</td>\n",
              "      <td>0.000188</td>\n",
              "      <td>0.000000</td>\n",
              "      <td>0.0</td>\n",
              "      <td>0.0</td>\n",
              "      <td>0.000000</td>\n",
              "      <td>0.000000</td>\n",
              "      <td>0.037899</td>\n",
              "      <td>0.000000</td>\n",
              "      <td>0.000000</td>\n",
              "      <td>0.000000</td>\n",
              "      <td>0.987361</td>\n",
              "      <td>0.987360</td>\n",
              "      <td>7.111406e-08</td>\n",
              "      <td>0.000000</td>\n",
              "      <td>0.000000</td>\n",
              "      <td>0.000000</td>\n",
              "      <td>0.000000</td>\n",
              "      <td>0.333333</td>\n",
              "      <td>0.469697</td>\n",
              "      <td>0.469697</td>\n",
              "      <td>0.363636</td>\n",
              "      <td>0.363636</td>\n",
              "      <td>0.363636</td>\n",
              "      <td>0.406780</td>\n",
              "      <td>0.469697</td>\n",
              "      <td>4</td>\n",
              "      <td>1</td>\n",
              "    </tr>\n",
              "    <tr>\n",
              "      <th>2</th>\n",
              "      <td>0.666667</td>\n",
              "      <td>0.151438</td>\n",
              "      <td>0.260870</td>\n",
              "      <td>0.490693</td>\n",
              "      <td>0.895522</td>\n",
              "      <td>0.400000</td>\n",
              "      <td>4.552367e-10</td>\n",
              "      <td>0.000025</td>\n",
              "      <td>0.000000</td>\n",
              "      <td>0.996078</td>\n",
              "      <td>0.000000</td>\n",
              "      <td>0.000000</td>\n",
              "      <td>0.000000</td>\n",
              "      <td>0.000000</td>\n",
              "      <td>5.878423e-02</td>\n",
              "      <td>0.000000</td>\n",
              "      <td>0.000188</td>\n",
              "      <td>0.000000</td>\n",
              "      <td>0.0</td>\n",
              "      <td>0.0</td>\n",
              "      <td>0.000000</td>\n",
              "      <td>0.000000</td>\n",
              "      <td>0.117021</td>\n",
              "      <td>0.000000</td>\n",
              "      <td>0.000000</td>\n",
              "      <td>0.000000</td>\n",
              "      <td>0.981980</td>\n",
              "      <td>0.981980</td>\n",
              "      <td>4.740938e-08</td>\n",
              "      <td>0.000000</td>\n",
              "      <td>0.000000</td>\n",
              "      <td>0.000000</td>\n",
              "      <td>0.000000</td>\n",
              "      <td>0.333333</td>\n",
              "      <td>0.015152</td>\n",
              "      <td>0.000000</td>\n",
              "      <td>0.000000</td>\n",
              "      <td>0.000000</td>\n",
              "      <td>0.000000</td>\n",
              "      <td>0.000000</td>\n",
              "      <td>0.000000</td>\n",
              "      <td>5</td>\n",
              "      <td>1</td>\n",
              "    </tr>\n",
              "    <tr>\n",
              "      <th>3</th>\n",
              "      <td>0.690476</td>\n",
              "      <td>0.972840</td>\n",
              "      <td>0.369565</td>\n",
              "      <td>0.134553</td>\n",
              "      <td>0.850746</td>\n",
              "      <td>0.333333</td>\n",
              "      <td>6.508075e-05</td>\n",
              "      <td>0.000058</td>\n",
              "      <td>0.000018</td>\n",
              "      <td>0.996078</td>\n",
              "      <td>0.992126</td>\n",
              "      <td>0.000188</td>\n",
              "      <td>0.000000</td>\n",
              "      <td>0.000000</td>\n",
              "      <td>1.763924e-06</td>\n",
              "      <td>0.000024</td>\n",
              "      <td>0.000939</td>\n",
              "      <td>0.000545</td>\n",
              "      <td>1.0</td>\n",
              "      <td>1.0</td>\n",
              "      <td>0.286487</td>\n",
              "      <td>0.706483</td>\n",
              "      <td>0.055851</td>\n",
              "      <td>0.030000</td>\n",
              "      <td>0.693807</td>\n",
              "      <td>0.049122</td>\n",
              "      <td>0.000376</td>\n",
              "      <td>0.000360</td>\n",
              "      <td>1.226414e-01</td>\n",
              "      <td>0.289982</td>\n",
              "      <td>0.017858</td>\n",
              "      <td>0.023308</td>\n",
              "      <td>0.013384</td>\n",
              "      <td>0.166667</td>\n",
              "      <td>0.075758</td>\n",
              "      <td>0.075758</td>\n",
              "      <td>0.015152</td>\n",
              "      <td>0.015152</td>\n",
              "      <td>0.015152</td>\n",
              "      <td>0.016949</td>\n",
              "      <td>0.015152</td>\n",
              "      <td>6</td>\n",
              "      <td>1</td>\n",
              "    </tr>\n",
              "    <tr>\n",
              "      <th>4</th>\n",
              "      <td>0.714286</td>\n",
              "      <td>0.419990</td>\n",
              "      <td>0.369565</td>\n",
              "      <td>0.018598</td>\n",
              "      <td>0.850746</td>\n",
              "      <td>0.333333</td>\n",
              "      <td>1.279797e-04</td>\n",
              "      <td>0.000039</td>\n",
              "      <td>0.000024</td>\n",
              "      <td>0.996078</td>\n",
              "      <td>0.992126</td>\n",
              "      <td>0.000376</td>\n",
              "      <td>0.000182</td>\n",
              "      <td>0.000000</td>\n",
              "      <td>6.035430e-07</td>\n",
              "      <td>0.000017</td>\n",
              "      <td>0.000939</td>\n",
              "      <td>0.000726</td>\n",
              "      <td>1.0</td>\n",
              "      <td>1.0</td>\n",
              "      <td>0.673970</td>\n",
              "      <td>0.023351</td>\n",
              "      <td>0.037234</td>\n",
              "      <td>0.029333</td>\n",
              "      <td>0.006486</td>\n",
              "      <td>0.000312</td>\n",
              "      <td>0.989346</td>\n",
              "      <td>0.989346</td>\n",
              "      <td>1.480899e-03</td>\n",
              "      <td>0.002512</td>\n",
              "      <td>0.008388</td>\n",
              "      <td>0.012811</td>\n",
              "      <td>0.004756</td>\n",
              "      <td>0.166667</td>\n",
              "      <td>0.000000</td>\n",
              "      <td>0.060606</td>\n",
              "      <td>0.015152</td>\n",
              "      <td>0.000000</td>\n",
              "      <td>0.000000</td>\n",
              "      <td>0.000000</td>\n",
              "      <td>0.000000</td>\n",
              "      <td>2</td>\n",
              "      <td>1</td>\n",
              "    </tr>\n",
              "  </tbody>\n",
              "</table>\n",
              "</div>"
            ],
            "text/plain": [
              "          0         1         2         3  ...        39        40  attack_cat  label\n",
              "0  0.738095  0.360016  0.326087  0.732550  ...  0.271186  0.393939           4      1\n",
              "1  0.738095  0.000697  0.391304  0.732550  ...  0.406780  0.469697           4      1\n",
              "2  0.666667  0.151438  0.260870  0.490693  ...  0.000000  0.000000           5      1\n",
              "3  0.690476  0.972840  0.369565  0.134553  ...  0.016949  0.015152           6      1\n",
              "4  0.714286  0.419990  0.369565  0.018598  ...  0.000000  0.000000           2      1\n",
              "\n",
              "[5 rows x 43 columns]"
            ]
          },
          "metadata": {
            "tags": []
          },
          "execution_count": 46
        }
      ]
    },
    {
      "cell_type": "code",
      "metadata": {
        "id": "hgSoVb-iRmFg",
        "colab_type": "code",
        "colab": {}
      },
      "source": [
        "col_names = column_attributes\n",
        "low_variance_cols = ['trans_depth','ct_flw_http_mthd','res_bdy_len','is_sm_ips_ports','is_ftp_login','ct_ftp_cmd']\n",
        "for val in low_variance_cols:\n",
        "  col_names.remove(val)\n",
        "\n",
        "name = [v.lower() for k, v in enumerate(col_names)]\n",
        "dataset.columns = name"
      ],
      "execution_count": 0,
      "outputs": []
    },
    {
      "cell_type": "code",
      "metadata": {
        "id": "1_ptQotkEpNI",
        "colab_type": "code",
        "colab": {}
      },
      "source": [
        "dataset.to_csv('final_dataset.csv')"
      ],
      "execution_count": 0,
      "outputs": []
    }
  ]
}