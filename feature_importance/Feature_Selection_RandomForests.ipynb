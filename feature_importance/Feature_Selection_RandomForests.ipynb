{
  "nbformat": 4,
  "nbformat_minor": 0,
  "metadata": {
    "kernelspec": {
      "display_name": "Python 3",
      "language": "python",
      "name": "python3"
    },
    "language_info": {
      "codemirror_mode": {
        "name": "ipython",
        "version": 3
      },
      "file_extension": ".py",
      "mimetype": "text/x-python",
      "name": "python",
      "nbconvert_exporter": "python",
      "pygments_lexer": "ipython3",
      "version": "3.7.3"
    },
    "colab": {
      "name": "Intrusion_Detection.ipynb",
      "provenance": [],
      "collapsed_sections": []
    },
    "accelerator": "GPU"
  },
  "cells": [
    {
      "cell_type": "code",
      "metadata": {
        "id": "7gkKYsMIdQt2",
        "colab_type": "code",
        "outputId": "ac534ef5-b04b-4011-afd7-fc852c76db13",
        "colab": {
          "base_uri": "https://localhost:8080/",
          "height": 72
        }
      },
      "source": [
        "import pandas as pd\n",
        "import numpy as np\n",
        "import seaborn as sns\n",
        "import matplotlib.pyplot as plt\n",
        "from wordcloud import WordCloud, STOPWORDS\n",
        "from sklearn.ensemble import RandomForestClassifier\n",
        "from sklearn.datasets import make_classification\n",
        "from sklearn.feature_selection import SelectFromModel"
      ],
      "execution_count": 1,
      "outputs": [
        {
          "output_type": "stream",
          "text": [
            "/usr/local/lib/python3.6/dist-packages/statsmodels/tools/_testing.py:19: FutureWarning: pandas.util.testing is deprecated. Use the functions in the public API at pandas.testing instead.\n",
            "  import pandas.util.testing as tm\n"
          ],
          "name": "stderr"
        }
      ]
    },
    {
      "cell_type": "code",
      "metadata": {
        "id": "rNEn_YTQdQt6",
        "colab_type": "code",
        "colab": {}
      },
      "source": [
        "\n",
        "# Attribute Information:\n",
        "\n",
        "data_info = pd.read_csv(\"/content/drive/My Drive/Project/Project/NUSW-NB15_features.csv\", encoding = \"ISO-8859-1\")"
      ],
      "execution_count": 0,
      "outputs": []
    },
    {
      "cell_type": "code",
      "metadata": {
        "id": "kktPk1tYdQt8",
        "colab_type": "code",
        "colab": {}
      },
      "source": [
        "\n",
        "# Retrieve Attribute Names\n",
        "\n",
        "column_attributes = list (data_info['Name'])"
      ],
      "execution_count": 0,
      "outputs": []
    },
    {
      "cell_type": "code",
      "metadata": {
        "id": "BpgVQMDsdQt_",
        "colab_type": "code",
        "colab": {}
      },
      "source": [
        "# Read the data available in 4 csv files using temporary data frames\n",
        "\n",
        "dataframe1 = pd.read_csv(\"/content/drive/My Drive/Project/Project/UNSW-NB15_1.csv\",low_memory=False, header=None)\n",
        "dataframe2 = pd.read_csv(\"/content/drive/My Drive/Project/Project/UNSW-NB15_2.csv\", low_memory=False, header=None)\n",
        "dataframe3 = pd.read_csv(\"/content/drive/My Drive/Project/Project/UNSW-NB15_3.csv\", low_memory=False, header=None)\n",
        "dataframe4 = pd.read_csv(\"/content/drive/My Drive/Project/Project/UNSW-NB15_4.csv\",low_memory=False, header=None)"
      ],
      "execution_count": 0,
      "outputs": []
    },
    {
      "cell_type": "code",
      "metadata": {
        "id": "9QSO4yVPdQuB",
        "colab_type": "code",
        "colab": {}
      },
      "source": [
        "# Name the columns of all data frames using attribute names from features.csv\n",
        "\n",
        "df_list = [dataframe1,dataframe2,dataframe3,dataframe4]\n",
        "for df in df_list:\n",
        "    name = [v.lower() for k, v in enumerate(column_attributes)]\n",
        "    df.columns = name"
      ],
      "execution_count": 0,
      "outputs": []
    },
    {
      "cell_type": "code",
      "metadata": {
        "id": "UJ0OQncUdQuD",
        "colab_type": "code",
        "outputId": "e3433d76-ecbf-4fa1-ce4f-a118d8bb8a90",
        "colab": {
          "base_uri": "https://localhost:8080/",
          "height": 35
        }
      },
      "source": [
        "# Concatenate the 4 temporary data frames into one single data frame\n",
        "\n",
        "dataset = pd.concat([dataframe1, dataframe2, dataframe3, dataframe4])\n",
        "dataset.shape"
      ],
      "execution_count": 6,
      "outputs": [
        {
          "output_type": "execute_result",
          "data": {
            "text/plain": [
              "(2540047, 49)"
            ]
          },
          "metadata": {
            "tags": []
          },
          "execution_count": 6
        }
      ]
    },
    {
      "cell_type": "code",
      "metadata": {
        "id": "zgxfQczKdQuG",
        "colab_type": "code",
        "colab": {}
      },
      "source": [
        "\n",
        "# Delete temporary data frames\n",
        "\n",
        "del dataframe1\n",
        "del dataframe2\n",
        "del dataframe3\n",
        "del dataframe4"
      ],
      "execution_count": 0,
      "outputs": []
    },
    {
      "cell_type": "code",
      "metadata": {
        "id": "Vyihfhl8dQuJ",
        "colab_type": "code",
        "outputId": "170fa10a-c414-41b3-933a-435b57382b6e",
        "colab": {
          "base_uri": "https://localhost:8080/",
          "height": 366
        }
      },
      "source": [
        "# Function to show the different attack cateegories present in the dataset\n",
        "\n",
        "stopwords = set(STOPWORDS)\n",
        "def show_wordcloud(data, title = None):\n",
        "\n",
        "    attack_catgs = data.loc[:,'attack_cat'].replace('Backdoor','Backdoors', regex=False)\n",
        "    attack_catgs = attack_catgs.dropna().to_numpy()\n",
        "    attack_catgs = [x.strip(' ') for x in attack_catgs]\n",
        "    attack_catgs = np.unique(attack_catgs)\n",
        "    text = \" \".join(str(item) for item in attack_catgs)\n",
        "    wordcloud = WordCloud(\n",
        "        background_color='white',\n",
        "        collocations=False,\n",
        "        stopwords=stopwords,\n",
        "        max_words=200,\n",
        "        max_font_size=40, \n",
        "        scale=3,\n",
        "        random_state=1 # chosen at random by flipping a coin; it was heads\n",
        "    ).generate(text)\n",
        " \n",
        "    fig = plt.figure(1, figsize=(12, 12))\n",
        "    plt.axis('off')\n",
        "    if title: \n",
        "        fig.suptitle(title, fontsize=20)\n",
        "        fig.subplots_adjust(top=2.3)\n",
        "\n",
        "    plt.imshow(wordcloud)\n",
        "    plt.show()\n",
        "    \n",
        "show_wordcloud(dataset)"
      ],
      "execution_count": 8,
      "outputs": [
        {
          "output_type": "display_data",
          "data": {
            "image/png": "[encoded data removed]",
            "text/plain": [
              "<Figure size 864x864 with 1 Axes>"
            ]
          },
          "metadata": {
            "tags": [],
            "needs_background": "light"
          }
        }
      ]
    },
    {
      "cell_type": "code",
      "metadata": {
        "id": "mk6-KfSxdQuL",
        "colab_type": "code",
        "outputId": "49cce01e-5ab1-4fb8-f457-a04c6fa10fb0",
        "colab": {
          "base_uri": "https://localhost:8080/",
          "height": 594
        }
      },
      "source": [
        "# Plot to show the distribution of all attack categories\n",
        "\n",
        "def plot_attack_category(data):\n",
        "    attack_catgs = data.loc[:,'attack_cat'].replace('Backdoor','Backdoors', regex=False)\n",
        "    attack_catgs = attack_catgs.dropna().to_numpy()\n",
        "    attack_catgs = [x.strip(' ') for x in attack_catgs]\n",
        "    sns.set(rc={'figure.figsize':(15,10),\"font.size\":70,\"axes.titlesize\":40,\"axes.labelsize\":20},style=\"white\")\n",
        "    catg_plot = sns.countplot(attack_catgs,data = data)\n",
        "    \n",
        "plot_attack_category(dataset)"
      ],
      "execution_count": 9,
      "outputs": [
        {
          "output_type": "display_data",
          "data": {
            "image/png": "[encoded data removed]",
            "text/plain": [
              "<Figure size 1080x720 with 1 Axes>"
            ]
          },
          "metadata": {
            "tags": []
          }
        }
      ]
    },
    {
      "cell_type": "code",
      "metadata": {
        "id": "Q_xtWn_EdQuN",
        "colab_type": "code",
        "outputId": "bf377197-1aae-4e80-b96f-5cb6837ca448",
        "colab": {
          "base_uri": "https://localhost:8080/",
          "height": 70
        }
      },
      "source": [
        "# Provided data is not consistent. Check and make relevant changes\n",
        "\n",
        "columns_with_space = dataset.columns[dataset.isin([' ']).any()].tolist()\n",
        "print('columns_with_space ',columns_with_space)\n",
        "columns_with_null = dataset.columns[dataset.isna().any()].tolist()\n",
        "print('columns_with_null ', columns_with_null)\n",
        "columns_with_dash = dataset.columns[dataset.isin(['-']).any()].tolist()\n",
        "print('columns_with_dash', columns_with_dash)"
      ],
      "execution_count": 10,
      "outputs": [
        {
          "output_type": "stream",
          "text": [
            "columns_with_space  ['ct_ftp_cmd']\n",
            "columns_with_null  ['ct_flw_http_mthd', 'is_ftp_login', 'attack_cat']\n",
            "columns_with_dash ['sport', 'dsport', 'service']\n"
          ],
          "name": "stdout"
        }
      ]
    },
    {
      "cell_type": "code",
      "metadata": {
        "id": "ro9A58PTdQuQ",
        "colab_type": "code",
        "colab": {}
      },
      "source": [
        "\n",
        "# Handle null and '-' values\n",
        "\n",
        "# Where attack_cat not mentioned, replace with 'Normal'\n",
        "dataset.loc[:,'attack_cat'] = dataset.loc[:,'attack_cat'].replace(np.nan,'Normal', regex=True)\n",
        "\n",
        "dataset.loc[:,'ct_flw_http_mthd'] = dataset.loc[:,'ct_flw_http_mthd'].replace(np.nan,0, regex=True)\n",
        "dataset.loc[:,'is_ftp_login'] = dataset.loc[:,'is_ftp_login'].replace(np.nan,0, regex=True)\n",
        "\n",
        "dataset.loc[:,'ct_ftp_cmd'] = dataset.loc[:,'ct_ftp_cmd'].replace(' ',0, regex=True)\n",
        "\n",
        "dataset.loc[:,'sport'] = dataset.loc[:,'sport'].replace('-',0, regex=False)\n",
        "dataset.loc[:,'dsport'] = dataset.loc[:,'dsport'].replace('-',0, regex=False)\n",
        "dataset.loc[:,'service'] = dataset.loc[:,'service'].replace('-','Others', regex=False)\n",
        "\n",
        "dataset.loc[:,'attack_cat'] = dataset.loc[:,'attack_cat'].replace('Backdoor','Backdoors', regex=False)"
      ],
      "execution_count": 0,
      "outputs": []
    },
    {
      "cell_type": "code",
      "metadata": {
        "id": "gIZUXB5hdQuT",
        "colab_type": "code",
        "outputId": "5107ccf3-081d-4a1a-b4d0-63acefced15a",
        "colab": {
          "base_uri": "https://localhost:8080/",
          "height": 70
        }
      },
      "source": [
        "# Columns that have String values\n",
        "\n",
        "categorical_values = dataset.select_dtypes(exclude=['number']).keys()\n",
        "print('categorical_values ', categorical_values)"
      ],
      "execution_count": 12,
      "outputs": [
        {
          "output_type": "stream",
          "text": [
            "categorical_values  Index(['srcip', 'sport', 'dstip', 'dsport', 'proto', 'state', 'service',\n",
            "       'ct_ftp_cmd', 'attack_cat'],\n",
            "      dtype='object')\n"
          ],
          "name": "stdout"
        }
      ]
    },
    {
      "cell_type": "code",
      "metadata": {
        "id": "qLZOUFoBdQuX",
        "colab_type": "code",
        "outputId": "47f74fa9-199d-484a-9444-64bd73f8e191",
        "colab": {
          "base_uri": "https://localhost:8080/",
          "height": 52
        }
      },
      "source": [
        "# ct_ftp_cmd field has erroneous String values, such as '0' instead of 0. Handle those values\n",
        "\n",
        "arrg = dataset.loc[:, 'ct_ftp_cmd'].astype('str')\n",
        "dataset.loc[:, 'ct_ftp_cmd'] = pd.to_numeric(arrg, errors='coerce').fillna(0).astype(np.int32)\n",
        "print(dataset.loc[:, 'ct_ftp_cmd'].unique())\n",
        "print('ct_ftp_cmd', dataset.loc[:, 'ct_ftp_cmd'].dtypes)"
      ],
      "execution_count": 13,
      "outputs": [
        {
          "output_type": "stream",
          "text": [
            "[0 1 6 2 4 8 5 3]\n",
            "ct_ftp_cmd int32\n"
          ],
          "name": "stdout"
        }
      ]
    },
    {
      "cell_type": "code",
      "metadata": {
        "id": "0c0yJhwVdQuZ",
        "colab_type": "code",
        "colab": {}
      },
      "source": [
        "\n",
        "# Label Encoding for categorical values. Can't do one hot encoding as it will result in huge increase in column size.\n",
        "\n",
        "dataset.loc[:,'srcip'] = dataset.loc[:,'srcip'].astype('category')\n",
        "# Assigning numerical values\n",
        "dataset.loc[:,'srcip'] = dataset.loc[:,'srcip'].cat.codes\n",
        "\n",
        "dataset.loc[:,'sport'] = dataset.loc[:,'sport'].astype('category')\n",
        "# Assigning numerical values \n",
        "dataset.loc[:,'sport'] = dataset.loc[:,'sport'].cat.codes\n",
        "\n",
        "dataset.loc[:,'dstip'] = dataset.loc[:,'dstip'].astype('category')\n",
        "# Assigning numerical values\n",
        "dataset.loc[:,'dstip'] = dataset.loc[:,'dstip'].cat.codes\n",
        "\n",
        "dataset.loc[:,'dsport'] = dataset.loc[:,'dsport'].astype('category')\n",
        "# Assigning numerical values\n",
        "dataset.loc[:,'dsport'] = dataset.loc[:,'dsport'].cat.codes"
      ],
      "execution_count": 0,
      "outputs": []
    },
    {
      "cell_type": "code",
      "metadata": {
        "id": "GVYn89X4dQub",
        "colab_type": "code",
        "outputId": "5962c3d5-fd4f-4728-dbb6-ad2347289d18",
        "colab": {
          "base_uri": "https://localhost:8080/",
          "height": 237
        }
      },
      "source": [
        "# Print dataframe after label encoding\n",
        "\n",
        "dataset[0:5]"
      ],
      "execution_count": 15,
      "outputs": [
        {
          "output_type": "execute_result",
          "data": {
            "text/html": [
              "<div>\n",
              "<style scoped>\n",
              "    .dataframe tbody tr th:only-of-type {\n",
              "        vertical-align: middle;\n",
              "    }\n",
              "\n",
              "    .dataframe tbody tr th {\n",
              "        vertical-align: top;\n",
              "    }\n",
              "\n",
              "    .dataframe thead th {\n",
              "        text-align: right;\n",
              "    }\n",
              "</style>\n",
              "<table border=\"1\" class=\"dataframe\">\n",
              "  <thead>\n",
              "    <tr style=\"text-align: right;\">\n",
              "      <th></th>\n",
              "      <th>srcip</th>\n",
              "      <th>sport</th>\n",
              "      <th>dstip</th>\n",
              "      <th>dsport</th>\n",
              "      <th>proto</th>\n",
              "      <th>state</th>\n",
              "      <th>dur</th>\n",
              "      <th>sbytes</th>\n",
              "      <th>dbytes</th>\n",
              "      <th>sttl</th>\n",
              "      <th>dttl</th>\n",
              "      <th>sloss</th>\n",
              "      <th>dloss</th>\n",
              "      <th>service</th>\n",
              "      <th>sload</th>\n",
              "      <th>dload</th>\n",
              "      <th>spkts</th>\n",
              "      <th>dpkts</th>\n",
              "      <th>swin</th>\n",
              "      <th>dwin</th>\n",
              "      <th>stcpb</th>\n",
              "      <th>dtcpb</th>\n",
              "      <th>smeansz</th>\n",
              "      <th>dmeansz</th>\n",
              "      <th>trans_depth</th>\n",
              "      <th>res_bdy_len</th>\n",
              "      <th>sjit</th>\n",
              "      <th>djit</th>\n",
              "      <th>stime</th>\n",
              "      <th>ltime</th>\n",
              "      <th>sintpkt</th>\n",
              "      <th>dintpkt</th>\n",
              "      <th>tcprtt</th>\n",
              "      <th>synack</th>\n",
              "      <th>ackdat</th>\n",
              "      <th>is_sm_ips_ports</th>\n",
              "      <th>ct_state_ttl</th>\n",
              "      <th>ct_flw_http_mthd</th>\n",
              "      <th>is_ftp_login</th>\n",
              "      <th>ct_ftp_cmd</th>\n",
              "      <th>ct_srv_src</th>\n",
              "      <th>ct_srv_dst</th>\n",
              "      <th>ct_dst_ltm</th>\n",
              "      <th>ct_src_ ltm</th>\n",
              "      <th>ct_src_dport_ltm</th>\n",
              "      <th>ct_dst_sport_ltm</th>\n",
              "      <th>ct_dst_src_ltm</th>\n",
              "      <th>attack_cat</th>\n",
              "      <th>label</th>\n",
              "    </tr>\n",
              "  </thead>\n",
              "  <tbody>\n",
              "    <tr>\n",
              "      <th>0</th>\n",
              "      <td>33</td>\n",
              "      <td>68854</td>\n",
              "      <td>24</td>\n",
              "      <td>47344</td>\n",
              "      <td>udp</td>\n",
              "      <td>CON</td>\n",
              "      <td>0.001055</td>\n",
              "      <td>132</td>\n",
              "      <td>164</td>\n",
              "      <td>31</td>\n",
              "      <td>29</td>\n",
              "      <td>0</td>\n",
              "      <td>0</td>\n",
              "      <td>dns</td>\n",
              "      <td>500473.93750</td>\n",
              "      <td>621800.93750</td>\n",
              "      <td>2</td>\n",
              "      <td>2</td>\n",
              "      <td>0</td>\n",
              "      <td>0</td>\n",
              "      <td>0</td>\n",
              "      <td>0</td>\n",
              "      <td>66</td>\n",
              "      <td>82</td>\n",
              "      <td>0</td>\n",
              "      <td>0</td>\n",
              "      <td>0.00000</td>\n",
              "      <td>0.000000</td>\n",
              "      <td>1421927414</td>\n",
              "      <td>1421927414</td>\n",
              "      <td>0.017</td>\n",
              "      <td>0.013000</td>\n",
              "      <td>0.0</td>\n",
              "      <td>0.0</td>\n",
              "      <td>0.0</td>\n",
              "      <td>0</td>\n",
              "      <td>0</td>\n",
              "      <td>0.0</td>\n",
              "      <td>0.0</td>\n",
              "      <td>0</td>\n",
              "      <td>3</td>\n",
              "      <td>7</td>\n",
              "      <td>1</td>\n",
              "      <td>3</td>\n",
              "      <td>1</td>\n",
              "      <td>1</td>\n",
              "      <td>1</td>\n",
              "      <td>Normal</td>\n",
              "      <td>0</td>\n",
              "    </tr>\n",
              "    <tr>\n",
              "      <th>1</th>\n",
              "      <td>33</td>\n",
              "      <td>90600</td>\n",
              "      <td>27</td>\n",
              "      <td>253</td>\n",
              "      <td>udp</td>\n",
              "      <td>CON</td>\n",
              "      <td>0.036133</td>\n",
              "      <td>528</td>\n",
              "      <td>304</td>\n",
              "      <td>31</td>\n",
              "      <td>29</td>\n",
              "      <td>0</td>\n",
              "      <td>0</td>\n",
              "      <td>Others</td>\n",
              "      <td>87676.08594</td>\n",
              "      <td>50480.17188</td>\n",
              "      <td>4</td>\n",
              "      <td>4</td>\n",
              "      <td>0</td>\n",
              "      <td>0</td>\n",
              "      <td>0</td>\n",
              "      <td>0</td>\n",
              "      <td>132</td>\n",
              "      <td>76</td>\n",
              "      <td>0</td>\n",
              "      <td>0</td>\n",
              "      <td>9.89101</td>\n",
              "      <td>10.682733</td>\n",
              "      <td>1421927414</td>\n",
              "      <td>1421927414</td>\n",
              "      <td>7.005</td>\n",
              "      <td>7.564333</td>\n",
              "      <td>0.0</td>\n",
              "      <td>0.0</td>\n",
              "      <td>0.0</td>\n",
              "      <td>0</td>\n",
              "      <td>0</td>\n",
              "      <td>0.0</td>\n",
              "      <td>0.0</td>\n",
              "      <td>0</td>\n",
              "      <td>2</td>\n",
              "      <td>4</td>\n",
              "      <td>2</td>\n",
              "      <td>3</td>\n",
              "      <td>1</td>\n",
              "      <td>1</td>\n",
              "      <td>2</td>\n",
              "      <td>Normal</td>\n",
              "      <td>0</td>\n",
              "    </tr>\n",
              "    <tr>\n",
              "      <th>2</th>\n",
              "      <td>39</td>\n",
              "      <td>69669</td>\n",
              "      <td>25</td>\n",
              "      <td>47344</td>\n",
              "      <td>udp</td>\n",
              "      <td>CON</td>\n",
              "      <td>0.001119</td>\n",
              "      <td>146</td>\n",
              "      <td>178</td>\n",
              "      <td>31</td>\n",
              "      <td>29</td>\n",
              "      <td>0</td>\n",
              "      <td>0</td>\n",
              "      <td>dns</td>\n",
              "      <td>521894.53130</td>\n",
              "      <td>636282.37500</td>\n",
              "      <td>2</td>\n",
              "      <td>2</td>\n",
              "      <td>0</td>\n",
              "      <td>0</td>\n",
              "      <td>0</td>\n",
              "      <td>0</td>\n",
              "      <td>73</td>\n",
              "      <td>89</td>\n",
              "      <td>0</td>\n",
              "      <td>0</td>\n",
              "      <td>0.00000</td>\n",
              "      <td>0.000000</td>\n",
              "      <td>1421927414</td>\n",
              "      <td>1421927414</td>\n",
              "      <td>0.017</td>\n",
              "      <td>0.013000</td>\n",
              "      <td>0.0</td>\n",
              "      <td>0.0</td>\n",
              "      <td>0.0</td>\n",
              "      <td>0</td>\n",
              "      <td>0</td>\n",
              "      <td>0.0</td>\n",
              "      <td>0.0</td>\n",
              "      <td>0</td>\n",
              "      <td>12</td>\n",
              "      <td>8</td>\n",
              "      <td>1</td>\n",
              "      <td>2</td>\n",
              "      <td>2</td>\n",
              "      <td>1</td>\n",
              "      <td>1</td>\n",
              "      <td>Normal</td>\n",
              "      <td>0</td>\n",
              "    </tr>\n",
              "    <tr>\n",
              "      <th>3</th>\n",
              "      <td>38</td>\n",
              "      <td>93095</td>\n",
              "      <td>23</td>\n",
              "      <td>47344</td>\n",
              "      <td>udp</td>\n",
              "      <td>CON</td>\n",
              "      <td>0.001209</td>\n",
              "      <td>132</td>\n",
              "      <td>164</td>\n",
              "      <td>31</td>\n",
              "      <td>29</td>\n",
              "      <td>0</td>\n",
              "      <td>0</td>\n",
              "      <td>dns</td>\n",
              "      <td>436724.56250</td>\n",
              "      <td>542597.18750</td>\n",
              "      <td>2</td>\n",
              "      <td>2</td>\n",
              "      <td>0</td>\n",
              "      <td>0</td>\n",
              "      <td>0</td>\n",
              "      <td>0</td>\n",
              "      <td>66</td>\n",
              "      <td>82</td>\n",
              "      <td>0</td>\n",
              "      <td>0</td>\n",
              "      <td>0.00000</td>\n",
              "      <td>0.000000</td>\n",
              "      <td>1421927414</td>\n",
              "      <td>1421927414</td>\n",
              "      <td>0.043</td>\n",
              "      <td>0.014000</td>\n",
              "      <td>0.0</td>\n",
              "      <td>0.0</td>\n",
              "      <td>0.0</td>\n",
              "      <td>0</td>\n",
              "      <td>0</td>\n",
              "      <td>0.0</td>\n",
              "      <td>0.0</td>\n",
              "      <td>0</td>\n",
              "      <td>6</td>\n",
              "      <td>9</td>\n",
              "      <td>1</td>\n",
              "      <td>1</td>\n",
              "      <td>1</td>\n",
              "      <td>1</td>\n",
              "      <td>1</td>\n",
              "      <td>Normal</td>\n",
              "      <td>0</td>\n",
              "    </tr>\n",
              "    <tr>\n",
              "      <th>4</th>\n",
              "      <td>36</td>\n",
              "      <td>108205</td>\n",
              "      <td>8</td>\n",
              "      <td>47344</td>\n",
              "      <td>udp</td>\n",
              "      <td>CON</td>\n",
              "      <td>0.001169</td>\n",
              "      <td>146</td>\n",
              "      <td>178</td>\n",
              "      <td>31</td>\n",
              "      <td>29</td>\n",
              "      <td>0</td>\n",
              "      <td>0</td>\n",
              "      <td>dns</td>\n",
              "      <td>499572.25000</td>\n",
              "      <td>609067.56250</td>\n",
              "      <td>2</td>\n",
              "      <td>2</td>\n",
              "      <td>0</td>\n",
              "      <td>0</td>\n",
              "      <td>0</td>\n",
              "      <td>0</td>\n",
              "      <td>73</td>\n",
              "      <td>89</td>\n",
              "      <td>0</td>\n",
              "      <td>0</td>\n",
              "      <td>0.00000</td>\n",
              "      <td>0.000000</td>\n",
              "      <td>1421927414</td>\n",
              "      <td>1421927414</td>\n",
              "      <td>0.005</td>\n",
              "      <td>0.003000</td>\n",
              "      <td>0.0</td>\n",
              "      <td>0.0</td>\n",
              "      <td>0.0</td>\n",
              "      <td>0</td>\n",
              "      <td>0</td>\n",
              "      <td>0.0</td>\n",
              "      <td>0.0</td>\n",
              "      <td>0</td>\n",
              "      <td>7</td>\n",
              "      <td>9</td>\n",
              "      <td>1</td>\n",
              "      <td>1</td>\n",
              "      <td>1</td>\n",
              "      <td>1</td>\n",
              "      <td>1</td>\n",
              "      <td>Normal</td>\n",
              "      <td>0</td>\n",
              "    </tr>\n",
              "  </tbody>\n",
              "</table>\n",
              "</div>"
            ],
            "text/plain": [
              "   srcip   sport  dstip  ...  ct_dst_src_ltm attack_cat label\n",
              "0     33   68854     24  ...               1     Normal     0\n",
              "1     33   90600     27  ...               2     Normal     0\n",
              "2     39   69669     25  ...               1     Normal     0\n",
              "3     38   93095     23  ...               1     Normal     0\n",
              "4     36  108205      8  ...               1     Normal     0\n",
              "\n",
              "[5 rows x 49 columns]"
            ]
          },
          "metadata": {
            "tags": []
          },
          "execution_count": 15
        }
      ]
    },
    {
      "cell_type": "code",
      "metadata": {
        "id": "baBET1FLdQud",
        "colab_type": "code",
        "outputId": "43abf15f-af64-4e3d-8353-b1824e5ece16",
        "colab": {
          "base_uri": "https://localhost:8080/",
          "height": 159
        }
      },
      "source": [
        "# Store input columns in X\n",
        "\n",
        "X = dataset.iloc[:,0:47]\n",
        "print(X[0:5])"
      ],
      "execution_count": 16,
      "outputs": [
        {
          "output_type": "stream",
          "text": [
            "   srcip   sport  dstip  ...  ct_src_dport_ltm ct_dst_sport_ltm ct_dst_src_ltm\n",
            "0     33   68854     24  ...                 1                1              1\n",
            "1     33   90600     27  ...                 1                1              2\n",
            "2     39   69669     25  ...                 2                1              1\n",
            "3     38   93095     23  ...                 1                1              1\n",
            "4     36  108205      8  ...                 1                1              1\n",
            "\n",
            "[5 rows x 47 columns]\n"
          ],
          "name": "stdout"
        }
      ]
    },
    {
      "cell_type": "code",
      "metadata": {
        "id": "6ZuApKbDdQuf",
        "colab_type": "code",
        "outputId": "0f612243-5400-42c2-dfcc-269bd2d773d5",
        "colab": {
          "base_uri": "https://localhost:8080/",
          "height": 124
        }
      },
      "source": [
        "# Store output columns in Y\n",
        "\n",
        "Y = dataset.iloc[:,-2:]\n",
        "print(Y[0:5])"
      ],
      "execution_count": 17,
      "outputs": [
        {
          "output_type": "stream",
          "text": [
            "  attack_cat  label\n",
            "0     Normal      0\n",
            "1     Normal      0\n",
            "2     Normal      0\n",
            "3     Normal      0\n",
            "4     Normal      0\n"
          ],
          "name": "stdout"
        }
      ]
    },
    {
      "cell_type": "code",
      "metadata": {
        "id": "yzLJxId1o46X",
        "colab_type": "code",
        "outputId": "18c7bbdb-8941-4f70-d27d-557067d32d7b",
        "colab": {
          "base_uri": "https://localhost:8080/",
          "height": 177
        }
      },
      "source": [
        "dataset.loc[:,'proto'] = dataset.loc[:,'proto'].astype('category')\n",
        "dataset.loc[:,'proto'] = dataset.loc[:,'proto'].cat.codes\n",
        "dataset.loc[:,'state'] = dataset.loc[:,'state'].astype('category')\n",
        "dataset.loc[:,'state'] = dataset.loc[:,'state'].cat.codes\n",
        "dataset.loc[:,'service'] = dataset.loc[:,'service'].astype('category')\n",
        "dataset.loc[:,'service'] = dataset.loc[:,'service'].cat.codes\n",
        "X = dataset.iloc[:,0:47]\n",
        "print('Data After one hot encoding\\n', X[0:5])"
      ],
      "execution_count": 18,
      "outputs": [
        {
          "output_type": "stream",
          "text": [
            "Data After one hot encoding\n",
            "    srcip   sport  dstip  ...  ct_src_dport_ltm  ct_dst_sport_ltm  ct_dst_src_ltm\n",
            "0     33   68854     24  ...                 1                 1               1\n",
            "1     33   90600     27  ...                 1                 1               2\n",
            "2     39   69669     25  ...                 2                 1               1\n",
            "3     38   93095     23  ...                 1                 1               1\n",
            "4     36  108205      8  ...                 1                 1               1\n",
            "\n",
            "[5 rows x 47 columns]\n"
          ],
          "name": "stdout"
        }
      ]
    },
    {
      "cell_type": "code",
      "metadata": {
        "id": "NPKQ1lXQdQuj",
        "colab_type": "code",
        "outputId": "972f0b66-1f8a-4e83-c9eb-0c3fc1a39486",
        "colab": {
          "base_uri": "https://localhost:8080/",
          "height": 52
        }
      },
      "source": [
        "\n",
        "# One Hot Encoding of output column 'attack_cat'\n",
        "\n",
        "Y.loc[:,'attack_cat'] = [i.strip(' ') for i in Y.loc[:,'attack_cat']]\n",
        "print('attack cat ', (Y.loc[:,'attack_cat'].unique()))\n",
        "\n",
        "encoding = { 'attack_cat':{'Normal':0, 'Exploits':1, 'Reconnaissance':2, 'DoS':3, 'Generic':4,\n",
        "       'Shellcode':5, 'Fuzzers':6, 'Worms':7, 'Backdoors':8, 'Analysis':9}}\n",
        "Y.replace(encoding, inplace=True)\n"
      ],
      "execution_count": 19,
      "outputs": [
        {
          "output_type": "stream",
          "text": [
            "attack cat  ['Normal' 'Exploits' 'Reconnaissance' 'DoS' 'Generic' 'Shellcode'\n",
            " 'Fuzzers' 'Worms' 'Backdoors' 'Analysis']\n"
          ],
          "name": "stdout"
        }
      ]
    },
    {
      "cell_type": "code",
      "metadata": {
        "id": "9pzLAVMWE1nv",
        "colab_type": "code",
        "colab": {
          "base_uri": "https://localhost:8080/",
          "height": 141
        },
        "outputId": "cda4061f-b0e9-454c-cb21-dfd5ec9ca864"
      },
      "source": [
        "Y['attack_cat']\n",
        "y_cat=[]\n",
        "y_cat = np.array(Y['attack_cat']).reshape(-1,1)\n",
        "y_cat"
      ],
      "execution_count": 20,
      "outputs": [
        {
          "output_type": "execute_result",
          "data": {
            "text/plain": [
              "array([[0],\n",
              "       [0],\n",
              "       [0],\n",
              "       ...,\n",
              "       [0],\n",
              "       [0],\n",
              "       [1]])"
            ]
          },
          "metadata": {
            "tags": []
          },
          "execution_count": 20
        }
      ]
    },
    {
      "cell_type": "code",
      "metadata": {
        "id": "llJzWK3GdQun",
        "colab_type": "code",
        "colab": {}
      },
      "source": [
        "# Normalization\n",
        "\n",
        "from scipy import stats\n",
        "from sklearn.preprocessing import MinMaxScaler\n",
        "# Pass parameter type = 'statistical' or 'minmax'\n",
        "# Note: statistical is better for SVM and KNN.\n",
        "def normalization(data, type='minmax'):\n",
        "    if type == 'statistical':\n",
        "        return stats.zscore(data)\n",
        "    elif type == 'minmax':\n",
        "        scaler = MinMaxScaler()\n",
        "        return scaler.fit_transform(data)\n",
        "    else:\n",
        "        print('\\n Norm type not found! \\n')"
      ],
      "execution_count": 0,
      "outputs": []
    },
    {
      "cell_type": "code",
      "metadata": {
        "id": "82rEkJJldQup",
        "colab_type": "code",
        "outputId": "79f44f02-efb5-4bd3-bcbe-62d040da6f01",
        "colab": {
          "base_uri": "https://localhost:8080/",
          "height": 1000
        }
      },
      "source": [
        "X = normalization(X, 'minmax')\n",
        "print(X[0:5])"
      ],
      "execution_count": 22,
      "outputs": [
        {
          "output_type": "stream",
          "text": [
            "[[7.85714286e-01 5.33247626e-01 5.21739130e-01 7.32550403e-01\n",
            "  8.95522388e-01 1.33333333e-01 1.20068681e-07 9.19490652e-06\n",
            "  1.11887875e-05 1.21568627e-01 1.14173228e-01 0.00000000e+00\n",
            "  0.00000000e+00 1.66666667e-01 8.35794783e-05 4.82907536e-03\n",
            "  1.87863986e-04 1.81521147e-04 0.00000000e+00 0.00000000e+00\n",
            "  0.00000000e+00 0.00000000e+00 4.38829787e-02 5.46666667e-02\n",
            "  0.00000000e+00 0.00000000e+00 0.00000000e+00 0.00000000e+00\n",
            "  1.58479216e-05 0.00000000e+00 2.01489849e-07 2.18541314e-07\n",
            "  0.00000000e+00 0.00000000e+00 0.00000000e+00 0.00000000e+00\n",
            "  0.00000000e+00 0.00000000e+00 0.00000000e+00 0.00000000e+00\n",
            "  3.03030303e-02 9.09090909e-02 0.00000000e+00 3.03030303e-02\n",
            "  0.00000000e+00 0.00000000e+00 0.00000000e+00]\n",
            " [7.85714286e-01 7.01661994e-01 5.86956522e-01 3.91465132e-03\n",
            "  8.95522388e-01 1.33333333e-01 4.11226697e-06 3.67796261e-05\n",
            "  2.07401915e-05 1.21568627e-01 1.14173228e-01 0.00000000e+00\n",
            "  0.00000000e+00 0.00000000e+00 1.46419643e-05 3.92042757e-04\n",
            "  3.75727973e-04 3.63042294e-04 0.00000000e+00 0.00000000e+00\n",
            "  0.00000000e+00 0.00000000e+00 8.77659574e-02 5.06666667e-02\n",
            "  0.00000000e+00 0.00000000e+00 6.66586057e-06 1.36744038e-05\n",
            "  1.58479216e-05 0.00000000e+00 8.30256702e-05 1.27163021e-04\n",
            "  0.00000000e+00 0.00000000e+00 0.00000000e+00 0.00000000e+00\n",
            "  0.00000000e+00 0.00000000e+00 0.00000000e+00 0.00000000e+00\n",
            "  1.51515152e-02 4.54545455e-02 1.51515152e-02 3.03030303e-02\n",
            "  0.00000000e+00 0.00000000e+00 1.51515152e-02]\n",
            " [9.28571429e-01 5.39559486e-01 5.43478261e-01 7.32550403e-01\n",
            "  8.95522388e-01 1.33333333e-01 1.27352468e-07 1.01701239e-05\n",
            "  1.21439279e-05 1.21568627e-01 1.14173228e-01 0.00000000e+00\n",
            "  0.00000000e+00 1.66666667e-01 8.71567316e-05 4.94154214e-03\n",
            "  1.87863986e-04 1.81521147e-04 0.00000000e+00 0.00000000e+00\n",
            "  0.00000000e+00 0.00000000e+00 4.85372340e-02 5.93333333e-02\n",
            "  0.00000000e+00 0.00000000e+00 0.00000000e+00 0.00000000e+00\n",
            "  1.58479216e-05 0.00000000e+00 2.01489849e-07 2.18541314e-07\n",
            "  0.00000000e+00 0.00000000e+00 0.00000000e+00 0.00000000e+00\n",
            "  0.00000000e+00 0.00000000e+00 0.00000000e+00 0.00000000e+00\n",
            "  1.66666667e-01 1.06060606e-01 0.00000000e+00 1.51515152e-02\n",
            "  1.51515152e-02 0.00000000e+00 0.00000000e+00]\n",
            " [9.04761905e-01 7.20984805e-01 5.00000000e-01 7.32550403e-01\n",
            "  8.95522388e-01 1.33333333e-01 1.37595294e-07 9.19490652e-06\n",
            "  1.11887875e-05 1.21568627e-01 1.14173228e-01 0.00000000e+00\n",
            "  0.00000000e+00 1.66666667e-01 7.29332906e-05 4.21395747e-03\n",
            "  1.87863986e-04 1.81521147e-04 0.00000000e+00 0.00000000e+00\n",
            "  0.00000000e+00 0.00000000e+00 4.38829787e-02 5.46666667e-02\n",
            "  0.00000000e+00 0.00000000e+00 0.00000000e+00 0.00000000e+00\n",
            "  1.58479216e-05 0.00000000e+00 5.09650795e-07 2.35352184e-07\n",
            "  0.00000000e+00 0.00000000e+00 0.00000000e+00 0.00000000e+00\n",
            "  0.00000000e+00 0.00000000e+00 0.00000000e+00 0.00000000e+00\n",
            "  7.57575758e-02 1.21212121e-01 0.00000000e+00 0.00000000e+00\n",
            "  0.00000000e+00 0.00000000e+00 0.00000000e+00]\n",
            " [8.57142857e-01 8.38005917e-01 1.73913043e-01 7.32550403e-01\n",
            "  8.95522388e-01 1.33333333e-01 1.33042927e-07 1.01701239e-05\n",
            "  1.21439279e-05 1.21568627e-01 1.14173228e-01 0.00000000e+00\n",
            "  0.00000000e+00 1.66666667e-01 8.34288959e-05 4.73018450e-03\n",
            "  1.87863986e-04 1.81521147e-04 0.00000000e+00 0.00000000e+00\n",
            "  0.00000000e+00 0.00000000e+00 4.85372340e-02 5.93333333e-02\n",
            "  0.00000000e+00 0.00000000e+00 0.00000000e+00 0.00000000e+00\n",
            "  1.58479216e-05 0.00000000e+00 5.92617203e-08 5.04326109e-08\n",
            "  0.00000000e+00 0.00000000e+00 0.00000000e+00 0.00000000e+00\n",
            "  0.00000000e+00 0.00000000e+00 0.00000000e+00 0.00000000e+00\n",
            "  9.09090909e-02 1.21212121e-01 0.00000000e+00 0.00000000e+00\n",
            "  0.00000000e+00 0.00000000e+00 0.00000000e+00]]\n"
          ],
          "name": "stdout"
        }
      ]
    },
    {
      "cell_type": "code",
      "metadata": {
        "id": "FSLLbuNrdQur",
        "colab_type": "code",
        "outputId": "4c816577-23a5-46c1-822e-e389c798b5a1",
        "colab": {
          "base_uri": "https://localhost:8080/",
          "height": 141
        }
      },
      "source": [
        "print(X)"
      ],
      "execution_count": 23,
      "outputs": [
        {
          "output_type": "stream",
          "text": [
            "[[0.78571429 0.53324763 0.52173913 ... 0.         0.         0.        ]\n",
            " [0.78571429 0.70166199 0.58695652 ... 0.         0.         0.01515152]\n",
            " [0.92857143 0.53955949 0.54347826 ... 0.01515152 0.         0.        ]\n",
            " ...\n",
            " [0.85714286 0.15921377 0.58695652 ... 0.01515152 0.01694915 0.01515152]\n",
            " [1.         0.26703428 0.17391304 ... 0.01515152 0.01694915 0.01515152]\n",
            " [0.66666667 0.12654699 0.36956522 ... 0.01515152 0.01694915 0.01515152]]\n"
          ],
          "name": "stdout"
        }
      ]
    },
    {
      "cell_type": "code",
      "metadata": {
        "id": "UWzL8vFveacY",
        "colab_type": "code",
        "colab": {
          "base_uri": "https://localhost:8080/",
          "height": 72
        },
        "outputId": "4aed7fed-096a-4e09-f131-f576fccfeaa5"
      },
      "source": [
        "from sklearn.ensemble.forest import RandomForestClassifier\n",
        "from sklearn.feature_selection import SelectFromModel"
      ],
      "execution_count": 24,
      "outputs": [
        {
          "output_type": "stream",
          "text": [
            "/usr/local/lib/python3.6/dist-packages/sklearn/utils/deprecation.py:144: FutureWarning: The sklearn.ensemble.forest module is  deprecated in version 0.22 and will be removed in version 0.24. The corresponding classes / functions should instead be imported from sklearn.ensemble. Anything that cannot be imported from sklearn.ensemble is now part of the private API.\n",
            "  warnings.warn(message, FutureWarning)\n"
          ],
          "name": "stderr"
        }
      ]
    },
    {
      "cell_type": "code",
      "metadata": {
        "id": "987dG0_XgeSr",
        "colab_type": "code",
        "outputId": "9c398498-3497-44bb-a666-04b9d8416f90",
        "colab": {
          "base_uri": "https://localhost:8080/",
          "height": 215
        }
      },
      "source": [
        "sel = (RandomForestClassifier(n_estimators = 100))\n",
        "sel.fit(X, y_cat)"
      ],
      "execution_count": 25,
      "outputs": [
        {
          "output_type": "stream",
          "text": [
            "/usr/local/lib/python3.6/dist-packages/ipykernel_launcher.py:2: DataConversionWarning: A column-vector y was passed when a 1d array was expected. Please change the shape of y to (n_samples,), for example using ravel().\n",
            "  \n"
          ],
          "name": "stderr"
        },
        {
          "output_type": "execute_result",
          "data": {
            "text/plain": [
              "RandomForestClassifier(bootstrap=True, ccp_alpha=0.0, class_weight=None,\n",
              "                       criterion='gini', max_depth=None, max_features='auto',\n",
              "                       max_leaf_nodes=None, max_samples=None,\n",
              "                       min_impurity_decrease=0.0, min_impurity_split=None,\n",
              "                       min_samples_leaf=1, min_samples_split=2,\n",
              "                       min_weight_fraction_leaf=0.0, n_estimators=100,\n",
              "                       n_jobs=None, oob_score=False, random_state=None,\n",
              "                       verbose=0, warm_start=False)"
            ]
          },
          "metadata": {
            "tags": []
          },
          "execution_count": 25
        }
      ]
    },
    {
      "cell_type": "code",
      "metadata": {
        "id": "hlmBuJp_m3QW",
        "colab_type": "code",
        "outputId": "b88a3e96-d64a-4ec4-f18c-30eb2e2b7984",
        "colab": {
          "base_uri": "https://localhost:8080/",
          "height": 230
        }
      },
      "source": [
        "features=[]\n",
        "print(sel.feature_importances_)\n",
        "features=(sel.feature_importances_).tolist()"
      ],
      "execution_count": 26,
      "outputs": [
        {
          "output_type": "stream",
          "text": [
            "[7.18945119e-02 1.39693562e-02 4.30902532e-02 2.95797710e-02\n",
            " 5.33898869e-03 1.82960608e-02 4.59678071e-03 1.32825946e-01\n",
            " 3.39683510e-02 1.55035182e-01 2.00291714e-02 3.18411318e-03\n",
            " 4.57632940e-03 1.64159837e-02 5.78780889e-02 4.84835883e-03\n",
            " 2.73908911e-03 1.95827817e-02 1.33820937e-03 1.31822409e-03\n",
            " 3.21338924e-03 2.22198177e-03 5.10854867e-02 2.92120155e-02\n",
            " 7.40560240e-04 1.25547831e-03 4.92004787e-03 3.59974373e-03\n",
            " 6.38862266e-03 6.31503390e-03 8.11200918e-03 3.65142299e-03\n",
            " 9.00559769e-03 7.81679398e-03 1.30738672e-02 2.56818951e-04\n",
            " 1.17153916e-01 7.97379243e-04 2.25001666e-05 2.04752824e-05\n",
            " 1.47314858e-02 1.13451917e-02 7.91529495e-03 7.24416141e-03\n",
            " 1.97028042e-02 1.83982216e-02 1.12941493e-02]\n"
          ],
          "name": "stdout"
        }
      ]
    },
    {
      "cell_type": "code",
      "metadata": {
        "id": "-_eUMbkI_Efe",
        "colab_type": "code",
        "outputId": "723b27fb-6a8f-4793-a3f7-8a63eed1e121",
        "colab": {
          "base_uri": "https://localhost:8080/",
          "height": 72
        }
      },
      "source": [
        "print(\"Features sorted by their score:\")\n",
        "print(sorted(zip(map(lambda x: round(x, 4), sel.feature_importances_), column_attributes), \n",
        "             reverse=True))"
      ],
      "execution_count": 27,
      "outputs": [
        {
          "output_type": "stream",
          "text": [
            "Features sorted by their score:\n",
            "[(0.155, 'sttl'), (0.1328, 'sbytes'), (0.1172, 'ct_state_ttl'), (0.0719, 'srcip'), (0.0579, 'Sload'), (0.0511, 'smeansz'), (0.0431, 'dstip'), (0.034, 'dbytes'), (0.0296, 'dsport'), (0.0292, 'dmeansz'), (0.02, 'dttl'), (0.0197, 'ct_src_dport_ltm'), (0.0196, 'Dpkts'), (0.0184, 'ct_dst_sport_ltm'), (0.0183, 'state'), (0.0164, 'service'), (0.0147, 'ct_srv_src'), (0.014, 'sport'), (0.0131, 'ackdat'), (0.0113, 'ct_srv_dst'), (0.0113, 'ct_dst_src_ltm'), (0.009, 'tcprtt'), (0.0081, 'Sintpkt'), (0.0079, 'ct_dst_ltm'), (0.0078, 'synack'), (0.0072, 'ct_src_ ltm'), (0.0064, 'Stime'), (0.0063, 'Ltime'), (0.0053, 'proto'), (0.0049, 'Sjit'), (0.0048, 'Dload'), (0.0046, 'dur'), (0.0046, 'dloss'), (0.0037, 'Dintpkt'), (0.0036, 'Djit'), (0.0032, 'stcpb'), (0.0032, 'sloss'), (0.0027, 'Spkts'), (0.0022, 'dtcpb'), (0.0013, 'swin'), (0.0013, 'res_bdy_len'), (0.0013, 'dwin'), (0.0008, 'ct_flw_http_mthd'), (0.0007, 'trans_depth'), (0.0003, 'is_sm_ips_ports'), (0.0, 'is_ftp_login'), (0.0, 'ct_ftp_cmd')]\n"
          ],
          "name": "stdout"
        }
      ]
    },
    {
      "cell_type": "code",
      "metadata": {
        "id": "2vKTKUR1wd21",
        "colab_type": "code",
        "outputId": "6c764c22-e853-46df-c4c3-4ccf1b9f97fd",
        "colab": {
          "base_uri": "https://localhost:8080/",
          "height": 72
        }
      },
      "source": [
        "#selecting features\n",
        "sfm = SelectFromModel(sel, threshold=0.002)\n",
        "sfm.fit(X,y_cat)\n",
        "X= sfm.transform(X)"
      ],
      "execution_count": 28,
      "outputs": [
        {
          "output_type": "stream",
          "text": [
            "/usr/local/lib/python3.6/dist-packages/sklearn/feature_selection/_from_model.py:222: DataConversionWarning: A column-vector y was passed when a 1d array was expected. Please change the shape of y to (n_samples,), for example using ravel().\n",
            "  self.estimator_.fit(X, y, **fit_params)\n"
          ],
          "name": "stderr"
        }
      ]
    },
    {
      "cell_type": "code",
      "metadata": {
        "id": "s-cnffhYE0no",
        "colab_type": "code",
        "outputId": "59e552f2-b09a-4eab-c096-08e4f0ae977b",
        "colab": {
          "base_uri": "https://localhost:8080/",
          "height": 35
        }
      },
      "source": [
        "X.shape"
      ],
      "execution_count": 29,
      "outputs": [
        {
          "output_type": "execute_result",
          "data": {
            "text/plain": [
              "(2540047, 39)"
            ]
          },
          "metadata": {
            "tags": []
          },
          "execution_count": 29
        }
      ]
    },
    {
      "cell_type": "code",
      "metadata": {
        "id": "wSPgORL_XrwL",
        "colab_type": "code",
        "outputId": "13c2eb50-f9d7-4d89-e049-f0ea9c56ea42",
        "colab": {
          "base_uri": "https://localhost:8080/",
          "height": 195
        }
      },
      "source": [
        "from collections import Counter\n",
        "Counter(Y['attack_cat'])"
      ],
      "execution_count": 30,
      "outputs": [
        {
          "output_type": "execute_result",
          "data": {
            "text/plain": [
              "Counter({0: 2218764,\n",
              "         1: 44525,\n",
              "         2: 13987,\n",
              "         3: 16353,\n",
              "         4: 215481,\n",
              "         5: 1511,\n",
              "         6: 24246,\n",
              "         7: 174,\n",
              "         8: 2329,\n",
              "         9: 2677})"
            ]
          },
          "metadata": {
            "tags": []
          },
          "execution_count": 30
        }
      ]
    },
    {
      "cell_type": "code",
      "metadata": {
        "id": "cR9OtOFWZKYP",
        "colab_type": "code",
        "colab": {}
      },
      "source": [
        "filter_list = [(x,y) for (x,y) in zip(X,Y['attack_cat'])if (y ==0 or y== 4)]"
      ],
      "execution_count": 0,
      "outputs": []
    },
    {
      "cell_type": "code",
      "metadata": {
        "id": "3fr87Y7abPi6",
        "colab_type": "code",
        "colab": {}
      },
      "source": [
        "x = []\n",
        "y = []\n",
        "for i , val in enumerate(filter_list):\n",
        "  x.append(val[0])\n",
        "  y.append(val[1])"
      ],
      "execution_count": 0,
      "outputs": []
    },
    {
      "cell_type": "code",
      "metadata": {
        "id": "FH4eh38_Q3l-",
        "colab_type": "code",
        "outputId": "ccd128c3-4be5-4711-8fa1-1d7575493423",
        "colab": {
          "base_uri": "https://localhost:8080/",
          "height": 90
        }
      },
      "source": [
        "from sklearn.datasets import make_classification\n",
        "from imblearn.under_sampling import RandomUnderSampler\n",
        "from collections import Counter\n",
        "rus = RandomUnderSampler(random_state=42)\n",
        "X_res, y_res = rus.fit_resample(x, y)\n",
        "print('Resampled dataset shape %s' % Counter(y_res))"
      ],
      "execution_count": 49,
      "outputs": [
        {
          "output_type": "stream",
          "text": [
            "Resampled dataset shape Counter({0: 215481, 4: 215481})\n"
          ],
          "name": "stdout"
        },
        {
          "output_type": "stream",
          "text": [
            "/usr/local/lib/python3.6/dist-packages/sklearn/utils/deprecation.py:87: FutureWarning: Function safe_indexing is deprecated; safe_indexing is deprecated in version 0.22 and will be removed in version 0.24.\n",
            "  warnings.warn(msg, category=FutureWarning)\n"
          ],
          "name": "stderr"
        }
      ]
    },
    {
      "cell_type": "code",
      "metadata": {
        "id": "KFgDoiPlQ6ix",
        "colab_type": "code",
        "colab": {}
      },
      "source": [
        "filter_other_cat = [(x,y) for (x,y) in zip(X,Y['attack_cat'])if (y!=0 and y!=4)]"
      ],
      "execution_count": 0,
      "outputs": []
    },
    {
      "cell_type": "code",
      "metadata": {
        "id": "0p7l_svlZXAo",
        "colab_type": "code",
        "outputId": "f3f671ce-93fb-4522-a292-60f972f9ad7e",
        "colab": {
          "base_uri": "https://localhost:8080/",
          "height": 35
        }
      },
      "source": [
        "len(filter_other_cat)"
      ],
      "execution_count": 51,
      "outputs": [
        {
          "output_type": "execute_result",
          "data": {
            "text/plain": [
              "105802"
            ]
          },
          "metadata": {
            "tags": []
          },
          "execution_count": 51
        }
      ]
    },
    {
      "cell_type": "code",
      "metadata": {
        "id": "QPRHntn5SJMP",
        "colab_type": "code",
        "colab": {}
      },
      "source": [
        "x_other = []\n",
        "y_other = []\n",
        "for i , val in enumerate(filter_other_cat):\n",
        "  x_other.append(val[0])\n",
        "  y_other.append(val[1])"
      ],
      "execution_count": 0,
      "outputs": []
    },
    {
      "cell_type": "code",
      "metadata": {
        "id": "yFP2bg73YroB",
        "colab_type": "code",
        "colab": {}
      },
      "source": [
        "dataset_1 = pd.DataFrame(X_res)"
      ],
      "execution_count": 0,
      "outputs": []
    },
    {
      "cell_type": "code",
      "metadata": {
        "id": "KYdJTvJUYua1",
        "colab_type": "code",
        "colab": {}
      },
      "source": [
        "dataset_1['attack_cat'] = y_res"
      ],
      "execution_count": 0,
      "outputs": []
    },
    {
      "cell_type": "code",
      "metadata": {
        "id": "T9Y-Go49Ywcr",
        "colab_type": "code",
        "colab": {}
      },
      "source": [
        "dataset_2 = pd.DataFrame(x_other)"
      ],
      "execution_count": 0,
      "outputs": []
    },
    {
      "cell_type": "code",
      "metadata": {
        "id": "o9P_AfieYzJf",
        "colab_type": "code",
        "colab": {}
      },
      "source": [
        "dataset_2['attack_cat'] = y_other"
      ],
      "execution_count": 0,
      "outputs": []
    },
    {
      "cell_type": "code",
      "metadata": {
        "id": "BtWx8iEAZQDt",
        "colab_type": "code",
        "colab": {}
      },
      "source": [
        "dataset_merged = pd.concat([dataset_1, dataset_2])"
      ],
      "execution_count": 0,
      "outputs": []
    },
    {
      "cell_type": "code",
      "metadata": {
        "id": "8lC_cJUbaQp4",
        "colab_type": "code",
        "outputId": "b4a11118-b5a9-477d-c2e2-f59ca92af3c7",
        "colab": {
          "base_uri": "https://localhost:8080/",
          "height": 35
        }
      },
      "source": [
        "dataset_merged.shape"
      ],
      "execution_count": 58,
      "outputs": [
        {
          "output_type": "execute_result",
          "data": {
            "text/plain": [
              "(536764, 40)"
            ]
          },
          "metadata": {
            "tags": []
          },
          "execution_count": 58
        }
      ]
    },
    {
      "cell_type": "code",
      "metadata": {
        "id": "Qj1UNAqAaYwr",
        "colab_type": "code",
        "colab": {}
      },
      "source": [
        "from sklearn.utils import shuffle\n",
        "dataset = shuffle(dataset_merged).reset_index(drop=True)"
      ],
      "execution_count": 0,
      "outputs": []
    },
    {
      "cell_type": "code",
      "metadata": {
        "id": "q1Zj5XyHbuUv",
        "colab_type": "code",
        "colab": {}
      },
      "source": [
        "from imblearn.over_sampling import SMOTE"
      ],
      "execution_count": 0,
      "outputs": []
    },
    {
      "cell_type": "code",
      "metadata": {
        "id": "ZA3CafV3cHq_",
        "colab_type": "code",
        "colab": {}
      },
      "source": [
        "# Define class instance ratio to oversample all other class labels\n",
        "\n",
        "sm = SMOTE(ratio = {0:216000, 4:216000, 1:100000, 6:90000, 3:80000, 2:70000, 9:50000, 8:45000, 5:40000,7:40000 },random_state=42,k_neighbors=5)\n"
      ],
      "execution_count": 0,
      "outputs": []
    },
    {
      "cell_type": "code",
      "metadata": {
        "id": "3D00zUlLd1mq",
        "colab_type": "code",
        "outputId": "9538e999-c391-4d69-c27e-d5313bf2b7ba",
        "colab": {
          "base_uri": "https://localhost:8080/",
          "height": 481
        }
      },
      "source": [
        "  X_sm, Y_sm = sm.fit_sample(dataset.iloc[:,0:39],dataset.iloc[:,-1])\n",
        "  print(\"After balancing the samples among class lables: \",Counter(Y_sm))"
      ],
      "execution_count": 65,
      "outputs": [
        {
          "output_type": "stream",
          "text": [
            "/usr/local/lib/python3.6/dist-packages/imblearn/utils/_validation.py:257: UserWarning: After over-sampling, the number of samples (216000) in class 0 will be larger than the number of samples in the majority class (class #0 -> 215481)\n",
            "  n_samples_majority))\n",
            "/usr/local/lib/python3.6/dist-packages/imblearn/utils/_validation.py:257: UserWarning: After over-sampling, the number of samples (216000) in class 4 will be larger than the number of samples in the majority class (class #0 -> 215481)\n",
            "  n_samples_majority))\n",
            "/usr/local/lib/python3.6/dist-packages/sklearn/utils/deprecation.py:87: FutureWarning: Function safe_indexing is deprecated; safe_indexing is deprecated in version 0.22 and will be removed in version 0.24.\n",
            "  warnings.warn(msg, category=FutureWarning)\n",
            "/usr/local/lib/python3.6/dist-packages/sklearn/utils/deprecation.py:87: FutureWarning: Function safe_indexing is deprecated; safe_indexing is deprecated in version 0.22 and will be removed in version 0.24.\n",
            "  warnings.warn(msg, category=FutureWarning)\n",
            "/usr/local/lib/python3.6/dist-packages/sklearn/utils/deprecation.py:87: FutureWarning: Function safe_indexing is deprecated; safe_indexing is deprecated in version 0.22 and will be removed in version 0.24.\n",
            "  warnings.warn(msg, category=FutureWarning)\n",
            "/usr/local/lib/python3.6/dist-packages/sklearn/utils/deprecation.py:87: FutureWarning: Function safe_indexing is deprecated; safe_indexing is deprecated in version 0.22 and will be removed in version 0.24.\n",
            "  warnings.warn(msg, category=FutureWarning)\n",
            "/usr/local/lib/python3.6/dist-packages/sklearn/utils/deprecation.py:87: FutureWarning: Function safe_indexing is deprecated; safe_indexing is deprecated in version 0.22 and will be removed in version 0.24.\n",
            "  warnings.warn(msg, category=FutureWarning)\n",
            "/usr/local/lib/python3.6/dist-packages/sklearn/utils/deprecation.py:87: FutureWarning: Function safe_indexing is deprecated; safe_indexing is deprecated in version 0.22 and will be removed in version 0.24.\n",
            "  warnings.warn(msg, category=FutureWarning)\n",
            "/usr/local/lib/python3.6/dist-packages/sklearn/utils/deprecation.py:87: FutureWarning: Function safe_indexing is deprecated; safe_indexing is deprecated in version 0.22 and will be removed in version 0.24.\n",
            "  warnings.warn(msg, category=FutureWarning)\n",
            "/usr/local/lib/python3.6/dist-packages/sklearn/utils/deprecation.py:87: FutureWarning: Function safe_indexing is deprecated; safe_indexing is deprecated in version 0.22 and will be removed in version 0.24.\n",
            "  warnings.warn(msg, category=FutureWarning)\n",
            "/usr/local/lib/python3.6/dist-packages/sklearn/utils/deprecation.py:87: FutureWarning: Function safe_indexing is deprecated; safe_indexing is deprecated in version 0.22 and will be removed in version 0.24.\n",
            "  warnings.warn(msg, category=FutureWarning)\n",
            "/usr/local/lib/python3.6/dist-packages/sklearn/utils/deprecation.py:87: FutureWarning: Function safe_indexing is deprecated; safe_indexing is deprecated in version 0.22 and will be removed in version 0.24.\n",
            "  warnings.warn(msg, category=FutureWarning)\n"
          ],
          "name": "stderr"
        },
        {
          "output_type": "stream",
          "text": [
            "After balancing the samples among class lables:  Counter({0: 216000, 4: 216000, 1: 100000, 6: 90000, 3: 80000, 2: 70000, 9: 50000, 8: 45000, 5: 40000, 7: 40000})\n"
          ],
          "name": "stdout"
        }
      ]
    },
    {
      "cell_type": "code",
      "metadata": {
        "id": "IUW245yqRZUn",
        "colab_type": "code",
        "colab": {
          "base_uri": "https://localhost:8080/",
          "height": 305
        },
        "outputId": "91e2972f-c33d-44e6-f8d8-90f5a7bb800b"
      },
      "source": [
        "dataset.loc[dataset['attack_cat']==0,'label'] = str(0)\n",
        "dataset.loc[dataset['attack_cat']!=0,'label'] = str(1)\n",
        "dataset[0:5]"
      ],
      "execution_count": 68,
      "outputs": [
        {
          "output_type": "execute_result",
          "data": {
            "text/html": [
              "<div>\n",
              "<style scoped>\n",
              "    .dataframe tbody tr th:only-of-type {\n",
              "        vertical-align: middle;\n",
              "    }\n",
              "\n",
              "    .dataframe tbody tr th {\n",
              "        vertical-align: top;\n",
              "    }\n",
              "\n",
              "    .dataframe thead th {\n",
              "        text-align: right;\n",
              "    }\n",
              "</style>\n",
              "<table border=\"1\" class=\"dataframe\">\n",
              "  <thead>\n",
              "    <tr style=\"text-align: right;\">\n",
              "      <th></th>\n",
              "      <th>0</th>\n",
              "      <th>1</th>\n",
              "      <th>2</th>\n",
              "      <th>3</th>\n",
              "      <th>4</th>\n",
              "      <th>5</th>\n",
              "      <th>6</th>\n",
              "      <th>7</th>\n",
              "      <th>8</th>\n",
              "      <th>9</th>\n",
              "      <th>10</th>\n",
              "      <th>11</th>\n",
              "      <th>12</th>\n",
              "      <th>13</th>\n",
              "      <th>14</th>\n",
              "      <th>15</th>\n",
              "      <th>16</th>\n",
              "      <th>17</th>\n",
              "      <th>18</th>\n",
              "      <th>19</th>\n",
              "      <th>20</th>\n",
              "      <th>21</th>\n",
              "      <th>22</th>\n",
              "      <th>23</th>\n",
              "      <th>24</th>\n",
              "      <th>25</th>\n",
              "      <th>26</th>\n",
              "      <th>27</th>\n",
              "      <th>28</th>\n",
              "      <th>29</th>\n",
              "      <th>30</th>\n",
              "      <th>31</th>\n",
              "      <th>32</th>\n",
              "      <th>33</th>\n",
              "      <th>34</th>\n",
              "      <th>35</th>\n",
              "      <th>36</th>\n",
              "      <th>37</th>\n",
              "      <th>38</th>\n",
              "      <th>attack_cat</th>\n",
              "      <th>label</th>\n",
              "    </tr>\n",
              "  </thead>\n",
              "  <tbody>\n",
              "    <tr>\n",
              "      <th>0</th>\n",
              "      <td>0.976190</td>\n",
              "      <td>0.526727</td>\n",
              "      <td>0.478261</td>\n",
              "      <td>0.732550</td>\n",
              "      <td>0.895522</td>\n",
              "      <td>0.133333</td>\n",
              "      <td>1.166544e-07</td>\n",
              "      <td>0.000010</td>\n",
              "      <td>0.000012</td>\n",
              "      <td>0.121569</td>\n",
              "      <td>0.114173</td>\n",
              "      <td>0.000000</td>\n",
              "      <td>0.000000</td>\n",
              "      <td>0.166667</td>\n",
              "      <td>0.000095</td>\n",
              "      <td>0.005395</td>\n",
              "      <td>0.000188</td>\n",
              "      <td>0.000182</td>\n",
              "      <td>0.000000</td>\n",
              "      <td>0.000000</td>\n",
              "      <td>0.048537</td>\n",
              "      <td>0.059333</td>\n",
              "      <td>0.000000</td>\n",
              "      <td>0.000000</td>\n",
              "      <td>0.006704</td>\n",
              "      <td>0.006688</td>\n",
              "      <td>1.185234e-07</td>\n",
              "      <td>1.344870e-07</td>\n",
              "      <td>0.000000</td>\n",
              "      <td>0.00000</td>\n",
              "      <td>0.000000</td>\n",
              "      <td>0.000000</td>\n",
              "      <td>0.090909</td>\n",
              "      <td>0.045455</td>\n",
              "      <td>0.015152</td>\n",
              "      <td>0.121212</td>\n",
              "      <td>0.015152</td>\n",
              "      <td>0.000000</td>\n",
              "      <td>0.015152</td>\n",
              "      <td>0</td>\n",
              "      <td>0</td>\n",
              "    </tr>\n",
              "    <tr>\n",
              "      <th>1</th>\n",
              "      <td>0.690476</td>\n",
              "      <td>0.000697</td>\n",
              "      <td>0.304348</td>\n",
              "      <td>0.732550</td>\n",
              "      <td>0.895522</td>\n",
              "      <td>0.400000</td>\n",
              "      <td>6.828551e-10</td>\n",
              "      <td>0.000008</td>\n",
              "      <td>0.000000</td>\n",
              "      <td>0.996078</td>\n",
              "      <td>0.000000</td>\n",
              "      <td>0.000000</td>\n",
              "      <td>0.000000</td>\n",
              "      <td>0.166667</td>\n",
              "      <td>0.012692</td>\n",
              "      <td>0.000000</td>\n",
              "      <td>0.000188</td>\n",
              "      <td>0.000000</td>\n",
              "      <td>0.000000</td>\n",
              "      <td>0.000000</td>\n",
              "      <td>0.037899</td>\n",
              "      <td>0.000000</td>\n",
              "      <td>0.000000</td>\n",
              "      <td>0.000000</td>\n",
              "      <td>0.995715</td>\n",
              "      <td>0.995714</td>\n",
              "      <td>7.111406e-08</td>\n",
              "      <td>0.000000e+00</td>\n",
              "      <td>0.000000</td>\n",
              "      <td>0.00000</td>\n",
              "      <td>0.000000</td>\n",
              "      <td>0.333333</td>\n",
              "      <td>0.272727</td>\n",
              "      <td>0.272727</td>\n",
              "      <td>0.000000</td>\n",
              "      <td>0.000000</td>\n",
              "      <td>0.000000</td>\n",
              "      <td>0.000000</td>\n",
              "      <td>0.272727</td>\n",
              "      <td>4</td>\n",
              "      <td>1</td>\n",
              "    </tr>\n",
              "    <tr>\n",
              "      <th>2</th>\n",
              "      <td>0.690476</td>\n",
              "      <td>0.000697</td>\n",
              "      <td>0.391304</td>\n",
              "      <td>0.732550</td>\n",
              "      <td>0.895522</td>\n",
              "      <td>0.400000</td>\n",
              "      <td>1.024283e-09</td>\n",
              "      <td>0.000008</td>\n",
              "      <td>0.000000</td>\n",
              "      <td>0.996078</td>\n",
              "      <td>0.000000</td>\n",
              "      <td>0.000000</td>\n",
              "      <td>0.000000</td>\n",
              "      <td>0.166667</td>\n",
              "      <td>0.008461</td>\n",
              "      <td>0.000000</td>\n",
              "      <td>0.000188</td>\n",
              "      <td>0.000000</td>\n",
              "      <td>0.000000</td>\n",
              "      <td>0.000000</td>\n",
              "      <td>0.037899</td>\n",
              "      <td>0.000000</td>\n",
              "      <td>0.000000</td>\n",
              "      <td>0.000000</td>\n",
              "      <td>0.990549</td>\n",
              "      <td>0.990548</td>\n",
              "      <td>1.066711e-07</td>\n",
              "      <td>0.000000e+00</td>\n",
              "      <td>0.000000</td>\n",
              "      <td>0.00000</td>\n",
              "      <td>0.000000</td>\n",
              "      <td>0.333333</td>\n",
              "      <td>0.409091</td>\n",
              "      <td>0.409091</td>\n",
              "      <td>0.363636</td>\n",
              "      <td>0.348485</td>\n",
              "      <td>0.348485</td>\n",
              "      <td>0.389831</td>\n",
              "      <td>0.409091</td>\n",
              "      <td>4</td>\n",
              "      <td>1</td>\n",
              "    </tr>\n",
              "    <tr>\n",
              "      <th>3</th>\n",
              "      <td>0.857143</td>\n",
              "      <td>0.441187</td>\n",
              "      <td>0.565217</td>\n",
              "      <td>0.968698</td>\n",
              "      <td>0.850746</td>\n",
              "      <td>0.333333</td>\n",
              "      <td>1.227856e-04</td>\n",
              "      <td>0.000117</td>\n",
              "      <td>0.000694</td>\n",
              "      <td>0.121569</td>\n",
              "      <td>0.114173</td>\n",
              "      <td>0.000564</td>\n",
              "      <td>0.000908</td>\n",
              "      <td>0.416667</td>\n",
              "      <td>0.000002</td>\n",
              "      <td>0.000553</td>\n",
              "      <td>0.001315</td>\n",
              "      <td>0.001634</td>\n",
              "      <td>0.134589</td>\n",
              "      <td>0.635319</td>\n",
              "      <td>0.079787</td>\n",
              "      <td>0.376667</td>\n",
              "      <td>0.005921</td>\n",
              "      <td>0.009847</td>\n",
              "      <td>0.018732</td>\n",
              "      <td>0.018717</td>\n",
              "      <td>9.833115e-04</td>\n",
              "      <td>1.066375e-03</td>\n",
              "      <td>0.000063</td>\n",
              "      <td>0.00011</td>\n",
              "      <td>0.000024</td>\n",
              "      <td>0.000000</td>\n",
              "      <td>0.015152</td>\n",
              "      <td>0.015152</td>\n",
              "      <td>0.151515</td>\n",
              "      <td>0.000000</td>\n",
              "      <td>0.000000</td>\n",
              "      <td>0.000000</td>\n",
              "      <td>0.000000</td>\n",
              "      <td>0</td>\n",
              "      <td>0</td>\n",
              "    </tr>\n",
              "    <tr>\n",
              "      <th>4</th>\n",
              "      <td>0.714286</td>\n",
              "      <td>0.000000</td>\n",
              "      <td>0.369565</td>\n",
              "      <td>0.000015</td>\n",
              "      <td>0.910448</td>\n",
              "      <td>0.400000</td>\n",
              "      <td>9.104734e-10</td>\n",
              "      <td>0.000014</td>\n",
              "      <td>0.000000</td>\n",
              "      <td>0.996078</td>\n",
              "      <td>0.000000</td>\n",
              "      <td>0.000000</td>\n",
              "      <td>0.000000</td>\n",
              "      <td>0.000000</td>\n",
              "      <td>0.016700</td>\n",
              "      <td>0.000000</td>\n",
              "      <td>0.000188</td>\n",
              "      <td>0.000000</td>\n",
              "      <td>0.000000</td>\n",
              "      <td>0.000000</td>\n",
              "      <td>0.066489</td>\n",
              "      <td>0.000000</td>\n",
              "      <td>0.000000</td>\n",
              "      <td>0.000000</td>\n",
              "      <td>0.998635</td>\n",
              "      <td>0.998634</td>\n",
              "      <td>9.481875e-08</td>\n",
              "      <td>0.000000e+00</td>\n",
              "      <td>0.000000</td>\n",
              "      <td>0.00000</td>\n",
              "      <td>0.000000</td>\n",
              "      <td>0.333333</td>\n",
              "      <td>0.075758</td>\n",
              "      <td>0.075758</td>\n",
              "      <td>0.030303</td>\n",
              "      <td>0.045455</td>\n",
              "      <td>0.030303</td>\n",
              "      <td>0.033898</td>\n",
              "      <td>0.075758</td>\n",
              "      <td>3</td>\n",
              "      <td>1</td>\n",
              "    </tr>\n",
              "  </tbody>\n",
              "</table>\n",
              "</div>"
            ],
            "text/plain": [
              "          0         1         2         3  ...        37        38  attack_cat  label\n",
              "0  0.976190  0.526727  0.478261  0.732550  ...  0.000000  0.015152           0      0\n",
              "1  0.690476  0.000697  0.304348  0.732550  ...  0.000000  0.272727           4      1\n",
              "2  0.690476  0.000697  0.391304  0.732550  ...  0.389831  0.409091           4      1\n",
              "3  0.857143  0.441187  0.565217  0.968698  ...  0.000000  0.000000           0      0\n",
              "4  0.714286  0.000000  0.369565  0.000015  ...  0.033898  0.075758           3      1\n",
              "\n",
              "[5 rows x 41 columns]"
            ]
          },
          "metadata": {
            "tags": []
          },
          "execution_count": 68
        }
      ]
    },
    {
      "cell_type": "code",
      "metadata": {
        "id": "_obxhRh3eDuj",
        "colab_type": "code",
        "outputId": "3352b272-3d7d-48da-ab35-6c977f300fa3",
        "colab": {
          "base_uri": "https://localhost:8080/",
          "height": 55
        }
      },
      "source": [
        "col_names = column_attributes\n",
        "print(col_names)\n",
        "\n",
        "low_variance_cols = ['swin','res_bdy_len','trans_depth','ct_flw_http_mthd','is_sm_ips_ports','dwin','is_ftp_login','ct_ftp_cmd']\n",
        "for val in low_variance_cols:\n",
        "  col_names.remove(val)\n",
        "\n",
        "name = [v.lower() for k, v in enumerate(col_names)]\n",
        "dataset.columns = name\n"
      ],
      "execution_count": 82,
      "outputs": [
        {
          "output_type": "stream",
          "text": [
            "['srcip', 'sport', 'dstip', 'dsport', 'proto', 'state', 'dur', 'sbytes', 'dbytes', 'sttl', 'dttl', 'sloss', 'dloss', 'service', 'Sload', 'Dload', 'Spkts', 'Dpkts', 'swin', 'dwin', 'stcpb', 'dtcpb', 'smeansz', 'dmeansz', 'trans_depth', 'res_bdy_len', 'Sjit', 'Djit', 'Stime', 'Ltime', 'Sintpkt', 'Dintpkt', 'tcprtt', 'synack', 'ackdat', 'is_sm_ips_ports', 'ct_state_ttl', 'ct_flw_http_mthd', 'is_ftp_login', 'ct_ftp_cmd', 'ct_srv_src', 'ct_srv_dst', 'ct_dst_ltm', 'ct_src_ ltm', 'ct_src_dport_ltm', 'ct_dst_sport_ltm', 'ct_dst_src_ltm', 'attack_cat', 'Label']\n"
          ],
          "name": "stdout"
        }
      ]
    },
    {
      "cell_type": "code",
      "metadata": {
        "id": "Pe8w76dzOtwH",
        "colab_type": "code",
        "colab": {}
      },
      "source": [
        "dataset.to_csv('final_dataset.csv')"
      ],
      "execution_count": 0,
      "outputs": []
    },
    {
      "cell_type": "code",
      "metadata": {
        "id": "uzyB0QX-Tj2I",
        "colab_type": "code",
        "colab": {}
      },
      "source": [
        ""
      ],
      "execution_count": 0,
      "outputs": []
    }
  ]
}